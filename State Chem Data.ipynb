{
 "cells": [
  {
   "cell_type": "code",
   "execution_count": 1,
   "metadata": {
    "collapsed": false
   },
   "outputs": [
    {
     "name": "stderr",
     "output_type": "stream",
     "text": [
      "C:\\WinPython-64bit-2.7.10.3\\python-2.7.10.amd64\\lib\\site-packages\\pandas\\computation\\__init__.py:19: UserWarning: The installed version of numexpr 2.4.4 is not supported in pandas and will be not be used\n",
      "\n",
      "  UserWarning)\n"
     ]
    }
   ],
   "source": [
    "%matplotlib inline\n",
    "import pandas as pd\n",
    "import numpy as np\n",
    "import matplotlib.pyplot as plt\n",
    "import matplotlib.dates as dates\n",
    "import scipy.stats as sp\n",
    "#import statsmodels.api as sm\n",
    "from pandas.stats.api import ols\n",
    "from datetime import datetime\n",
    "from pylab import rcParams\n",
    "import sys\n",
    "import platform\n",
    "import scipy\n",
    "import os\n",
    "rcParams['figure.figsize'] = 15, 10\n",
    "plt.rc('svg', fonttype = 'svgfont')"
   ]
  },
  {
   "cell_type": "code",
   "execution_count": 2,
   "metadata": {
    "collapsed": true
   },
   "outputs": [],
   "source": [
    "import wellapplication as wa"
   ]
  },
  {
   "cell_type": "code",
   "execution_count": 3,
   "metadata": {
    "collapsed": true
   },
   "outputs": [],
   "source": [
    "import wellapplication.transport as wt"
   ]
  },
  {
   "cell_type": "code",
   "execution_count": 4,
   "metadata": {
    "collapsed": false
   },
   "outputs": [
    {
     "name": "stdout",
     "output_type": "stream",
     "text": [
      "Operating System Windows 7\n",
      "Python Version 2.7.10 (default, May 23 2015, 09:40:32) [MSC v.1500 32 bit (Intel)]\n",
      "Pandas Version 0.18.1\n",
      "Numpy Version 1.11.0\n",
      "Well Application Version 0.2.10\n",
      "Scipy Version 0.17.0\n"
     ]
    }
   ],
   "source": [
    "print(\"Operating System \" + platform.system() + \" \" + platform.release())\n",
    "print(\"Python Version \" + str(sys.version))\n",
    "print(\"Pandas Version \" + str(pd.__version__))\n",
    "print(\"Numpy Version \" + str(np.__version__))\n",
    "print(\"Well Application Version \" + str(wa.__version__))\n",
    "print(\"Scipy Version \" +str(scipy.__version__))"
   ]
  },
  {
   "cell_type": "code",
   "execution_count": 28,
   "metadata": {
    "collapsed": false
   },
   "outputs": [
    {
     "name": "stdout",
     "output_type": "stream",
     "text": [
      "utgs1402.txt\n",
      "utgs1403.txt\n",
      "utgs1501.txt\n"
     ]
    },
    {
     "name": "stderr",
     "output_type": "stream",
     "text": [
      "Skipping line 11: expected 43 fields, saw 44\n",
      "Skipping line 19: expected 43 fields, saw 44\n",
      "Skipping line 238: expected 43 fields, saw 44\n",
      "Skipping line 857: expected 43 fields, saw 44\n",
      "\n",
      "Skipping line 726: expected 43 fields, saw 44\n",
      "Skipping line 745: expected 43 fields, saw 44\n",
      "Skipping line 1467: expected 43 fields, saw 44\n",
      "Skipping line 1487: expected 43 fields, saw 44\n",
      "Skipping line 1507: expected 43 fields, saw 44\n",
      "Skipping line 1527: expected 43 fields, saw 44\n",
      "\n"
     ]
    }
   ],
   "source": [
    "raw_file_folder = 'H:/Google Drive/WORK/EPA EN_/Data/'\n",
    "\n",
    "results = {}\n",
    "for content in os.listdir(raw_file_folder):\n",
    "    if content[-3:] == 'txt':\n",
    "        print(content)\n",
    "        results[content[:-4]] = pd.read_csv(raw_file_folder+content,sep='\\t', index_col=False, error_bad_lines=False, parse_dates={'datetime':[4,5]})\n",
    "\n",
    "result = pd.concat(results)\n",
    "result.reset_index(inplace=True)"
   ]
  },
  {
   "cell_type": "code",
   "execution_count": 30,
   "metadata": {
    "collapsed": false
   },
   "outputs": [],
   "source": [
    "result.to_clipboard()"
   ]
  }
 ],
 "metadata": {
  "kernelspec": {
   "display_name": "Python 2",
   "language": "python",
   "name": "python2"
  },
  "language_info": {
   "codemirror_mode": {
    "name": "ipython",
    "version": 2
   },
   "file_extension": ".py",
   "mimetype": "text/x-python",
   "name": "python",
   "nbconvert_exporter": "python",
   "pygments_lexer": "ipython2",
   "version": "2.7.10"
  },
  "widgets": {
   "state": {},
   "version": "1.1.1"
  }
 },
 "nbformat": 4,
 "nbformat_minor": 0
}
