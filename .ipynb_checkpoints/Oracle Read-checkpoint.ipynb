{
 "cells": [
  {
   "cell_type": "markdown",
   "metadata": {},
   "source": [
    "Import relevant Python libraries."
   ]
  },
  {
   "cell_type": "code",
   "execution_count": 1,
   "metadata": {
    "collapsed": false
   },
   "outputs": [],
   "source": [
    "import pandas as pd\n",
    "import cx_Oracle\n",
    "import numpy as np\n",
    "import sys\n",
    "import platform"
   ]
  },
  {
   "cell_type": "code",
   "execution_count": 2,
   "metadata": {
    "collapsed": true
   },
   "outputs": [],
   "source": [
    "import wellapplication as wa"
   ]
  },
  {
   "cell_type": "markdown",
   "metadata": {},
   "source": [
    "Print version information."
   ]
  },
  {
   "cell_type": "code",
   "execution_count": 3,
   "metadata": {
    "collapsed": false
   },
   "outputs": [
    {
     "name": "stdout",
     "output_type": "stream",
     "text": [
      "Operating System Windows 7\n",
      "Python Version 2.7.10 (default, May 23 2015, 09:40:32) [MSC v.1500 32 bit (Intel)]\n",
      "Pandas Version 0.19.1\n",
      "Numpy Version 1.11.2\n",
      "Wellapplication Version 0.4.26\n"
     ]
    }
   ],
   "source": [
    "print(\"Operating System \" + platform.system() + \" \" + platform.release())\n",
    "print(\"Python Version \" + str(sys.version))\n",
    "print(\"Pandas Version \" + str(pd.__version__))\n",
    "print(\"Numpy Version \" + str(np.__version__))\n",
    "print(\"Wellapplication Version \" + str(wa.__version__))"
   ]
  },
  {
   "cell_type": "markdown",
   "metadata": {},
   "source": [
    "# SDWIS Data"
   ]
  },
  {
   "cell_type": "code",
   "execution_count": 4,
   "metadata": {
    "collapsed": true
   },
   "outputs": [],
   "source": [
    "file_place = 'E:/Google Drive/WORK/Groundwater Chemistry/raw_SDWIS/{:}.csv'"
   ]
  },
  {
   "cell_type": "markdown",
   "metadata": {},
   "source": [
    "Import database connection.  This is kept in a separate file because it contains sensitive information."
   ]
  },
  {
   "cell_type": "code",
   "execution_count": 5,
   "metadata": {
    "collapsed": true
   },
   "outputs": [],
   "source": [
    "connection_filepath = \"E:\\Google Drive\\WORK\\Groundwater Chemistry\"\n",
    "sys.path.append(connection_filepath)\n",
    "import oraconnection"
   ]
  },
  {
   "cell_type": "markdown",
   "metadata": {},
   "source": [
    "This function below is just calling the imported database connection and assigning it to a variable."
   ]
  },
  {
   "cell_type": "code",
   "execution_count": 6,
   "metadata": {
    "collapsed": false
   },
   "outputs": [],
   "source": [
    "connection = oraconnection.oraconnect()"
   ]
  },
  {
   "cell_type": "markdown",
   "metadata": {},
   "source": [
    "## SDWIS Chemistry Data"
   ]
  },
  {
   "cell_type": "markdown",
   "metadata": {},
   "source": [
    "`SDWISconst` is a list of the constituents of interest.  The percent sign is used as a wildcard because all of the parameter names have trailing spaces or other issues."
   ]
  },
  {
   "cell_type": "code",
   "execution_count": 7,
   "metadata": {
    "collapsed": true
   },
   "outputs": [],
   "source": [
    "SDWISconst = ['PHOSPHORUS%', 'ARSENIC%','CALCIUM%','CHLORIDE%',\n",
    "              'FLUORIDE%','IRON%', 'MAGNESIUM%','NITRATE%','CARBONATE%',\n",
    "              'POTASSIUM%','BICARBONATE%','ALKA%','PHOSPHATE%',\n",
    "              'SILICA%','SODIUM%','SULFATE%','BORON%','BROMIDE%','PH%',\n",
    "              'TDS%','CONDUCT%','URANIUM%','TEMPER%','HARDN%']"
   ]
  },
  {
   "cell_type": "markdown",
   "metadata": {},
   "source": [
    "The following is the SQL query used to pull the chemistry data from the database.  It renames the fields (from `SELECT` to `FROM`), then joins the appropriate tables (from `FROM` to `WHERE`, then limits the output to Springs and Wells and state issigned id code.  The `{:}` in the `WHERE` clause is a place holder for one of the above parameters in the `SDWISconst` list."
   ]
  },
  {
   "cell_type": "code",
   "execution_count": 8,
   "metadata": {
    "collapsed": true
   },
   "outputs": [],
   "source": [
    "SQLtext = \"\"\"\n",
    "SELECT\n",
    "UTV80.TINWSF.TYPE_CODE AS \"SampType\", \n",
    "UTV80.TINWSF.TINWSF_IS_NUMBER AS \"site_no\", \n",
    "UTV80.TINWSYS.TINWSYS_IS_NUMBER AS \"OrgID\", \n",
    "UTV80.TINWSYS.NAME AS \"OrgName\", \n",
    "UTV80.TSASAMPL.TSASAMPL_IS_NUMBER AS \"SampleID\", \n",
    "UTV80.TSASAMPL.COLLLECTION_END_DT AS \"sample_dt\", \n",
    "UTV80.TSASAMPL.COLLCTN_END_TIME AS \"sample_tm\", \n",
    "UTV80.TSAANLYT.NAME AS \"Param\", \n",
    "UTV80.TSASAR.CONCENTRATION_MSR AS \"result_va\", \n",
    "UTV80.TSASAR.UOM_CODE AS \"Unit\", \n",
    "UTV80.TSASAR.ANALYSIS_START_DT AS \"AnalysisDate\", \n",
    "UTV80.TSASAR.DETECTN_LIMIT_NUM AS \"MDL\", \n",
    "UTV80.TSASAR.DETECTN_LIM_UOM_CD AS \"MDLUnit\", \n",
    "UTV80.TSAANLYT.CAS_REGISTRY_NUM AS \"CAS_Reg\", \n",
    "UTV80.TSASAR.TSASAR_IS_NUMBER AS \"ID_NUM\",\n",
    "UTV80.TSASAMPL.COMMENT_TEXT AS \"SamplePointComment\",\n",
    "UTV80.TSASMPPT.DESCRIPTION_TEXT AS \"SamplePointDesc\"\n",
    "\n",
    "FROM \n",
    "UTV80.TINWSF -- Water System Facility (water source)\n",
    "JOIN UTV80.TINWSYS ON -- Water System (town or water provider)\n",
    "UTV80.TINWSF.TINWSYS_IS_NUMBER = UTV80.TINWSYS.TINWSYS_IS_NUMBER \n",
    "JOIN UTV80.TSASMPPT ON  -- Sample point\n",
    "UTV80.TINWSF.TINWSF_IS_NUMBER = UTV80.TSASMPPT.TINWSF0IS_NUMBER\n",
    "JOIN UTV80.TSASAMPL ON -- Sample\n",
    "UTV80.TSASMPPT.TSASMPPT_IS_NUMBER = UTV80.TSASAMPL.TSASMPPT_IS_NUMBER  -- Sample Point\n",
    "JOIN UTV80.TSASAR ON -- Sample Result\n",
    "UTV80.TSASAMPL.TSASAMPL_IS_NUMBER = UTV80.TSASAR.TSASAMPL_IS_NUMBER   -- Sample Number\n",
    "JOIN UTV80.TSAANLYT ON -- Analyte\n",
    "UTV80.TSASAR.TSAANLYT_IS_NUMBER = UTV80.TSAANLYT.TSAANLYT_IS_NUMBER  -- Analyte Number\n",
    "\n",
    "WHERE (UTV80.TINWSF.TYPE_CODE = 'SP' Or UTV80.TINWSF.TYPE_CODE = 'WL') -- Spring or well\n",
    "AND (UTV80.TSAANLYT.NAME LIKE '{:}') -- Name of Chemical Parameter\n",
    "AND UTV80.TSASMPPT.SOURCE_TYPE_CODE = 'RW' -- Raw (unfiltered) water\n",
    "AND UTV80.TSASMPPT.TYPE_CODE IN('RW','EP','SR') -- From source\n",
    "ORDER BY UTV80.TINWSF.ST_ASGN_IDENT_CD\n",
    "\"\"\""
   ]
  },
  {
   "cell_type": "markdown",
   "metadata": {},
   "source": [
    "The following script loops through the constituents of interest and downloads to csvs based on the above query, inserting the constituent name each time. It also reformats the date and time fields using Pandas (see http://strftime.org) and adds an `agency_cd` field. It generates a Pandas Dataframe for each parameter and stores it in a <a href='https://www.tutorialspoint.com/python/python_dictionary.htm'>dictionary</a> with the parameter name as the key"
   ]
  },
  {
   "cell_type": "code",
   "execution_count": 9,
   "metadata": {
    "collapsed": false
   },
   "outputs": [],
   "source": [
    "df_ora = {}\n",
    "for j in SDWISconst:\n",
    "    SQL = SQLtext.format(j)\n",
    "    k = j[:-1]\n",
    "    df_ora[k] = pd.read_sql(SQL, con = connection,\n",
    "                            parse_dates=['sample_dt','sample_tm','AnalysisDate'])\n",
    "    df_ora[k]['agency_cd'] = 'UDDW'"
   ]
  },
  {
   "cell_type": "markdown",
   "metadata": {},
   "source": [
    "We can then use Pandas to combine all of the <a href='https://pandas.pydata.org/pandas-docs/stable/dsintro.html'>Dataframes</a> into one massive dataframe and then save it as a csv.  The reason I didn't do this in the first place (just query all of the constituents) is because the large data request tends to lag or lock up."
   ]
  },
  {
   "cell_type": "code",
   "execution_count": 10,
   "metadata": {
    "collapsed": true
   },
   "outputs": [],
   "source": [
    "SDWISallraw = pd.concat(df_ora)\n",
    "SDWISallraw.reset_index(inplace=True)\n",
    "SDWISallraw.drop(['level_0','level_1'],inplace=True,axis=1)\n",
    "#SDWISallraw.to_csv(file_place.format('all'))"
   ]
  },
  {
   "cell_type": "markdown",
   "metadata": {},
   "source": [
    "Let's strip out unneeded white space to make units and parameter names more consistent."
   ]
  },
  {
   "cell_type": "code",
   "execution_count": 11,
   "metadata": {
    "collapsed": false
   },
   "outputs": [],
   "source": [
    "def unitstrip(x):\n",
    "    if x is None:\n",
    "        return x\n",
    "    else:\n",
    "        return x.strip()\n",
    "    \n",
    "SDWISallraw['Param'] = SDWISallraw['Param'].apply(lambda x: x.strip(),1) \n",
    "SDWISallraw['Unit'] = SDWISallraw['Unit'].apply(lambda x: unitstrip(x),1)\n",
    "SDWISallraw['MDLUnit'] = SDWISallraw['MDLUnit'].apply(lambda x: unitstrip(x),1)"
   ]
  },
  {
   "cell_type": "markdown",
   "metadata": {},
   "source": [
    "Add `remark_cd` field and populate based on value in `result_va` and the reported MDL."
   ]
  },
  {
   "cell_type": "code",
   "execution_count": 12,
   "metadata": {
    "collapsed": false
   },
   "outputs": [],
   "source": [
    "def fillmdlspot(x):\n",
    "    \"\"\"\n",
    "    PARAM\n",
    "    ------\n",
    "    x[0] = result_va\n",
    "    x[1] = Unit\n",
    "    x[2] = MDL\n",
    "    x[3] = MDLUnit\n",
    "    \n",
    "    RETURNS\n",
    "    -------\n",
    "    remark_cd, result_va, Unit\n",
    "    \"\"\"\n",
    "    if pd.isnull(x[0]) and pd.notnull(x[2]):\n",
    "        return '<',x[2],x[3]\n",
    "    else:\n",
    "        return np.nan, x[0], x[1]"
   ]
  },
  {
   "cell_type": "code",
   "execution_count": 13,
   "metadata": {
    "collapsed": true
   },
   "outputs": [],
   "source": [
    "SDWISallraw['remark_cd'],SDWISallraw['result_va'],SDWISallraw['Unit'] =\\\n",
    "zip(*SDWISallraw[['result_va','Unit','MDL','MDLUnit']].apply(lambda x: fillmdlspot(x),1))"
   ]
  },
  {
   "cell_type": "markdown",
   "metadata": {},
   "source": [
    "Convert ug/L to mg/L in cases where units should be in mg/L. We have to do this for both the MDL and the results."
   ]
  },
  {
   "cell_type": "code",
   "execution_count": 14,
   "metadata": {
    "collapsed": true
   },
   "outputs": [],
   "source": [
    "def converter(x):\n",
    "    # these are the parameters where we want the reported units to be ug/L\n",
    "    microgrammers = ['BORON,TOTAL','IRON','IRON, DISSOLVED','ARSENIC','BORON']\n",
    "    if x[0] == 'UG/L' and x[2] not in microgrammers:\n",
    "        return x[1]*0.001, 'MG/L'\n",
    "    elif x[0] == 'LBS/GAL':\n",
    "        return x[1]*119826.0, 'MG/L'\n",
    "    else:\n",
    "        return x[1], x[0]"
   ]
  },
  {
   "cell_type": "code",
   "execution_count": 15,
   "metadata": {
    "collapsed": false
   },
   "outputs": [],
   "source": [
    "SDWISallraw['result_va'], SDWISallraw['Unit'] =\\\n",
    "zip(*SDWISallraw[['Unit','result_va','Param']].apply(lambda x: converter(x),1))"
   ]
  },
  {
   "cell_type": "code",
   "execution_count": 16,
   "metadata": {
    "collapsed": true
   },
   "outputs": [],
   "source": [
    "SDWISallraw['MDL'], SDWISallraw['MDLUnit'] =\\\n",
    "zip(*SDWISallraw[['MDLUnit','MDL','Param']].apply(lambda x: converter(x),1))"
   ]
  },
  {
   "cell_type": "markdown",
   "metadata": {},
   "source": [
    "Match to USGS parameter codes to the named paramters.  The parameter codes can be found at the following links:<br>\n",
    "https://nwis.waterdata.usgs.gov/usa/nwis/pmcodes?radio_pm_search=param_group&pm_group=All+--+include+all+parameter+groups&pm_search=&casrn_search=&srsname_search=&format=html_table&show=parameter_group_nm&show=parameter_nm&show=casrn&show=srsname&show=parameter_units<br>\n",
    "https://nwis.waterdata.usgs.gov/usa/nwis/pmcodes"
   ]
  },
  {
   "cell_type": "code",
   "execution_count": 17,
   "metadata": {
    "collapsed": false
   },
   "outputs": [],
   "source": [
    "USGSmatch = {'CONDUCTIVITY @ 25 C UMHOS/CM':'P00400', 'BORON':'P01021',\n",
    "             'ARSENIC':'P01000', 'BICARBONATE AS HCO3':'P00451',\n",
    "             'ALKALINITY, BICARBONATE':'P00451','ALKALINITY, CARBONATE':'P00448',\n",
    "             'CARBONATE':'P00448',\n",
    "             'BORON, TOTAL':'P00999', 'BROMIDE':'P71870', 'CALCIUM':'P00915', \n",
    "             'CALCIUM HARDNESS':'P00900','CHLORIDE':'P00940', 'FLUORIDE':'P00950', \n",
    "             'IRON':'P01045', 'IRON, DISSOLVED':'P01046','MAGNESIUM':'P00925', \n",
    "             'NITRATE-NITRITE':'P00630', 'NITRATE':'P00620', 'PH':'P00400',\n",
    "             'PHOSPHATE, TOTAL':'P00650', 'PHOSPHORUS, TOTAL':'P00665', 'POTASSIUM':'P00935', \n",
    "             'SILICA':'P00955','SODIUM':'P00930', 'SULFATE':'P00945', 'TDS':'P70300',\n",
    "             'TEMPERATURE (CENTIGRADE)':'P00010','ALKALINITY, TOTAL':'P00421',\n",
    "             'ALKALINITY, CACO3 STABILITY':'P00421'}"
   ]
  },
  {
   "cell_type": "code",
   "execution_count": 18,
   "metadata": {
    "collapsed": false
   },
   "outputs": [],
   "source": [
    "SDWISallraw['parm_cd'] = SDWISallraw['Param'].apply(lambda x: str(USGSmatch.get(x,'')),1)"
   ]
  },
  {
   "cell_type": "markdown",
   "metadata": {},
   "source": [
    "Combine result and remark for pivot."
   ]
  },
  {
   "cell_type": "code",
   "execution_count": 19,
   "metadata": {
    "collapsed": true
   },
   "outputs": [],
   "source": [
    "def comb_res_rmk(x):\n",
    "    \"\"\"combine remark and result\"\"\"\n",
    "    if x[0]== '<':\n",
    "        return str(x[0])+str(x[1])\n",
    "    else:\n",
    "        return str(x[1])"
   ]
  },
  {
   "cell_type": "code",
   "execution_count": 20,
   "metadata": {
    "collapsed": false
   },
   "outputs": [],
   "source": [
    "SDWISallraw['res_w_rmk'] = SDWISallraw[['remark_cd','result_va']].apply(lambda x: comb_res_rmk(x),1)"
   ]
  },
  {
   "cell_type": "markdown",
   "metadata": {},
   "source": [
    "Drop duplicates and null values."
   ]
  },
  {
   "cell_type": "code",
   "execution_count": 21,
   "metadata": {
    "collapsed": false
   },
   "outputs": [
    {
     "name": "stderr",
     "output_type": "stream",
     "text": [
      "c:\\users\\paulinkenbrandt\\documents\\github\\env\\lib\\site-packages\\ipykernel\\__main__.py:4: SettingWithCopyWarning: \n",
      "A value is trying to be set on a copy of a slice from a DataFrame.\n",
      "Try using .loc[row_indexer,col_indexer] = value instead\n",
      "\n",
      "See the caveats in the documentation: http://pandas.pydata.org/pandas-docs/stable/indexing.html#indexing-view-versus-copy\n"
     ]
    }
   ],
   "source": [
    "SDWISallraw.dropna(subset=['result_va'],inplace=True)\n",
    "SDWISallraw.sort_values(by=['SampleID','Param'],inplace=True)\n",
    "SDWIS = SDWISallraw.drop_duplicates(subset=['SampleID','Param'])\n",
    "SDWIS['SampleID'] = SDWIS['SampleID'].apply(lambda x: str(x),1) "
   ]
  },
  {
   "cell_type": "markdown",
   "metadata": {},
   "source": [
    "Save file to csv"
   ]
  },
  {
   "cell_type": "code",
   "execution_count": 22,
   "metadata": {
    "collapsed": false
   },
   "outputs": [],
   "source": [
    "SDWIS.to_csv(file_place.format('chem_by_analyte'),index=False)"
   ]
  },
  {
   "cell_type": "markdown",
   "metadata": {},
   "source": [
    "Pivot Data "
   ]
  },
  {
   "cell_type": "code",
   "execution_count": 23,
   "metadata": {
    "collapsed": false
   },
   "outputs": [],
   "source": [
    "SDWISp = SDWIS.drop_duplicates(subset=['SampleID','parm_cd'])\n",
    "SDWISpiv = SDWISp.pivot(index='SampleID', columns = 'parm_cd', values = 'res_w_rmk')"
   ]
  },
  {
   "cell_type": "code",
   "execution_count": 24,
   "metadata": {
    "collapsed": true
   },
   "outputs": [],
   "source": [
    "SDWISpivTot = pd.merge(SDWISpiv,SDWIS,left_index=True,right_on='SampleID',how='left')"
   ]
  },
  {
   "cell_type": "code",
   "execution_count": 25,
   "metadata": {
    "collapsed": false
   },
   "outputs": [],
   "source": [
    "SDWISpivTot.drop([u'',u'SampType', u'sample_tm', u'Param', u'result_va', u'Unit', \n",
    "                  u'MDL', u'MDLUnit', u'CAS_Reg',u'ID_NUM', \n",
    "                  u'remark_cd', u'parm_cd', u'res_w_rmk'],inplace=True,axis=1)"
   ]
  },
  {
   "cell_type": "code",
   "execution_count": 26,
   "metadata": {
    "collapsed": false
   },
   "outputs": [],
   "source": [
    "def getlessthan(x):\n",
    "    if \"<\" in str(x):\n",
    "        return \"<\", 'TRUE', float(x[1:])\n",
    "    elif x is None:\n",
    "        return \"NA\", 'FALSE', \"NA\"\n",
    "    else:\n",
    "        return \"NA\", 'FALSE', x\n",
    "\n",
    "\n",
    "for col in SDWISpivTot.columns:\n",
    "    if col[0] == \"P\":\n",
    "        SDWISpivTot[\"R\"+col[1:]], SDWISpivTot[\"L\"+col[1:]], SDWISpivTot[col] =\\\n",
    "        zip(*SDWISpivTot[col].apply(lambda x: getlessthan(x),1))"
   ]
  },
  {
   "cell_type": "code",
   "execution_count": 27,
   "metadata": {
    "collapsed": false
   },
   "outputs": [],
   "source": [
    "SDWISpivTot.to_csv(file_place.format('chem_by_sample'),index=False)"
   ]
  },
  {
   "cell_type": "markdown",
   "metadata": {},
   "source": [
    "## SDWIS Stations"
   ]
  },
  {
   "cell_type": "code",
   "execution_count": null,
   "metadata": {
    "collapsed": true
   },
   "outputs": [],
   "source": []
  },
  {
   "cell_type": "code",
   "execution_count": 28,
   "metadata": {
    "collapsed": true
   },
   "outputs": [],
   "source": [
    "StationQuery = \"\"\"\n",
    "SELECT \n",
    "UTV80.TINWSYS.TINWSYS_IS_NUMBER AS \"OrgID\",\n",
    "UTV80.TINWSYS.NAME AS \"OrgName\",\n",
    "UTV80.TINWSF.ST_ASGN_IDENT_CD AS \"StateFacID\",\n",
    "UTV80.TINWSYS.ALTERNATE_ST_NUM AS \"StateSysID\",\n",
    "UTV80.TINWSF.TINWSF_IS_NUMBER AS \"site_no\",\n",
    "UTV80.TINWSF.NAME AS \"station_nm\",\n",
    "UTV80.TINWSF.TYPE_CODE AS \"site_tp_cd\",\n",
    "UTV80.TINLOC.LAT_DMS_MSR AS \"lat_va\",\n",
    "UTV80.TINLOC.LONG_DMS_MSR AS \"long_va\",\n",
    "UTV80.TINLOC.LATITUDE_MEASURE AS \"dec_lat_va\",\n",
    "UTV80.TINLOC.LONGITUDE_MEASURE AS \"dec_long_va\",\n",
    "UTV80.TINLOC.HZ_COLLECT_METH_CD AS \"coord_meth_cd\",\n",
    "UTV80.TINLOC.HORIZ_ACCURACY_MSR AS \"coord_acy_cd\",\n",
    "UTV80.TINLOC.HORIZ_REF_DATUM_CD AS \"coord_datum_cd\",\n",
    "UTV80.TINLOC.HORIZ_REF_DATUM_CD AS \"dec_coord_datum_\",\n",
    "UTV80.TINLOC.SOURCE_MAP_SCALE AS \"map_scale_fc\",\n",
    "UTV80.TINLOC.VERTICAL_MEASURE AS \"alt_va\",\n",
    "UTV80.TINLOC.VER_COL_METH_CD AS \"alt_meth_cd\",\n",
    "UTV80.TINLOC.VERT_ACCURACY_MSR AS \"alt_acy_va\",\n",
    "UTV80.TINLOC.VERT_REF_DATUM_CD AS \"alt_datum_cd\",\n",
    "UTV80.TINWSF.CONSTRUCTED_DATE AS \"construction_dt\",\n",
    "UTV80.TINWSF.ACTIVITY_DATE AS \"ActDate\",\n",
    "UTV80.TINWSF.ACTIVITY_STATUS_CD AS \"ActStatus\"\n",
    " \n",
    "FROM\n",
    "UTV80.TINWSF\n",
    "JOIN UTV80.TINWSYS ON  UTV80.TINWSF.TINWSYS_IS_NUMBER = UTV80.TINWSYS.TINWSYS_IS_NUMBER  \n",
    "JOIN UTV80.TINLOC ON  UTV80.TINWSF.TINWSF_IS_NUMBER = UTV80.TINLOC.TINWSF_IS_NUMBER \n",
    " \n",
    "WHERE \n",
    "UTV80.TINWSF.TYPE_CODE IN('SP','WL') \n",
    "AND UTV80.TINLOC.LATITUDE_MEASURE != 0\n",
    "\"\"\""
   ]
  },
  {
   "cell_type": "code",
   "execution_count": 29,
   "metadata": {
    "collapsed": false
   },
   "outputs": [],
   "source": [
    "stations = pd.read_sql(StationQuery, con = connection)"
   ]
  },
  {
   "cell_type": "code",
   "execution_count": 30,
   "metadata": {
    "collapsed": false
   },
   "outputs": [],
   "source": [
    "def getsrcid(x):\n",
    "    return str(x[1]).zfill(5) + '-' + str(x[2][-2:])"
   ]
  },
  {
   "cell_type": "code",
   "execution_count": null,
   "metadata": {
    "collapsed": false
   },
   "outputs": [],
   "source": []
  },
  {
   "cell_type": "code",
   "execution_count": 31,
   "metadata": {
    "collapsed": false
   },
   "outputs": [],
   "source": [
    "idmatch = pd.read_csv(\"E:/Google Drive/WORK/Groundwater Chemistry/SDWIS/WellIDMatch.csv\")\n",
    "idmatch.set_index('ESN',inplace=True)\n",
    "id_dict = idmatch.to_dict()['SourceID']"
   ]
  },
  {
   "cell_type": "code",
   "execution_count": 32,
   "metadata": {
    "collapsed": false
   },
   "outputs": [],
   "source": [
    "def refine_sid(x):\n",
    "    sidraw = id_dict.get(x[0],getsrcid(x))\n",
    "    if len(sidraw)>8:\n",
    "        return str(sidraw[:-3]).zfill(5)+str(int(sidraw[-3:])).zfill(2)\n",
    "    else:\n",
    "        return sidraw\n",
    "stations['DEHN_source_id'] = stations[['site_no','StateSysID','StateFacID']]\\\n",
    ".apply(lambda x: refine_sid(x), 1)"
   ]
  },
  {
   "cell_type": "code",
   "execution_count": 36,
   "metadata": {
    "collapsed": false
   },
   "outputs": [],
   "source": [
    "engine = oraconnection.getEngine()"
   ]
  },
  {
   "cell_type": "code",
   "execution_count": 37,
   "metadata": {
    "collapsed": false
   },
   "outputs": [],
   "source": [
    "mySQL = \"\"\"SELECT * FROM water_rights_data.sources\"\"\""
   ]
  },
  {
   "cell_type": "code",
   "execution_count": 38,
   "metadata": {
    "collapsed": false
   },
   "outputs": [],
   "source": [
    "sources = pd.read_sql(mySQL,con=engine)"
   ]
  },
  {
   "cell_type": "code",
   "execution_count": 39,
   "metadata": {
    "collapsed": false
   },
   "outputs": [],
   "source": [
    "wrjoin = pd.merge(stations, sources, on='DEHN_source_id',how='left')\n",
    "withwin = wrjoin[wrjoin['win'].notnull()]"
   ]
  },
  {
   "cell_type": "code",
   "execution_count": 40,
   "metadata": {
    "collapsed": false
   },
   "outputs": [],
   "source": [
    "SQL = \"\"\"\n",
    "SELECT * FROM water_rights_data.{:}\n",
    "WHERE win IN('{:}')\n",
    "\"\"\"\n",
    "winstrlist = \"','\".join(map(str,withwin['win'].values))"
   ]
  },
  {
   "cell_type": "code",
   "execution_count": 41,
   "metadata": {
    "collapsed": false
   },
   "outputs": [],
   "source": [
    "construct = pd.read_sql(SQL.format('construction',winstrlist),con=engine)\n",
    "borehole = pd.read_sql(SQL.format('borehole',winstrlist),con=engine)\n",
    "screen = pd.read_sql(SQL.format('wellscreens',winstrlist),con=engine)"
   ]
  },
  {
   "cell_type": "code",
   "execution_count": null,
   "metadata": {
    "collapsed": true
   },
   "outputs": [],
   "source": []
  },
  {
   "cell_type": "code",
   "execution_count": 42,
   "metadata": {
    "collapsed": false
   },
   "outputs": [],
   "source": [
    "winproj = pd.read_csv(\"E:/Google Drive/WORK/Groundwater Chemistry/wrpod_WIN.txt\")\n",
    "winprojSDWIS = winproj[winproj['WIN'].isin(withwin['win'].astype(int).values)]"
   ]
  },
  {
   "cell_type": "code",
   "execution_count": 43,
   "metadata": {
    "collapsed": false
   },
   "outputs": [
    {
     "name": "stderr",
     "output_type": "stream",
     "text": [
      "Skipping line 30451: expected 7 fields, saw 8\n",
      "\n"
     ]
    }
   ],
   "source": [
    "wellfeats = pd.read_csv(\"E:/Google Drive/WORK/Groundwater Chemistry/wrpod_wellfeatures.txt\",\n",
    "                        error_bad_lines=False)\n",
    "wellfeats.set_index('win',inplace=True)"
   ]
  },
  {
   "cell_type": "code",
   "execution_count": 44,
   "metadata": {
    "collapsed": false
   },
   "outputs": [],
   "source": [
    "def getdepth(df,kp = 'last'):\n",
    "    df.sort_values('To_ft',inplace=True)\n",
    "    df.drop_duplicates(subset='WIN',keep=kp,inplace=True)\n",
    "    df.set_index('WIN',inplace=True)\n",
    "    return df['To_ft'].to_dict()\n",
    "\n",
    "bdepth = getdepth(borehole)\n",
    "sdepth = getdepth(screen, 'first')"
   ]
  },
  {
   "cell_type": "code",
   "execution_count": 45,
   "metadata": {
    "collapsed": false
   },
   "outputs": [],
   "source": [
    "def winconv(x):\n",
    "    if pd.isnull(x):\n",
    "        return x\n",
    "    else:\n",
    "        return int(x)\n",
    "\n",
    "wrjoin['win'] = wrjoin['win'].apply(lambda x: winconv(x),1)\n",
    "depthdict = wellfeats['totalDepth'].to_dict()\n",
    "sdepthdict = wellfeats['screenDepth'].to_dict()\n",
    "wrjoin['depth'] = wrjoin['win'].apply(lambda x: depthdict.get(x,bdepth.get(x,np.nan)))\n",
    "wrjoin['screen_depth'] = wrjoin['win'].apply(lambda x: sdepthdict.get(x,sdepth.get(x,np.nan)))"
   ]
  },
  {
   "cell_type": "code",
   "execution_count": 46,
   "metadata": {
    "collapsed": false
   },
   "outputs": [
    {
     "name": "stdout",
     "output_type": "stream",
     "text": [
      "3566\n",
      "(313, 313)\n"
     ]
    }
   ],
   "source": [
    "wrjoin.drop_duplicates(subset=['site_no'],inplace=True)\n",
    "print(len(wrjoin))\n",
    "print(len(wrjoin[wrjoin['depth'].notnull()]),len(wrjoin[wrjoin['screen_depth'].notnull()]))\n"
   ]
  },
  {
   "cell_type": "code",
   "execution_count": 50,
   "metadata": {
    "collapsed": false
   },
   "outputs": [
    {
     "ename": "KeyError",
     "evalue": "(u'features', u'occurred at index 0')",
     "output_type": "error",
     "traceback": [
      "\u001b[1;31m---------------------------------------------------------------------------\u001b[0m",
      "\u001b[1;31mKeyError\u001b[0m                                  Traceback (most recent call last)",
      "\u001b[1;32m<ipython-input-50-e61f99cd0966>\u001b[0m in \u001b[0;36m<module>\u001b[1;34m()\u001b[0m\n\u001b[0;32m      3\u001b[0m \u001b[0mwrjoin\u001b[0m\u001b[1;33m[\u001b[0m\u001b[1;34m'alt_datum_cd'\u001b[0m\u001b[1;33m]\u001b[0m \u001b[1;33m=\u001b[0m \u001b[1;34m\"NAVD88\"\u001b[0m\u001b[1;33m\u001b[0m\u001b[0m\n\u001b[0;32m      4\u001b[0m \u001b[0mwrjoin\u001b[0m\u001b[1;33m[\u001b[0m\u001b[1;34m'altitude'\u001b[0m\u001b[1;33m]\u001b[0m \u001b[1;33m=\u001b[0m \u001b[0mwrjoin\u001b[0m\u001b[1;33m[\u001b[0m\u001b[1;33m[\u001b[0m\u001b[1;34m'dec_long_va'\u001b[0m\u001b[1;33m,\u001b[0m\u001b[1;34m'dec_lat_va'\u001b[0m\u001b[1;33m]\u001b[0m\u001b[1;33m]\u001b[0m\u001b[1;33m.\u001b[0m\u001b[0mapply\u001b[0m\u001b[1;33m(\u001b[0m\u001b[1;32mlambda\u001b[0m \u001b[0mx\u001b[0m\u001b[1;33m:\u001b[0m \u001b[0mwa\u001b[0m\u001b[1;33m.\u001b[0m\u001b[0mget_elev\u001b[0m\u001b[1;33m(\u001b[0m\u001b[0mx\u001b[0m\u001b[1;33m,\u001b[0m \u001b[0munits\u001b[0m\u001b[1;33m=\u001b[0m\u001b[1;34m'Feet'\u001b[0m\u001b[1;33m)\u001b[0m\u001b[1;33m,\u001b[0m\u001b[1;36m1\u001b[0m\u001b[1;33m)\u001b[0m\u001b[1;33m\u001b[0m\u001b[0m\n\u001b[1;32m----> 5\u001b[1;33m \u001b[0mwrjoin\u001b[0m\u001b[1;33m[\u001b[0m\u001b[1;34m'huc'\u001b[0m\u001b[1;33m]\u001b[0m \u001b[1;33m=\u001b[0m \u001b[0mwrjoin\u001b[0m\u001b[1;33m[\u001b[0m\u001b[1;33m[\u001b[0m\u001b[1;34m'dec_long_va'\u001b[0m\u001b[1;33m,\u001b[0m\u001b[1;34m'dec_lat_va'\u001b[0m\u001b[1;33m]\u001b[0m\u001b[1;33m]\u001b[0m\u001b[1;33m.\u001b[0m\u001b[0mapply\u001b[0m\u001b[1;33m(\u001b[0m\u001b[1;32mlambda\u001b[0m \u001b[0mx\u001b[0m\u001b[1;33m:\u001b[0m \u001b[0mwa\u001b[0m\u001b[1;33m.\u001b[0m\u001b[0mget_huc\u001b[0m\u001b[1;33m(\u001b[0m\u001b[0mx\u001b[0m\u001b[1;33m)\u001b[0m\u001b[1;33m,\u001b[0m\u001b[1;36m1\u001b[0m\u001b[1;33m)\u001b[0m\u001b[1;33m\u001b[0m\u001b[0m\n\u001b[0m\u001b[0;32m      6\u001b[0m \u001b[0mwrjoin\u001b[0m\u001b[1;33m[\u001b[0m\u001b[1;34m'usgs_num_guess'\u001b[0m\u001b[1;33m]\u001b[0m \u001b[1;33m=\u001b[0m \u001b[0mwrjoin\u001b[0m\u001b[1;33m[\u001b[0m\u001b[1;33m[\u001b[0m\u001b[1;34m'dec_long_va'\u001b[0m\u001b[1;33m,\u001b[0m\u001b[1;34m'dec_lat_va'\u001b[0m\u001b[1;33m]\u001b[0m\u001b[1;33m]\u001b[0m\u001b[1;33m.\u001b[0m\u001b[0mapply\u001b[0m\u001b[1;33m(\u001b[0m\u001b[1;32mlambda\u001b[0m \u001b[0mx\u001b[0m\u001b[1;33m:\u001b[0m \u001b[0mwa\u001b[0m\u001b[1;33m.\u001b[0m\u001b[0mUSGSID\u001b[0m\u001b[1;33m(\u001b[0m\u001b[0mx\u001b[0m\u001b[1;33m)\u001b[0m\u001b[1;33m,\u001b[0m\u001b[1;36m1\u001b[0m\u001b[1;33m)\u001b[0m\u001b[1;33m\u001b[0m\u001b[0m\n",
      "\u001b[1;32mc:\\users\\paulinkenbrandt\\documents\\github\\env\\lib\\site-packages\\pandas\\core\\frame.pyc\u001b[0m in \u001b[0;36mapply\u001b[1;34m(self, func, axis, broadcast, raw, reduce, args, **kwds)\u001b[0m\n\u001b[0;32m   4161\u001b[0m                     \u001b[1;32mif\u001b[0m \u001b[0mreduce\u001b[0m \u001b[1;32mis\u001b[0m \u001b[0mNone\u001b[0m\u001b[1;33m:\u001b[0m\u001b[1;33m\u001b[0m\u001b[0m\n\u001b[0;32m   4162\u001b[0m                         \u001b[0mreduce\u001b[0m \u001b[1;33m=\u001b[0m \u001b[0mTrue\u001b[0m\u001b[1;33m\u001b[0m\u001b[0m\n\u001b[1;32m-> 4163\u001b[1;33m                     \u001b[1;32mreturn\u001b[0m \u001b[0mself\u001b[0m\u001b[1;33m.\u001b[0m\u001b[0m_apply_standard\u001b[0m\u001b[1;33m(\u001b[0m\u001b[0mf\u001b[0m\u001b[1;33m,\u001b[0m \u001b[0maxis\u001b[0m\u001b[1;33m,\u001b[0m \u001b[0mreduce\u001b[0m\u001b[1;33m=\u001b[0m\u001b[0mreduce\u001b[0m\u001b[1;33m)\u001b[0m\u001b[1;33m\u001b[0m\u001b[0m\n\u001b[0m\u001b[0;32m   4164\u001b[0m             \u001b[1;32melse\u001b[0m\u001b[1;33m:\u001b[0m\u001b[1;33m\u001b[0m\u001b[0m\n\u001b[0;32m   4165\u001b[0m                 \u001b[1;32mreturn\u001b[0m \u001b[0mself\u001b[0m\u001b[1;33m.\u001b[0m\u001b[0m_apply_broadcast\u001b[0m\u001b[1;33m(\u001b[0m\u001b[0mf\u001b[0m\u001b[1;33m,\u001b[0m \u001b[0maxis\u001b[0m\u001b[1;33m)\u001b[0m\u001b[1;33m\u001b[0m\u001b[0m\n",
      "\u001b[1;32mc:\\users\\paulinkenbrandt\\documents\\github\\env\\lib\\site-packages\\pandas\\core\\frame.pyc\u001b[0m in \u001b[0;36m_apply_standard\u001b[1;34m(self, func, axis, ignore_failures, reduce)\u001b[0m\n\u001b[0;32m   4257\u001b[0m             \u001b[1;32mtry\u001b[0m\u001b[1;33m:\u001b[0m\u001b[1;33m\u001b[0m\u001b[0m\n\u001b[0;32m   4258\u001b[0m                 \u001b[1;32mfor\u001b[0m \u001b[0mi\u001b[0m\u001b[1;33m,\u001b[0m \u001b[0mv\u001b[0m \u001b[1;32min\u001b[0m \u001b[0menumerate\u001b[0m\u001b[1;33m(\u001b[0m\u001b[0mseries_gen\u001b[0m\u001b[1;33m)\u001b[0m\u001b[1;33m:\u001b[0m\u001b[1;33m\u001b[0m\u001b[0m\n\u001b[1;32m-> 4259\u001b[1;33m                     \u001b[0mresults\u001b[0m\u001b[1;33m[\u001b[0m\u001b[0mi\u001b[0m\u001b[1;33m]\u001b[0m \u001b[1;33m=\u001b[0m \u001b[0mfunc\u001b[0m\u001b[1;33m(\u001b[0m\u001b[0mv\u001b[0m\u001b[1;33m)\u001b[0m\u001b[1;33m\u001b[0m\u001b[0m\n\u001b[0m\u001b[0;32m   4260\u001b[0m                     \u001b[0mkeys\u001b[0m\u001b[1;33m.\u001b[0m\u001b[0mappend\u001b[0m\u001b[1;33m(\u001b[0m\u001b[0mv\u001b[0m\u001b[1;33m.\u001b[0m\u001b[0mname\u001b[0m\u001b[1;33m)\u001b[0m\u001b[1;33m\u001b[0m\u001b[0m\n\u001b[0;32m   4261\u001b[0m             \u001b[1;32mexcept\u001b[0m \u001b[0mException\u001b[0m \u001b[1;32mas\u001b[0m \u001b[0me\u001b[0m\u001b[1;33m:\u001b[0m\u001b[1;33m\u001b[0m\u001b[0m\n",
      "\u001b[1;32m<ipython-input-50-e61f99cd0966>\u001b[0m in \u001b[0;36m<lambda>\u001b[1;34m(x)\u001b[0m\n\u001b[0;32m      3\u001b[0m \u001b[0mwrjoin\u001b[0m\u001b[1;33m[\u001b[0m\u001b[1;34m'alt_datum_cd'\u001b[0m\u001b[1;33m]\u001b[0m \u001b[1;33m=\u001b[0m \u001b[1;34m\"NAVD88\"\u001b[0m\u001b[1;33m\u001b[0m\u001b[0m\n\u001b[0;32m      4\u001b[0m \u001b[0mwrjoin\u001b[0m\u001b[1;33m[\u001b[0m\u001b[1;34m'altitude'\u001b[0m\u001b[1;33m]\u001b[0m \u001b[1;33m=\u001b[0m \u001b[0mwrjoin\u001b[0m\u001b[1;33m[\u001b[0m\u001b[1;33m[\u001b[0m\u001b[1;34m'dec_long_va'\u001b[0m\u001b[1;33m,\u001b[0m\u001b[1;34m'dec_lat_va'\u001b[0m\u001b[1;33m]\u001b[0m\u001b[1;33m]\u001b[0m\u001b[1;33m.\u001b[0m\u001b[0mapply\u001b[0m\u001b[1;33m(\u001b[0m\u001b[1;32mlambda\u001b[0m \u001b[0mx\u001b[0m\u001b[1;33m:\u001b[0m \u001b[0mwa\u001b[0m\u001b[1;33m.\u001b[0m\u001b[0mget_elev\u001b[0m\u001b[1;33m(\u001b[0m\u001b[0mx\u001b[0m\u001b[1;33m,\u001b[0m \u001b[0munits\u001b[0m\u001b[1;33m=\u001b[0m\u001b[1;34m'Feet'\u001b[0m\u001b[1;33m)\u001b[0m\u001b[1;33m,\u001b[0m\u001b[1;36m1\u001b[0m\u001b[1;33m)\u001b[0m\u001b[1;33m\u001b[0m\u001b[0m\n\u001b[1;32m----> 5\u001b[1;33m \u001b[0mwrjoin\u001b[0m\u001b[1;33m[\u001b[0m\u001b[1;34m'huc'\u001b[0m\u001b[1;33m]\u001b[0m \u001b[1;33m=\u001b[0m \u001b[0mwrjoin\u001b[0m\u001b[1;33m[\u001b[0m\u001b[1;33m[\u001b[0m\u001b[1;34m'dec_long_va'\u001b[0m\u001b[1;33m,\u001b[0m\u001b[1;34m'dec_lat_va'\u001b[0m\u001b[1;33m]\u001b[0m\u001b[1;33m]\u001b[0m\u001b[1;33m.\u001b[0m\u001b[0mapply\u001b[0m\u001b[1;33m(\u001b[0m\u001b[1;32mlambda\u001b[0m \u001b[0mx\u001b[0m\u001b[1;33m:\u001b[0m \u001b[0mwa\u001b[0m\u001b[1;33m.\u001b[0m\u001b[0mget_huc\u001b[0m\u001b[1;33m(\u001b[0m\u001b[0mx\u001b[0m\u001b[1;33m)\u001b[0m\u001b[1;33m,\u001b[0m\u001b[1;36m1\u001b[0m\u001b[1;33m)\u001b[0m\u001b[1;33m\u001b[0m\u001b[0m\n\u001b[0m\u001b[0;32m      6\u001b[0m \u001b[0mwrjoin\u001b[0m\u001b[1;33m[\u001b[0m\u001b[1;34m'usgs_num_guess'\u001b[0m\u001b[1;33m]\u001b[0m \u001b[1;33m=\u001b[0m \u001b[0mwrjoin\u001b[0m\u001b[1;33m[\u001b[0m\u001b[1;33m[\u001b[0m\u001b[1;34m'dec_long_va'\u001b[0m\u001b[1;33m,\u001b[0m\u001b[1;34m'dec_lat_va'\u001b[0m\u001b[1;33m]\u001b[0m\u001b[1;33m]\u001b[0m\u001b[1;33m.\u001b[0m\u001b[0mapply\u001b[0m\u001b[1;33m(\u001b[0m\u001b[1;32mlambda\u001b[0m \u001b[0mx\u001b[0m\u001b[1;33m:\u001b[0m \u001b[0mwa\u001b[0m\u001b[1;33m.\u001b[0m\u001b[0mUSGSID\u001b[0m\u001b[1;33m(\u001b[0m\u001b[0mx\u001b[0m\u001b[1;33m)\u001b[0m\u001b[1;33m,\u001b[0m\u001b[1;36m1\u001b[0m\u001b[1;33m)\u001b[0m\u001b[1;33m\u001b[0m\u001b[0m\n",
      "\u001b[1;32mc:\\users\\paulinkenbrandt\\documents\\github\\env\\lib\\site-packages\\wellapplication\\usgs.pyc\u001b[0m in \u001b[0;36mget_huc\u001b[1;34m(x)\u001b[0m\n\u001b[0;32m    367\u001b[0m     \u001b[1;31m# huc_url2 = 'https://services.nationalmap.gov/arcgis/rest/services/nhd/mapserver/8/query?'\u001b[0m\u001b[1;33m\u001b[0m\u001b[1;33m\u001b[0m\u001b[0m\n\u001b[0;32m    368\u001b[0m     \u001b[0mresponse\u001b[0m \u001b[1;33m=\u001b[0m \u001b[0mrequests\u001b[0m\u001b[1;33m.\u001b[0m\u001b[0mget\u001b[0m\u001b[1;33m(\u001b[0m\u001b[0mhuc_url\u001b[0m\u001b[1;33m,\u001b[0m \u001b[0mparams\u001b[0m\u001b[1;33m=\u001b[0m\u001b[0mvalues\u001b[0m\u001b[1;33m)\u001b[0m\u001b[1;33m.\u001b[0m\u001b[0mjson\u001b[0m\u001b[1;33m(\u001b[0m\u001b[1;33m)\u001b[0m\u001b[1;33m\u001b[0m\u001b[0m\n\u001b[1;32m--> 369\u001b[1;33m     \u001b[1;32mreturn\u001b[0m \u001b[0mresponse\u001b[0m\u001b[1;33m[\u001b[0m\u001b[1;34m'features'\u001b[0m\u001b[1;33m]\u001b[0m\u001b[1;33m[\u001b[0m\u001b[1;36m0\u001b[0m\u001b[1;33m]\u001b[0m\u001b[1;33m[\u001b[0m\u001b[1;34m'attributes'\u001b[0m\u001b[1;33m]\u001b[0m\u001b[1;33m[\u001b[0m\u001b[1;34m'HUC12'\u001b[0m\u001b[1;33m]\u001b[0m\u001b[1;33m,\u001b[0m \u001b[0mresponse\u001b[0m\u001b[1;33m[\u001b[0m\u001b[1;34m'features'\u001b[0m\u001b[1;33m]\u001b[0m\u001b[1;33m[\u001b[0m\u001b[1;36m0\u001b[0m\u001b[1;33m]\u001b[0m\u001b[1;33m[\u001b[0m\u001b[1;34m'attributes'\u001b[0m\u001b[1;33m]\u001b[0m\u001b[1;33m[\u001b[0m\u001b[1;34m'NAME'\u001b[0m\u001b[1;33m]\u001b[0m\u001b[1;33m\u001b[0m\u001b[0m\n\u001b[0m\u001b[0;32m    370\u001b[0m \u001b[1;33m\u001b[0m\u001b[0m\n\u001b[0;32m    371\u001b[0m \u001b[1;32mdef\u001b[0m \u001b[0mUSGSID\u001b[0m\u001b[1;33m(\u001b[0m\u001b[0mx\u001b[0m\u001b[1;33m)\u001b[0m\u001b[1;33m:\u001b[0m\u001b[1;33m\u001b[0m\u001b[0m\n",
      "\u001b[1;31mKeyError\u001b[0m: (u'features', u'occurred at index 0')"
     ]
    }
   ],
   "source": [
    "wrjoin['alt_meth_cd'] = 'N'\n",
    "wrjoin['altacu'] = 10\n",
    "wrjoin['alt_datum_cd'] = \"NAVD88\"\n",
    "wrjoin['altitude'] = wrjoin[['dec_long_va','dec_lat_va']].apply(lambda x: wa.get_elev(x, units='Feet'),1)\n"
   ]
  },
  {
   "cell_type": "code",
   "execution_count": null,
   "metadata": {
    "collapsed": false
   },
   "outputs": [],
   "source": [
    "def huc(x):\n",
    "    try:\n",
    "        huc, nm = wa.get_huc(x)\n",
    "        return huc, nm\n",
    "    except:\n",
    "        pass\n",
    "        return '',''\n",
    "\n",
    "wrjoin['huc'], wrjoin['huc_name'] =\\\n",
    "zip(*wrjoin[['dec_long_va','dec_lat_va']].apply(lambda x: huc(x),1))\n",
    "wrjoin['usgs_num_guess'] = wrjoin[['dec_long_va','dec_lat_va']].apply(lambda x: wa.USGSID(x),1)"
   ]
  },
  {
   "cell_type": "code",
   "execution_count": null,
   "metadata": {
    "collapsed": true
   },
   "outputs": [],
   "source": []
  },
  {
   "cell_type": "code",
   "execution_count": null,
   "metadata": {
    "collapsed": true
   },
   "outputs": [],
   "source": [
    "wrjoin.to_csv(file_place.format('stations'))"
   ]
  },
  {
   "cell_type": "code",
   "execution_count": null,
   "metadata": {
    "collapsed": true
   },
   "outputs": [],
   "source": [
    "wrjoin.columns"
   ]
  },
  {
   "cell_type": "code",
   "execution_count": null,
   "metadata": {
    "collapsed": true
   },
   "outputs": [],
   "source": [
    "stations_chem = pd.merge(SDWISpivTot,wrjoin,)"
   ]
  },
  {
   "cell_type": "markdown",
   "metadata": {},
   "source": [
    "# USGS Format and Table"
   ]
  },
  {
   "cell_type": "markdown",
   "metadata": {},
   "source": [
    "Mainly for the NWIS Schema"
   ]
  },
  {
   "cell_type": "code",
   "execution_count": null,
   "metadata": {
    "collapsed": true
   },
   "outputs": [],
   "source": [
    "columns = ['agency_cd','site_no','sample_dt','sample_tm','sample_end_dt','sample_end_tm',\n",
    "           'sample_start_time_datum_cd','tm_datum_rlbty_cd','coll_ent_cd','medium_cd',\n",
    "           'tu_id','body_part_id','r00003','p00003','r00010','p00010','r00094','p00094',\n",
    "           'r00400','p00400','r00631','p00631','r00671','p00671','r00900','p00900','r00915',\n",
    "           'p00915','r00925','p00925','r00930','p00930','r00935','p00935','r00940','p00940',\n",
    "           'r00945','p00945','r00950','p00950','r00955','p00955','r01000','p01000','r01046',\n",
    "           'p01046','r22703','p22703','r70300','p70300','r71870','p71870','r90410','p90410']"
   ]
  },
  {
   "cell_type": "code",
   "execution_count": null,
   "metadata": {
    "collapsed": false,
    "scrolled": true
   },
   "outputs": [],
   "source": [
    "usgs_piv_path = 'E:/Google Drive/WORK/Groundwater Chemistry/USGS_data/qwdata_pivot'\n",
    "pd.read_csv(usgs_piv_path, sep = '\\t',skiprows=12438,names=columns)"
   ]
  },
  {
   "cell_type": "code",
   "execution_count": null,
   "metadata": {
    "collapsed": true
   },
   "outputs": [],
   "source": [
    "['']"
   ]
  },
  {
   "cell_type": "code",
   "execution_count": null,
   "metadata": {
    "collapsed": true
   },
   "outputs": [],
   "source": [
    "SQL = \"\"\"\n",
    "SELECT * FROM UTV80.TSAMCSMP \n",
    "WHERE \n",
    "UTV80.TSAMCSMP.FIELD_TEMP_MSR > 0 OR \n",
    "UTV80.TSAMCSMP.FIELD_PH_MEASURE > 0\n",
    "\"\"\""
   ]
  },
  {
   "cell_type": "code",
   "execution_count": null,
   "metadata": {
    "collapsed": false
   },
   "outputs": [],
   "source": [
    "df_ora"
   ]
  },
  {
   "cell_type": "code",
   "execution_count": null,
   "metadata": {
    "collapsed": true
   },
   "outputs": [],
   "source": []
  }
 ],
 "metadata": {
  "kernelspec": {
   "display_name": "Python 2",
   "language": "python",
   "name": "python2"
  },
  "language_info": {
   "codemirror_mode": {
    "name": "ipython",
    "version": 2
   },
   "file_extension": ".py",
   "mimetype": "text/x-python",
   "name": "python",
   "nbconvert_exporter": "python",
   "pygments_lexer": "ipython2",
   "version": "2.7.10"
  },
  "widgets": {
   "state": {},
   "version": "1.1.1"
  }
 },
 "nbformat": 4,
 "nbformat_minor": 0
}
