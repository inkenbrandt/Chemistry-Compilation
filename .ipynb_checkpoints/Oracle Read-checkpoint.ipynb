{
 "cells": [
  {
   "cell_type": "markdown",
   "metadata": {},
   "source": [
    "Import relevant Python libraries."
   ]
  },
  {
   "cell_type": "code",
   "execution_count": 1,
   "metadata": {
    "collapsed": false
   },
   "outputs": [],
   "source": [
    "import pandas as pd\n",
    "import cx_Oracle\n",
    "import numpy as np\n",
    "import sys\n",
    "import platform"
   ]
  },
  {
   "cell_type": "markdown",
   "metadata": {},
   "source": [
    "Print version information."
   ]
  },
  {
   "cell_type": "code",
   "execution_count": 2,
   "metadata": {
    "collapsed": false
   },
   "outputs": [
    {
     "name": "stdout",
     "output_type": "stream",
     "text": [
      "Operating System Windows 7\n",
      "Python Version 2.7.10 (default, May 23 2015, 09:40:32) [MSC v.1500 32 bit (Intel)]\n",
      "Pandas Version 0.19.1\n",
      "Numpy Version 1.11.2\n"
     ]
    }
   ],
   "source": [
    "print(\"Operating System \" + platform.system() + \" \" + platform.release())\n",
    "print(\"Python Version \" + str(sys.version))\n",
    "print(\"Pandas Version \" + str(pd.__version__))\n",
    "print(\"Numpy Version \" + str(np.__version__))"
   ]
  },
  {
   "cell_type": "markdown",
   "metadata": {},
   "source": [
    "# SDWIS Data"
   ]
  },
  {
   "cell_type": "code",
   "execution_count": 3,
   "metadata": {
    "collapsed": true
   },
   "outputs": [],
   "source": [
    "file_place = 'E:/Google Drive/WORK/Groundwater Chemistry/raw_SDWIS/{:}.csv'"
   ]
  },
  {
   "cell_type": "markdown",
   "metadata": {},
   "source": [
    "Import database connection.  This is kept in a separate file because it contains sensitive information."
   ]
  },
  {
   "cell_type": "code",
   "execution_count": 4,
   "metadata": {
    "collapsed": true
   },
   "outputs": [],
   "source": [
    "connection_filepath = \"E:\\Google Drive\\WORK\\Groundwater Chemistry\"\n",
    "sys.path.append(connection_filepath)\n",
    "import oraconnection"
   ]
  },
  {
   "cell_type": "markdown",
   "metadata": {},
   "source": [
    "This function below is just calling the imported database connection and assigning it to a variable."
   ]
  },
  {
   "cell_type": "code",
   "execution_count": 5,
   "metadata": {
    "collapsed": false
   },
   "outputs": [],
   "source": [
    "connection = oraconnection.oraconnect()"
   ]
  },
  {
   "cell_type": "markdown",
   "metadata": {},
   "source": [
    "## SDWIS Chemistry Data"
   ]
  },
  {
   "cell_type": "markdown",
   "metadata": {},
   "source": [
    "`SDWISconst` is a list of the constituents of interest.  The percent sign is used as a wildcard because all of the parameter names have trailing spaces or other issues."
   ]
  },
  {
   "cell_type": "code",
   "execution_count": 6,
   "metadata": {
    "collapsed": true
   },
   "outputs": [],
   "source": [
    "SDWISconst = ['PHOSPHORUS%', 'ARSENIC%','CALCIUM%','CHLORIDE%',\n",
    "              'FLUORIDE%','IRON%', 'MAGNESIUM%','NITRATE%','CARBONATE%',\n",
    "              'POTASSIUM%','BICARBONATE%','ALKA%','PHOSPHATE%',\n",
    "              'SILICA%','SODIUM%','SULFATE%','BORON%','BROMIDE%','PH%',\n",
    "              'TDS%','CONDUCT%','URANIUM%','TEMPER%','HARDN%']"
   ]
  },
  {
   "cell_type": "markdown",
   "metadata": {},
   "source": [
    "The following is the SQL query used to pull the chemistry data from the database.  It renames the fields (from `SELECT` to `FROM`), then joins the appropriate tables (from `FROM` to `WHERE`, then limits the output to Springs and Wells and state issigned id code.  The `{:}` in the `WHERE` clause is a place holder for one of the above parameters in the `SDWISconst` list."
   ]
  },
  {
   "cell_type": "code",
   "execution_count": 7,
   "metadata": {
    "collapsed": true
   },
   "outputs": [],
   "source": [
    "SQLtext = \"\"\"\n",
    "SELECT\n",
    "UTV80.TINWSF.TYPE_CODE AS \"SampType\", \n",
    "UTV80.TINWSF.TINWSF_IS_NUMBER AS \"site_no\", \n",
    "UTV80.TINWSYS.TINWSYS_IS_NUMBER AS \"OrgID\", \n",
    "UTV80.TINWSYS.NAME AS \"OrgName\", \n",
    "UTV80.TSASAMPL.TSASAMPL_IS_NUMBER AS \"SampleID\", \n",
    "UTV80.TSASAMPL.COLLLECTION_END_DT AS \"sample_dt\", \n",
    "UTV80.TSASAMPL.COLLCTN_END_TIME AS \"sample_tm\", \n",
    "UTV80.TSAANLYT.NAME AS \"Param\", \n",
    "UTV80.TSASAR.CONCENTRATION_MSR AS \"result_va\", \n",
    "UTV80.TSASAR.UOM_CODE AS \"Unit\", \n",
    "UTV80.TSASAR.ANALYSIS_START_DT AS \"AnalysisDate\", \n",
    "UTV80.TSASAR.DETECTN_LIMIT_NUM AS \"MDL\", \n",
    "UTV80.TSASAR.DETECTN_LIM_UOM_CD AS \"MDLUnit\", \n",
    "UTV80.TSAANLYT.CAS_REGISTRY_NUM AS \"CAS_Reg\", \n",
    "UTV80.TSASAR.TSASAR_IS_NUMBER AS \"ID_NUM\",\n",
    "UTV80.TSASAMPL.COMMENT_TEXT AS \"SamplePointComment\",\n",
    "UTV80.TSASMPPT.DESCRIPTION_TEXT AS \"SamplePointDesc\"\n",
    "\n",
    "FROM \n",
    "UTV80.TINWSF -- Water System Facility (water source)\n",
    "JOIN UTV80.TINWSYS ON -- Water System (town or water provider)\n",
    "UTV80.TINWSF.TINWSYS_IS_NUMBER = UTV80.TINWSYS.TINWSYS_IS_NUMBER \n",
    "JOIN UTV80.TSASMPPT ON  -- Sample point\n",
    "UTV80.TINWSF.TINWSF_IS_NUMBER = UTV80.TSASMPPT.TINWSF0IS_NUMBER\n",
    "JOIN UTV80.TSASAMPL ON -- Sample\n",
    "UTV80.TSASMPPT.TSASMPPT_IS_NUMBER = UTV80.TSASAMPL.TSASMPPT_IS_NUMBER  -- Sample Point\n",
    "JOIN UTV80.TSASAR ON -- Sample Result\n",
    "UTV80.TSASAMPL.TSASAMPL_IS_NUMBER = UTV80.TSASAR.TSASAMPL_IS_NUMBER   -- Sample Number\n",
    "JOIN UTV80.TSAANLYT ON -- Analyte\n",
    "UTV80.TSASAR.TSAANLYT_IS_NUMBER = UTV80.TSAANLYT.TSAANLYT_IS_NUMBER  -- Analyte Number\n",
    "\n",
    "WHERE (UTV80.TINWSF.TYPE_CODE = 'SP' Or UTV80.TINWSF.TYPE_CODE = 'WL') -- Spring or well\n",
    "AND (UTV80.TSAANLYT.NAME LIKE '{:}') -- Name of Chemical Parameter\n",
    "AND UTV80.TSASMPPT.SOURCE_TYPE_CODE = 'RW' -- Raw (unfiltered) water\n",
    "AND UTV80.TSASMPPT.TYPE_CODE IN('RW','EP','SR') -- From source\n",
    "ORDER BY UTV80.TINWSF.ST_ASGN_IDENT_CD\n",
    "\"\"\""
   ]
  },
  {
   "cell_type": "markdown",
   "metadata": {},
   "source": [
    "The following script loops through the constituents of interest and downloads to csvs based on the above query, inserting the constituent name each time. It also reformats the date and time fields using Pandas (see http://strftime.org) and adds an `agency_cd` field. It generates a Pandas Dataframe for each parameter and stores it in a <a href='https://www.tutorialspoint.com/python/python_dictionary.htm'>dictionary</a> with the parameter name as the key"
   ]
  },
  {
   "cell_type": "code",
   "execution_count": 8,
   "metadata": {
    "collapsed": false
   },
   "outputs": [],
   "source": [
    "df_ora = {}\n",
    "for j in SDWISconst:\n",
    "    SQL = SQLtext.format(j)\n",
    "    k = j[:-1]\n",
    "    df_ora[k] = pd.read_sql(SQL, con = connection,\n",
    "                            parse_dates=['sample_dt','sample_tm','AnalysisDate'])\n",
    "    df_ora[k]['agency_cd'] = 'UDDW'"
   ]
  },
  {
   "cell_type": "markdown",
   "metadata": {},
   "source": [
    "We can then use Pandas to combine all of the <a href='https://pandas.pydata.org/pandas-docs/stable/dsintro.html'>Dataframes</a> into one massive dataframe and then save it as a csv.  The reason I didn't do this in the first place (just query all of the constituents) is because the large data request tends to lag or lock up."
   ]
  },
  {
   "cell_type": "code",
   "execution_count": 9,
   "metadata": {
    "collapsed": true
   },
   "outputs": [],
   "source": [
    "SDWISallraw = pd.concat(df_ora)\n",
    "SDWISallraw.reset_index(inplace=True)\n",
    "SDWISallraw.drop(['level_0','level_1'],inplace=True,axis=1)\n",
    "#SDWISallraw.to_csv(file_place.format('all'))"
   ]
  },
  {
   "cell_type": "markdown",
   "metadata": {},
   "source": [
    "Let's strip out unneeded white space to make units and parameter names more consistent."
   ]
  },
  {
   "cell_type": "code",
   "execution_count": 10,
   "metadata": {
    "collapsed": false
   },
   "outputs": [],
   "source": [
    "def unitstrip(x):\n",
    "    if x is None:\n",
    "        return x\n",
    "    else:\n",
    "        return x.strip()\n",
    "    \n",
    "SDWISallraw['Param'] = SDWISallraw['Param'].apply(lambda x: x.strip(),1) \n",
    "SDWISallraw['Unit'] = SDWISallraw['Unit'].apply(lambda x: unitstrip(x),1)\n",
    "SDWISallraw['MDLUnit'] = SDWISallraw['MDLUnit'].apply(lambda x: unitstrip(x),1)"
   ]
  },
  {
   "cell_type": "markdown",
   "metadata": {},
   "source": [
    "Add `remark_cd` field and populate based on value in `result_va` and the reported MDL."
   ]
  },
  {
   "cell_type": "code",
   "execution_count": 11,
   "metadata": {
    "collapsed": false
   },
   "outputs": [],
   "source": [
    "def fillmdlspot(x):\n",
    "    \"\"\"\n",
    "    PARAM\n",
    "    ------\n",
    "    x[0] = result_va\n",
    "    x[1] = Unit\n",
    "    x[2] = MDL\n",
    "    x[3] = MDLUnit\n",
    "    \n",
    "    RETURNS\n",
    "    -------\n",
    "    remark_cd, result_va, Unit\n",
    "    \"\"\"\n",
    "    if pd.isnull(x[0]) and pd.notnull(x[2]):\n",
    "        return '<',x[2],x[3]\n",
    "    else:\n",
    "        return np.nan, x[0], x[1]"
   ]
  },
  {
   "cell_type": "code",
   "execution_count": 12,
   "metadata": {
    "collapsed": true
   },
   "outputs": [],
   "source": [
    "SDWISallraw['remark_cd'],SDWISallraw['result_va'],SDWISallraw['Unit'] =\\\n",
    "zip(*SDWISallraw[['result_va','Unit','MDL','MDLUnit']].apply(lambda x: fillmdlspot(x),1))"
   ]
  },
  {
   "cell_type": "markdown",
   "metadata": {},
   "source": [
    "Convert ug/L to mg/L in cases where units should be in mg/L. We have to do this for both the MDL and the results."
   ]
  },
  {
   "cell_type": "code",
   "execution_count": 13,
   "metadata": {
    "collapsed": true
   },
   "outputs": [],
   "source": [
    "def converter(x):\n",
    "    # these are the parameters where we want the reported units to be ug/L\n",
    "    microgrammers = ['BORON,TOTAL','IRON','IRON, DISSOLVED','ARSENIC','BORON']\n",
    "    if x[0] == 'UG/L' and x[2] not in microgrammers:\n",
    "        return x[1]*0.001, 'MG/L'\n",
    "    elif x[0] == 'LBS/GAL':\n",
    "        return x[1]*119826.0, 'MG/L'\n",
    "    else:\n",
    "        return x[1], x[0]"
   ]
  },
  {
   "cell_type": "code",
   "execution_count": 14,
   "metadata": {
    "collapsed": false
   },
   "outputs": [],
   "source": [
    "SDWISallraw['result_va'], SDWISallraw['Unit'] =\\\n",
    "zip(*SDWISallraw[['Unit','result_va','Param']].apply(lambda x: converter(x),1))"
   ]
  },
  {
   "cell_type": "code",
   "execution_count": 15,
   "metadata": {
    "collapsed": true
   },
   "outputs": [],
   "source": [
    "SDWISallraw['MDL'], SDWISallraw['MDLUnit'] =\\\n",
    "zip(*SDWISallraw[['MDLUnit','MDL','Param']].apply(lambda x: converter(x),1))"
   ]
  },
  {
   "cell_type": "markdown",
   "metadata": {},
   "source": [
    "Match to USGS parameter codes to the named paramters.  The parameter codes can be found at the following links:<br>\n",
    "https://nwis.waterdata.usgs.gov/usa/nwis/pmcodes?radio_pm_search=param_group&pm_group=All+--+include+all+parameter+groups&pm_search=&casrn_search=&srsname_search=&format=html_table&show=parameter_group_nm&show=parameter_nm&show=casrn&show=srsname&show=parameter_units<br>\n",
    "https://nwis.waterdata.usgs.gov/usa/nwis/pmcodes"
   ]
  },
  {
   "cell_type": "code",
   "execution_count": 16,
   "metadata": {
    "collapsed": false
   },
   "outputs": [],
   "source": [
    "USGSmatch = {'CONDUCTIVITY @ 25 C UMHOS/CM':'00400', 'BORON':'01021',\n",
    "             'ARSENIC':'01000', 'BICARBONATE AS HCO3':'00451',\n",
    "             'ALKALINITY, BICARBONATE':'00451','ALKALINITY, CARBONATE':'00448',\n",
    "             'CARBONATE':'00448',\n",
    "             'BORON, TOTAL':'00999', 'BROMIDE':'71870', 'CALCIUM':'00915', \n",
    "             'CALCIUM HARDNESS':'00900','CHLORIDE':'00940', 'FLUORIDE':'00950', \n",
    "             'IRON':'01045', 'IRON, DISSOLVED':'01046','MAGNESIUM':'00925', \n",
    "             'NITRATE-NITRITE':'00631', 'NITRATE':'00620', 'PH':'00400',\n",
    "             'PHOSPHATE, TOTAL':'00650', 'PHOSPHORUS, TOTAL':'00665', 'POTASSIUM':'00935', \n",
    "             'SILICA':'00955','SODIUM':'00930', 'SULFATE':'00945', 'TDS':'70300',\n",
    "             'TEMPERATURE (CENTIGRADE)':'00010','ALKALINITY, TOTAL':'00421',\n",
    "             'ALKALINITY, CACO3 STABILITY':'00421'}"
   ]
  },
  {
   "cell_type": "code",
   "execution_count": 17,
   "metadata": {
    "collapsed": false
   },
   "outputs": [],
   "source": [
    "SDWISallraw['parm_cd'] = SDWISallraw['Param'].apply(lambda x: str(USGSmatch.get(x,'')),1)"
   ]
  },
  {
   "cell_type": "markdown",
   "metadata": {},
   "source": [
    "Combine result and remark for pivot."
   ]
  },
  {
   "cell_type": "code",
   "execution_count": 18,
   "metadata": {
    "collapsed": true
   },
   "outputs": [],
   "source": [
    "def comb_res_rmk(x):\n",
    "    \"\"\"combine remark and result\"\"\"\n",
    "    if x[0]== '<':\n",
    "        return str(x[0])+str(x[1])\n",
    "    else:\n",
    "        return str(x[1])"
   ]
  },
  {
   "cell_type": "code",
   "execution_count": 19,
   "metadata": {
    "collapsed": false
   },
   "outputs": [],
   "source": [
    "SDWISallraw['res_w_rmk'] = SDWISallraw[['remark_cd','result_va']].apply(lambda x: comb_res_rmk(x),1)"
   ]
  },
  {
   "cell_type": "markdown",
   "metadata": {},
   "source": [
    "Drop duplicates and null values."
   ]
  },
  {
   "cell_type": "code",
   "execution_count": 20,
   "metadata": {
    "collapsed": false
   },
   "outputs": [
    {
     "name": "stderr",
     "output_type": "stream",
     "text": [
      "c:\\users\\paulinkenbrandt\\documents\\github\\env\\lib\\site-packages\\ipykernel\\__main__.py:4: SettingWithCopyWarning: \n",
      "A value is trying to be set on a copy of a slice from a DataFrame.\n",
      "Try using .loc[row_indexer,col_indexer] = value instead\n",
      "\n",
      "See the caveats in the documentation: http://pandas.pydata.org/pandas-docs/stable/indexing.html#indexing-view-versus-copy\n"
     ]
    }
   ],
   "source": [
    "SDWISallraw.dropna(subset=['result_va'],inplace=True)\n",
    "SDWISallraw.sort_values(by=['SampleID','Param'],inplace=True)\n",
    "SDWIS = SDWISallraw.drop_duplicates(subset=['SampleID','Param'])\n",
    "SDWIS['SampleID'] = SDWIS['SampleID'].apply(lambda x: str(x),1) "
   ]
  },
  {
   "cell_type": "markdown",
   "metadata": {},
   "source": [
    "Save file to csv"
   ]
  },
  {
   "cell_type": "code",
   "execution_count": 21,
   "metadata": {
    "collapsed": false
   },
   "outputs": [],
   "source": [
    "SDWIS.to_csv(file_place.format('chem_by_analyte'),index=False)"
   ]
  },
  {
   "cell_type": "markdown",
   "metadata": {},
   "source": [
    "Pivot Data "
   ]
  },
  {
   "cell_type": "code",
   "execution_count": 22,
   "metadata": {
    "collapsed": false
   },
   "outputs": [],
   "source": [
    "SDWISp = SDWIS.drop_duplicates(subset=['SampleID','parm_cd'])\n",
    "SDWISpiv = SDWISp.pivot(index='SampleID', columns = 'parm_cd', values = 'res_w_rmk')"
   ]
  },
  {
   "cell_type": "code",
   "execution_count": 23,
   "metadata": {
    "collapsed": true
   },
   "outputs": [],
   "source": [
    "SDWISpivTot = pd.merge(SDWISpiv,SDWIS,left_index=True,right_on='SampleID',how='left')"
   ]
  },
  {
   "cell_type": "code",
   "execution_count": 24,
   "metadata": {
    "collapsed": false
   },
   "outputs": [],
   "source": [
    "SDWISpivTot.drop([u'',u'SampType', u'sample_tm', u'Param', u'result_va', u'Unit', \n",
    "                  u'MDL', u'MDLUnit', u'CAS_Reg',u'ID_NUM', \n",
    "                  u'remark_cd', u'parm_cd', u'res_w_rmk'],inplace=True,axis=1)"
   ]
  },
  {
   "cell_type": "code",
   "execution_count": 25,
   "metadata": {
    "collapsed": false
   },
   "outputs": [],
   "source": [
    "SDWISpivTot.to_csv(file_place.format('chem_by_sample'),index=False)"
   ]
  },
  {
   "cell_type": "markdown",
   "metadata": {},
   "source": [
    "## SDWIS Stations"
   ]
  },
  {
   "cell_type": "code",
   "execution_count": null,
   "metadata": {
    "collapsed": true
   },
   "outputs": [],
   "source": []
  },
  {
   "cell_type": "code",
   "execution_count": 26,
   "metadata": {
    "collapsed": true
   },
   "outputs": [],
   "source": [
    "StationQuery = \"\"\"\n",
    "SELECT \n",
    "UTV80.TINWSYS.TINWSYS_IS_NUMBER AS \"OrgID\",\n",
    "UTV80.TINWSYS.NAME AS \"OrgName\",\n",
    "UTV80.TINWSF.ST_ASGN_IDENT_CD AS \"StateFacID\",\n",
    "UTV80.TINWSYS.ALTERNATE_ST_NUM AS \"StateSysID\",\n",
    "UTV80.TINWSF.TINWSF_IS_NUMBER AS \"site_no\",\n",
    "UTV80.TINWSF.NAME AS \"station_nm\",\n",
    "UTV80.TINWSF.TYPE_CODE AS \"site_tp_cd\",\n",
    "UTV80.TINLOC.LAT_DMS_MSR AS \"lat_va\",\n",
    "UTV80.TINLOC.LONG_DMS_MSR AS \"long_va\",\n",
    "UTV80.TINLOC.LATITUDE_MEASURE AS \"dec_lat_va\",\n",
    "UTV80.TINLOC.LONGITUDE_MEASURE AS \"dec_long_va\",\n",
    "UTV80.TINLOC.HZ_COLLECT_METH_CD AS \"coord_meth_cd\",\n",
    "UTV80.TINLOC.HORIZ_ACCURACY_MSR AS \"coord_acy_cd\",\n",
    "UTV80.TINLOC.HORIZ_REF_DATUM_CD AS \"coord_datum_cd\",\n",
    "UTV80.TINLOC.HORIZ_REF_DATUM_CD AS \"dec_coord_datum_\",\n",
    "UTV80.TINLOC.SOURCE_MAP_SCALE AS \"map_scale_fc\",\n",
    "UTV80.TINLOC.VERTICAL_MEASURE AS \"alt_va\",\n",
    "UTV80.TINLOC.VER_COL_METH_CD AS \"alt_meth_cd\",\n",
    "UTV80.TINLOC.VERT_ACCURACY_MSR AS \"alt_acy_va\",\n",
    "UTV80.TINLOC.VERT_REF_DATUM_CD AS \"alt_datum_cd\",\n",
    "UTV80.TINWSF.CONSTRUCTED_DATE AS \"construction_dt\",\n",
    "UTV80.TINWSF.ACTIVITY_DATE AS \"ActDate\",\n",
    "UTV80.TINWSF.ACTIVITY_STATUS_CD AS \"ActStatus\"\n",
    " \n",
    "FROM\n",
    "UTV80.TINWSF\n",
    "JOIN UTV80.TINWSYS ON  UTV80.TINWSF.TINWSYS_IS_NUMBER = UTV80.TINWSYS.TINWSYS_IS_NUMBER  \n",
    "JOIN UTV80.TINLOC ON  UTV80.TINWSF.TINWSF_IS_NUMBER = UTV80.TINLOC.TINWSF_IS_NUMBER \n",
    " \n",
    "WHERE \n",
    "UTV80.TINWSF.TYPE_CODE IN('SP','WL') \n",
    "AND UTV80.TINLOC.LATITUDE_MEASURE != 0\n",
    "\"\"\""
   ]
  },
  {
   "cell_type": "code",
   "execution_count": 27,
   "metadata": {
    "collapsed": false
   },
   "outputs": [],
   "source": [
    "stations = pd.read_sql(StationQuery, con = connection)"
   ]
  },
  {
   "cell_type": "code",
   "execution_count": 28,
   "metadata": {
    "collapsed": false
   },
   "outputs": [],
   "source": [
    "def getsrcid(x):\n",
    "    return str(x[1]).zfill(5) + '-' + str(x[2][-2:])"
   ]
  },
  {
   "cell_type": "code",
   "execution_count": null,
   "metadata": {
    "collapsed": false
   },
   "outputs": [],
   "source": []
  },
  {
   "cell_type": "code",
   "execution_count": 29,
   "metadata": {
    "collapsed": false
   },
   "outputs": [],
   "source": [
    "idmatch = pd.read_csv(\"E:/Google Drive/WORK/Groundwater Chemistry/SDWIS/WellIDMatch.csv\")\n",
    "idmatch.set_index('ESN',inplace=True)\n",
    "id_dict = idmatch.to_dict()['SourceID']"
   ]
  },
  {
   "cell_type": "code",
   "execution_count": 30,
   "metadata": {
    "collapsed": false
   },
   "outputs": [],
   "source": [
    "def refine_sid(x):\n",
    "    sidraw = id_dict.get(x[0],getsrcid(x))\n",
    "    if len(sidraw)>8:\n",
    "        return str(sidraw[:-3]).zfill(5)+str(int(sidraw[-3:])).zfill(2)\n",
    "    else:\n",
    "        return sidraw\n",
    "stations['DEHN_source_id'] = stations[['site_no','StateSysID','StateFacID']]\\\n",
    ".apply(lambda x: refine_sid(x), 1)"
   ]
  },
  {
   "cell_type": "code",
   "execution_count": 31,
   "metadata": {
    "collapsed": false
   },
   "outputs": [
    {
     "data": {
      "text/html": [
       "<div>\n",
       "<table border=\"1\" class=\"dataframe\">\n",
       "  <thead>\n",
       "    <tr style=\"text-align: right;\">\n",
       "      <th></th>\n",
       "      <th>OrgID</th>\n",
       "      <th>OrgName</th>\n",
       "      <th>StateFacID</th>\n",
       "      <th>StateSysID</th>\n",
       "      <th>site_no</th>\n",
       "      <th>station_nm</th>\n",
       "      <th>site_tp_cd</th>\n",
       "      <th>lat_va</th>\n",
       "      <th>long_va</th>\n",
       "      <th>dec_lat_va</th>\n",
       "      <th>...</th>\n",
       "      <th>dec_coord_datum_</th>\n",
       "      <th>map_scale_fc</th>\n",
       "      <th>alt_va</th>\n",
       "      <th>alt_meth_cd</th>\n",
       "      <th>alt_acy_va</th>\n",
       "      <th>alt_datum_cd</th>\n",
       "      <th>construction_dt</th>\n",
       "      <th>ActDate</th>\n",
       "      <th>ActStatus</th>\n",
       "      <th>DEHN_source_id</th>\n",
       "    </tr>\n",
       "  </thead>\n",
       "  <tbody>\n",
       "    <tr>\n",
       "      <th>0</th>\n",
       "      <td>1596</td>\n",
       "      <td>VALLE DEL PADRES SUBDIV</td>\n",
       "      <td>WS001</td>\n",
       "      <td>07061</td>\n",
       "      <td>3380</td>\n",
       "      <td>HOMEOWNER WELL</td>\n",
       "      <td>WL</td>\n",
       "      <td>401130.2316</td>\n",
       "      <td>-1.105132e+06</td>\n",
       "      <td>40.191731</td>\n",
       "      <td>...</td>\n",
       "      <td>002</td>\n",
       "      <td>NA</td>\n",
       "      <td>0.00</td>\n",
       "      <td></td>\n",
       "      <td>0.00</td>\n",
       "      <td></td>\n",
       "      <td>None</td>\n",
       "      <td>2017-05-31</td>\n",
       "      <td>A</td>\n",
       "      <td>07061-01</td>\n",
       "    </tr>\n",
       "    <tr>\n",
       "      <th>1</th>\n",
       "      <td>750</td>\n",
       "      <td>HANNA WATER &amp; SEWER IMPROVEMENT DISTRICT</td>\n",
       "      <td>WS001</td>\n",
       "      <td>07062</td>\n",
       "      <td>3381</td>\n",
       "      <td>GINES WELL</td>\n",
       "      <td>WL</td>\n",
       "      <td>402523.6316</td>\n",
       "      <td>-1.104738e+06</td>\n",
       "      <td>40.423231</td>\n",
       "      <td>...</td>\n",
       "      <td>003</td>\n",
       "      <td>E</td>\n",
       "      <td>0.00</td>\n",
       "      <td></td>\n",
       "      <td>0.00</td>\n",
       "      <td></td>\n",
       "      <td>None</td>\n",
       "      <td>2014-02-13</td>\n",
       "      <td>I</td>\n",
       "      <td>07062-01</td>\n",
       "    </tr>\n",
       "    <tr>\n",
       "      <th>2</th>\n",
       "      <td>750</td>\n",
       "      <td>HANNA WATER &amp; SEWER IMPROVEMENT DISTRICT</td>\n",
       "      <td>WS002</td>\n",
       "      <td>07062</td>\n",
       "      <td>3382</td>\n",
       "      <td>STOCKMORE WELL</td>\n",
       "      <td>WL</td>\n",
       "      <td>402736.2664</td>\n",
       "      <td>-1.104935e+06</td>\n",
       "      <td>40.460074</td>\n",
       "      <td>...</td>\n",
       "      <td>003</td>\n",
       "      <td>E</td>\n",
       "      <td>2126.71</td>\n",
       "      <td>003</td>\n",
       "      <td>1.84</td>\n",
       "      <td>003</td>\n",
       "      <td>None</td>\n",
       "      <td>1977-06-01</td>\n",
       "      <td>I</td>\n",
       "      <td>07062-02</td>\n",
       "    </tr>\n",
       "    <tr>\n",
       "      <th>3</th>\n",
       "      <td>750</td>\n",
       "      <td>HANNA WATER &amp; SEWER IMPROVEMENT DISTRICT</td>\n",
       "      <td>WS003</td>\n",
       "      <td>07062</td>\n",
       "      <td>5673</td>\n",
       "      <td>ANNE MAE SPRING</td>\n",
       "      <td>SP</td>\n",
       "      <td>402832.0375</td>\n",
       "      <td>-1.105601e+06</td>\n",
       "      <td>40.475566</td>\n",
       "      <td>...</td>\n",
       "      <td>003</td>\n",
       "      <td>E</td>\n",
       "      <td>0.00</td>\n",
       "      <td></td>\n",
       "      <td>0.00</td>\n",
       "      <td></td>\n",
       "      <td>None</td>\n",
       "      <td>2013-08-27</td>\n",
       "      <td>A</td>\n",
       "      <td>07062-03</td>\n",
       "    </tr>\n",
       "    <tr>\n",
       "      <th>4</th>\n",
       "      <td>1230</td>\n",
       "      <td>RED CREEK RANCHES</td>\n",
       "      <td>WS001</td>\n",
       "      <td>07063</td>\n",
       "      <td>5674</td>\n",
       "      <td>RED CREEK SP</td>\n",
       "      <td>SP</td>\n",
       "      <td>401125.0188</td>\n",
       "      <td>-1.104846e+06</td>\n",
       "      <td>40.190283</td>\n",
       "      <td>...</td>\n",
       "      <td>003</td>\n",
       "      <td>E</td>\n",
       "      <td>1951.58</td>\n",
       "      <td>003</td>\n",
       "      <td>2.94</td>\n",
       "      <td>003</td>\n",
       "      <td>None</td>\n",
       "      <td>2013-01-08</td>\n",
       "      <td>A</td>\n",
       "      <td>07063-01</td>\n",
       "    </tr>\n",
       "  </tbody>\n",
       "</table>\n",
       "<p>5 rows × 24 columns</p>\n",
       "</div>"
      ],
      "text/plain": [
       "   OrgID                                   OrgName StateFacID StateSysID  \\\n",
       "0   1596                   VALLE DEL PADRES SUBDIV      WS001      07061   \n",
       "1    750  HANNA WATER & SEWER IMPROVEMENT DISTRICT      WS001      07062   \n",
       "2    750  HANNA WATER & SEWER IMPROVEMENT DISTRICT      WS002      07062   \n",
       "3    750  HANNA WATER & SEWER IMPROVEMENT DISTRICT      WS003      07062   \n",
       "4   1230                         RED CREEK RANCHES      WS001      07063   \n",
       "\n",
       "   site_no                                station_nm site_tp_cd       lat_va  \\\n",
       "0     3380                            HOMEOWNER WELL         WL  401130.2316   \n",
       "1     3381                                GINES WELL         WL  402523.6316   \n",
       "2     3382  STOCKMORE WELL                                   WL  402736.2664   \n",
       "3     5673                           ANNE MAE SPRING         SP  402832.0375   \n",
       "4     5674                              RED CREEK SP         SP  401125.0188   \n",
       "\n",
       "        long_va  dec_lat_va      ...        dec_coord_datum_ map_scale_fc  \\\n",
       "0 -1.105132e+06   40.191731      ...                     002           NA   \n",
       "1 -1.104738e+06   40.423231      ...                     003           E    \n",
       "2 -1.104935e+06   40.460074      ...                     003           E    \n",
       "3 -1.105601e+06   40.475566      ...                     003           E    \n",
       "4 -1.104846e+06   40.190283      ...                     003           E    \n",
       "\n",
       "    alt_va alt_meth_cd alt_acy_va alt_datum_cd  construction_dt    ActDate  \\\n",
       "0     0.00                   0.00                          None 2017-05-31   \n",
       "1     0.00                   0.00                          None 2014-02-13   \n",
       "2  2126.71         003       1.84          003             None 1977-06-01   \n",
       "3     0.00                   0.00                          None 2013-08-27   \n",
       "4  1951.58         003       2.94          003             None 2013-01-08   \n",
       "\n",
       "   ActStatus DEHN_source_id  \n",
       "0          A       07061-01  \n",
       "1          I       07062-01  \n",
       "2          I       07062-02  \n",
       "3          A       07062-03  \n",
       "4          A       07063-01  \n",
       "\n",
       "[5 rows x 24 columns]"
      ]
     },
     "execution_count": 31,
     "metadata": {},
     "output_type": "execute_result"
    }
   ],
   "source": [
    "stations.head()\n"
   ]
  },
  {
   "cell_type": "code",
   "execution_count": 32,
   "metadata": {
    "collapsed": false
   },
   "outputs": [],
   "source": [
    "engine = oraconnection.getEngine()"
   ]
  },
  {
   "cell_type": "code",
   "execution_count": 33,
   "metadata": {
    "collapsed": false
   },
   "outputs": [],
   "source": [
    "mySQL = \"\"\"SELECT * FROM water_rights_data.sources\"\"\""
   ]
  },
  {
   "cell_type": "code",
   "execution_count": 34,
   "metadata": {
    "collapsed": false
   },
   "outputs": [],
   "source": [
    "sources = pd.read_sql(mySQL,con=engine)"
   ]
  },
  {
   "cell_type": "code",
   "execution_count": 35,
   "metadata": {
    "collapsed": false
   },
   "outputs": [],
   "source": [
    "wrjoin = pd.merge(stations, sources, on='DEHN_source_id',how='left')\n",
    "withwin = wrjoin[wrjoin['win'].notnull()]"
   ]
  },
  {
   "cell_type": "code",
   "execution_count": 36,
   "metadata": {
    "collapsed": false
   },
   "outputs": [],
   "source": [
    "SQL = \"\"\"\n",
    "SELECT * FROM water_rights_data.{:}\n",
    "WHERE win IN('{:}')\n",
    "\"\"\"\n",
    "winstrlist = \"','\".join(map(str,withwin['win'].values))"
   ]
  },
  {
   "cell_type": "code",
   "execution_count": 37,
   "metadata": {
    "collapsed": false
   },
   "outputs": [],
   "source": [
    "construct = pd.read_sql(SQL.format('construction',winstrlist),con=engine)\n",
    "borehole = pd.read_sql(SQL.format('borehole',winstrlist),con=engine)\n",
    "screen = pd.read_sql(SQL.format('wellscreens',winstrlist),con=engine)"
   ]
  },
  {
   "cell_type": "code",
   "execution_count": null,
   "metadata": {
    "collapsed": true
   },
   "outputs": [],
   "source": []
  },
  {
   "cell_type": "code",
   "execution_count": 38,
   "metadata": {
    "collapsed": false
   },
   "outputs": [],
   "source": [
    "winproj = pd.read_csv(\"E:/Google Drive/WORK/Groundwater Chemistry/wrpod_WIN.txt\")\n",
    "winprojSDWIS = winproj[winproj['WIN'].isin(withwin['win'].astype(int).values)]"
   ]
  },
  {
   "cell_type": "code",
   "execution_count": 39,
   "metadata": {
    "collapsed": false
   },
   "outputs": [
    {
     "name": "stderr",
     "output_type": "stream",
     "text": [
      "Skipping line 30451: expected 7 fields, saw 8\n",
      "\n"
     ]
    }
   ],
   "source": [
    "wellfeats = pd.read_csv(\"E:/Google Drive/WORK/Groundwater Chemistry/wrpod_wellfeatures.txt\",\n",
    "                        error_bad_lines=False)\n",
    "wellfeats.set_index('win',inplace=True)"
   ]
  },
  {
   "cell_type": "code",
   "execution_count": 40,
   "metadata": {
    "collapsed": false
   },
   "outputs": [],
   "source": [
    "def getdepth(df,kp = 'last'):\n",
    "    df.sort_values('To_ft',inplace=True)\n",
    "    df.drop_duplicates(subset='WIN',keep=kp,inplace=True)\n",
    "    df.set_index('WIN',inplace=True)\n",
    "    return df['To_ft'].to_dict()\n",
    "\n",
    "bdepth = getdepth(borehole)\n",
    "sdepth = getdepth(screen, 'first')"
   ]
  },
  {
   "cell_type": "code",
   "execution_count": 41,
   "metadata": {
    "collapsed": false
   },
   "outputs": [],
   "source": [
    "def winconv(x):\n",
    "    if pd.isnull(x):\n",
    "        return x\n",
    "    else:\n",
    "        return int(x)\n",
    "\n",
    "wrjoin['win'] = wrjoin['win'].apply(lambda x: winconv(x),1)\n",
    "depthdict = wellfeats['totalDepth'].to_dict()\n",
    "sdepthdict = wellfeats['screenDepth'].to_dict()\n",
    "wrjoin['depth'] = wrjoin['win'].apply(lambda x: depthdict.get(x,bdepth.get(x,np.nan)))\n",
    "wrjoin['screen_depth'] = wrjoin['win'].apply(lambda x: sdepthdict.get(x,sdepth.get(x,np.nan)))"
   ]
  },
  {
   "cell_type": "code",
   "execution_count": 42,
   "metadata": {
    "collapsed": false
   },
   "outputs": [
    {
     "name": "stdout",
     "output_type": "stream",
     "text": [
      "3566\n",
      "(313, 313)\n"
     ]
    }
   ],
   "source": [
    "wrjoin.drop_duplicates(subset=['site_no'],inplace=True)\n",
    "print(len(wrjoin))\n",
    "print(len(wrjoin[wrjoin['depth'].notnull()]),len(wrjoin[wrjoin['screen_depth'].notnull()]))\n",
    "wrjoin.to_csv(file_place.format('stations'))"
   ]
  },
  {
   "cell_type": "markdown",
   "metadata": {},
   "source": [
    "# USGS Format and Table"
   ]
  },
  {
   "cell_type": "markdown",
   "metadata": {},
   "source": [
    "Mainly for the NWIS Schema"
   ]
  },
  {
   "cell_type": "code",
   "execution_count": null,
   "metadata": {
    "collapsed": true
   },
   "outputs": [],
   "source": [
    "columns = ['agency_cd','site_no','sample_dt','sample_tm','sample_end_dt','sample_end_tm',\n",
    "           'sample_start_time_datum_cd','tm_datum_rlbty_cd','coll_ent_cd','medium_cd',\n",
    "           'tu_id','body_part_id','r00003','p00003','r00010','p00010','r00094','p00094',\n",
    "           'r00400','p00400','r00631','p00631','r00671','p00671','r00900','p00900','r00915',\n",
    "           'p00915','r00925','p00925','r00930','p00930','r00935','p00935','r00940','p00940',\n",
    "           'r00945','p00945','r00950','p00950','r00955','p00955','r01000','p01000','r01046',\n",
    "           'p01046','r22703','p22703','r70300','p70300','r71870','p71870','r90410','p90410']"
   ]
  },
  {
   "cell_type": "code",
   "execution_count": null,
   "metadata": {
    "collapsed": false,
    "scrolled": true
   },
   "outputs": [],
   "source": [
    "usgs_piv_path = 'E:/Google Drive/WORK/Groundwater Chemistry/USGS_data/qwdata_pivot'\n",
    "pd.read_csv(usgs_piv_path, sep = '\\t',skiprows=12438,names=columns)"
   ]
  },
  {
   "cell_type": "code",
   "execution_count": null,
   "metadata": {
    "collapsed": true
   },
   "outputs": [],
   "source": [
    "['']"
   ]
  },
  {
   "cell_type": "code",
   "execution_count": null,
   "metadata": {
    "collapsed": true
   },
   "outputs": [],
   "source": [
    "SQL = \"\"\"\n",
    "SELECT * FROM UTV80.TSAMCSMP \n",
    "WHERE \n",
    "UTV80.TSAMCSMP.FIELD_TEMP_MSR > 0 OR \n",
    "UTV80.TSAMCSMP.FIELD_PH_MEASURE > 0\n",
    "\"\"\""
   ]
  },
  {
   "cell_type": "code",
   "execution_count": null,
   "metadata": {
    "collapsed": false
   },
   "outputs": [],
   "source": [
    "df_ora"
   ]
  },
  {
   "cell_type": "code",
   "execution_count": null,
   "metadata": {
    "collapsed": true
   },
   "outputs": [],
   "source": []
  }
 ],
 "metadata": {
  "kernelspec": {
   "display_name": "Python 2",
   "language": "python",
   "name": "python2"
  },
  "language_info": {
   "codemirror_mode": {
    "name": "ipython",
    "version": 2
   },
   "file_extension": ".py",
   "mimetype": "text/x-python",
   "name": "python",
   "nbconvert_exporter": "python",
   "pygments_lexer": "ipython2",
   "version": "2.7.10"
  },
  "widgets": {
   "state": {},
   "version": "1.1.1"
  }
 },
 "nbformat": 4,
 "nbformat_minor": 0
}
