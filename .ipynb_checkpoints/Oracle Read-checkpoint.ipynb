{
 "cells": [
  {
   "cell_type": "markdown",
   "metadata": {},
   "source": [
    "Import relevant Python libraries."
   ]
  },
  {
   "cell_type": "code",
   "execution_count": 1,
   "metadata": {
    "collapsed": false
   },
   "outputs": [],
   "source": [
    "import pandas as pd\n",
    "import cx_Oracle\n",
    "import numpy as np\n",
    "import sys\n",
    "import platform"
   ]
  },
  {
   "cell_type": "markdown",
   "metadata": {},
   "source": [
    "Print version information."
   ]
  },
  {
   "cell_type": "code",
   "execution_count": 2,
   "metadata": {
    "collapsed": false
   },
   "outputs": [
    {
     "name": "stdout",
     "output_type": "stream",
     "text": [
      "Operating System Windows 7\n",
      "Python Version 2.7.10 (default, May 23 2015, 09:40:32) [MSC v.1500 32 bit (Intel)]\n",
      "Pandas Version 0.19.1\n",
      "Numpy Version 1.11.2\n"
     ]
    }
   ],
   "source": [
    "print(\"Operating System \" + platform.system() + \" \" + platform.release())\n",
    "print(\"Python Version \" + str(sys.version))\n",
    "print(\"Pandas Version \" + str(pd.__version__))\n",
    "print(\"Numpy Version \" + str(np.__version__))"
   ]
  },
  {
   "cell_type": "markdown",
   "metadata": {},
   "source": [
    "# SDWIS Data"
   ]
  },
  {
   "cell_type": "code",
   "execution_count": 6,
   "metadata": {
    "collapsed": true
   },
   "outputs": [],
   "source": [
    "file_place = 'E:/Google Drive/WORK/Groundwater Chemistry/raw_SDWIS/{:}.csv'"
   ]
  },
  {
   "cell_type": "markdown",
   "metadata": {},
   "source": [
    "Import database connection.  This is kept in a separate file because it contains sensitive information."
   ]
  },
  {
   "cell_type": "code",
   "execution_count": 3,
   "metadata": {
    "collapsed": true
   },
   "outputs": [],
   "source": [
    "connection_filepath = \"E:\\Google Drive\\WORK\\Groundwater Chemistry\"\n",
    "sys.path.append(connection_filepath)\n",
    "import oraconnection"
   ]
  },
  {
   "cell_type": "markdown",
   "metadata": {},
   "source": [
    "This function below is just calling the imported database connection and assigning it to a variable."
   ]
  },
  {
   "cell_type": "code",
   "execution_count": 4,
   "metadata": {
    "collapsed": false
   },
   "outputs": [],
   "source": [
    "connection = oraconnection.oraconnect()"
   ]
  },
  {
   "cell_type": "markdown",
   "metadata": {},
   "source": [
    "## SDWIS Chemistry Data"
   ]
  },
  {
   "cell_type": "markdown",
   "metadata": {},
   "source": [
    "`SDWISconst` is a list of the constituents of interest.  The percent sign is used as a wildcard because all of the parameter names have trailing spaces or other issues."
   ]
  },
  {
   "cell_type": "code",
   "execution_count": 42,
   "metadata": {
    "collapsed": true
   },
   "outputs": [],
   "source": [
    "SDWISconst = ['PHOSPHORUS%', 'ARSENIC%','CALCIUM%','CHLORIDE%',\n",
    "              'FLUORIDE%','IRON%', 'MAGNESIUM%','NITRATE%','CARBONATE%',\n",
    "              'POTASSIUM%','BICARBONATE%','ALKA%','PHOSPHATE%',\n",
    "              'SILICA%','SODIUM%','SULFATE%','BORON%','BROMIDE%','PH%',\n",
    "              'TDS%','CONDUCT%','URANIUM%','TEMPER%','HARDN%']"
   ]
  },
  {
   "cell_type": "markdown",
   "metadata": {},
   "source": [
    "The following is the SQL query used to pull the chemistry data from the database.  It renames the fields (from `SELECT` to `FROM`), then joins the appropriate tables (from `FROM` to `WHERE`, then limits the output to Springs and Wells and state issigned id code.  The `{:}` in the `WHERE` clause is a place holder for one of the above parameters in the `SDWISconst` list."
   ]
  },
  {
   "cell_type": "code",
   "execution_count": 77,
   "metadata": {
    "collapsed": true
   },
   "outputs": [],
   "source": [
    "SQLtext = \"\"\"\n",
    "SELECT\n",
    "UTV80.TINWSF.TYPE_CODE AS \"SampType\", \n",
    "UTV80.TINWSF.TINWSF_IS_NUMBER AS \"site_no\", \n",
    "UTV80.TINWSYS.TINWSYS_IS_NUMBER AS \"OrgID\", \n",
    "UTV80.TINWSYS.NAME AS \"OrgName\", \n",
    "UTV80.TSASAMPL.LAB_ASGND_ID_NUM AS \"SampleID\", \n",
    "UTV80.TSASAMPL.COLLLECTION_END_DT AS \"sample_dt\", \n",
    "UTV80.TSASAMPL.COLLCTN_END_TIME AS \"sample_tm\", \n",
    "UTV80.TSAANLYT.NAME AS \"Param\", \n",
    "UTV80.TSASAR.CONCENTRATION_MSR AS \"result_va\", \n",
    "UTV80.TSASAR.UOM_CODE AS \"Unit\", \n",
    "UTV80.TSASAR.ANALYSIS_START_DT AS \"AnalysisDate\", \n",
    "UTV80.TSASAR.DETECTN_LIMIT_NUM AS \"MDL\", \n",
    "UTV80.TSASAR.DETECTN_LIM_UOM_CD AS \"MDLUnit\", \n",
    "UTV80.TSAANLYT.CAS_REGISTRY_NUM AS \"CAS_Reg\", \n",
    "UTV80.TSASAR.TSASAR_IS_NUMBER AS \"ID_NUM\",\n",
    "UTV80.TSASAMPL.COMMENT_TEXT AS \"SamplePointComment\",\n",
    "UTV80.TSASMPPT.DESCRIPTION_TEXT AS \"SamplePointDesc\"\n",
    "\n",
    "FROM UTV80.TINWSF -- Water System Facility (water source)\n",
    "JOIN UTV80.TINWSYS ON -- Water System (town or water provider)\n",
    "UTV80.TINWSF.TINWSYS_IS_NUMBER = UTV80.TINWSYS.TINWSYS_IS_NUMBER \n",
    "JOIN UTV80.TSASMPPT ON  -- Sample point\n",
    "UTV80.TINWSF.TINWSF_IS_NUMBER = UTV80.TSASMPPT.TINWSF0IS_NUMBER\n",
    "JOIN UTV80.TSASAMPL ON -- Sample\n",
    "UTV80.TSASMPPT.TSASMPPT_IS_NUMBER = UTV80.TSASAMPL.TSASMPPT_IS_NUMBER  -- Sample Point\n",
    "JOIN UTV80.TSASAR ON -- Sample Result\n",
    "UTV80.TSASAMPL.TSASAMPL_IS_NUMBER = UTV80.TSASAR.TSASAMPL_IS_NUMBER   -- Sample Number\n",
    "JOIN UTV80.TSAANLYT ON -- Analyte\n",
    "UTV80.TSASAR.TSAANLYT_IS_NUMBER = UTV80.TSAANLYT.TSAANLYT_IS_NUMBER  -- Analyte Number\n",
    "\n",
    "WHERE (UTV80.TINWSF.TYPE_CODE = 'SP' Or UTV80.TINWSF.TYPE_CODE = 'WL') -- Spring or well\n",
    "AND (UTV80.TSAANLYT.NAME LIKE '{:}') -- Name of Chemical Parameter\n",
    "AND UTV80.TSASMPPT.SOURCE_TYPE_CODE = 'RW' -- Raw (unfiltered) water\n",
    "AND UTV80.TSASMPPT.TYPE_CODE IN('RW','EP','SR') -- From source\n",
    "ORDER BY UTV80.TINWSF.ST_ASGN_IDENT_CD\n",
    "\"\"\""
   ]
  },
  {
   "cell_type": "markdown",
   "metadata": {},
   "source": [
    "The following script loops through the constituents of interest and downloads to csvs based on the above query, inserting the constituent name each time. It also reformats the date and time fields using Pandas (see http://strftime.org) and adds an `agency_cd` field. It generates a Pandas Dataframe for each parameter and stores it in a <a href='https://www.tutorialspoint.com/python/python_dictionary.htm'>dictionary</a> with the parameter name as the key"
   ]
  },
  {
   "cell_type": "code",
   "execution_count": 78,
   "metadata": {
    "collapsed": false
   },
   "outputs": [],
   "source": [
    "df_ora = {}\n",
    "for j in SDWISconst:\n",
    "    SQL = SQLtext.format(j)\n",
    "    k = j[:-1]\n",
    "    df_ora[k] = pd.read_sql(SQL, con = connection,\n",
    "                            parse_dates=['sample_dt','sample_tm','AnalysisDate'])\n",
    "    df_ora[k]['agency_cd'] = 'UDDW'"
   ]
  },
  {
   "cell_type": "markdown",
   "metadata": {},
   "source": [
    "We can then use Pandas to combine all of the <a href='https://pandas.pydata.org/pandas-docs/stable/dsintro.html'>Dataframes</a> into one massive dataframe and then save it as a csv.  The reason I didn't do this in the first place (just query all of the constituents) is because the large data request tends to lag or lock up."
   ]
  },
  {
   "cell_type": "code",
   "execution_count": 79,
   "metadata": {
    "collapsed": true
   },
   "outputs": [],
   "source": [
    "SDWISallraw = pd.concat(df_ora)\n",
    "SDWISallraw.reset_index(inplace=True)\n",
    "SDWISallraw.drop(['level_0','level_1'],inplace=True,axis=1)\n",
    "SDWISallraw.to_csv(file_place.format('all'))"
   ]
  },
  {
   "cell_type": "markdown",
   "metadata": {},
   "source": [
    "Let's strip out unneeded white space to make units and parameter names more consistent."
   ]
  },
  {
   "cell_type": "code",
   "execution_count": 80,
   "metadata": {
    "collapsed": false
   },
   "outputs": [],
   "source": [
    "def unitstrip(x):\n",
    "    if x is None:\n",
    "        return x\n",
    "    else:\n",
    "        return x.strip()\n",
    "    \n",
    "SDWISallraw['Param'] = SDWISallraw['Param'].apply(lambda x: x.strip(),1) \n",
    "SDWISallraw['Unit'] = SDWISallraw['Unit'].apply(lambda x: unitstrip(x),1)\n",
    "SDWISallraw['MDLUnit'] = SDWISallraw['MDLUnit'].apply(lambda x: unitstrip(x),1)"
   ]
  },
  {
   "cell_type": "markdown",
   "metadata": {},
   "source": [
    "Add `remark_cd` field and populate based on value in `result_va` and the reported MDL."
   ]
  },
  {
   "cell_type": "code",
   "execution_count": 81,
   "metadata": {
    "collapsed": false
   },
   "outputs": [],
   "source": [
    "def fillmdlspot(x):\n",
    "    \"\"\"\n",
    "    PARAM\n",
    "    ------\n",
    "    x[0] = result_va\n",
    "    x[1] = Unit\n",
    "    x[2] = MDL\n",
    "    x[3] = MDLUnit\n",
    "    \n",
    "    RETURNS\n",
    "    -------\n",
    "    remark_cd, result_va, Unit\n",
    "    \"\"\"\n",
    "    if pd.isnull(x[0]) and pd.notnull(x[2]):\n",
    "        return '<',x[2],x[3]\n",
    "    else:\n",
    "        return np.nan, x[0], x[1]"
   ]
  },
  {
   "cell_type": "code",
   "execution_count": 82,
   "metadata": {
    "collapsed": true
   },
   "outputs": [],
   "source": [
    "SDWISallraw['remark_cd'],SDWISallraw['result_va'],SDWISallraw['Unit'] =\\\n",
    "zip(*SDWISallraw[['result_va','Unit','MDL','MDLUnit']].apply(lambda x: fillmdlspot(x),1))"
   ]
  },
  {
   "cell_type": "markdown",
   "metadata": {},
   "source": [
    "Convert ug/L to mg/L in cases where units should be in mg/L. We have to do this for both the MDL and the results."
   ]
  },
  {
   "cell_type": "code",
   "execution_count": 83,
   "metadata": {
    "collapsed": true
   },
   "outputs": [],
   "source": [
    "def converter(x):\n",
    "    # these are the parameters where we want the reported units to be ug/L\n",
    "    microgrammers = ['BORON,TOTAL','IRON','IRON, DISSOLVED','ARSENIC','BORON']\n",
    "    if x[0] == 'UG/L' and x[2] not in microgrammers:\n",
    "        return x[1]*0.001, 'MG/L'\n",
    "    elif x[0] == 'LBS/GAL':\n",
    "        return x[1]*119826.0, 'MG/L'\n",
    "    else:\n",
    "        return x[1], x[0]"
   ]
  },
  {
   "cell_type": "code",
   "execution_count": 84,
   "metadata": {
    "collapsed": false
   },
   "outputs": [],
   "source": [
    "SDWISallraw['result_va'], SDWISallraw['Unit'] =\\\n",
    "zip(*SDWISallraw[['Unit','result_va','Param']].apply(lambda x: converter(x),1))"
   ]
  },
  {
   "cell_type": "code",
   "execution_count": 85,
   "metadata": {
    "collapsed": true
   },
   "outputs": [],
   "source": [
    "SDWISallraw['MDL'], SDWISallraw['MDLUnit'] =\\\n",
    "zip(*SDWISallraw[['MDLUnit','MDL','Param']].apply(lambda x: converter(x),1))"
   ]
  },
  {
   "cell_type": "markdown",
   "metadata": {},
   "source": [
    "Match to USGS parameter codes to the named paramters.  The parameter codes can be found at the following links:<br>\n",
    "https://nwis.waterdata.usgs.gov/usa/nwis/pmcodes?radio_pm_search=param_group&pm_group=All+--+include+all+parameter+groups&pm_search=&casrn_search=&srsname_search=&format=html_table&show=parameter_group_nm&show=parameter_nm&show=casrn&show=srsname&show=parameter_units<br>\n",
    "https://nwis.waterdata.usgs.gov/usa/nwis/pmcodes"
   ]
  },
  {
   "cell_type": "code",
   "execution_count": 86,
   "metadata": {
    "collapsed": false
   },
   "outputs": [],
   "source": [
    "USGSmatch = {'CONDUCTIVITY @ 25 C UMHOS/CM':'00400', 'BORON':'01021',\n",
    "             'ARSENIC':'01000', 'BICARBONATE AS HCO3':'00451',\n",
    "             'ALKALINITY, BICARBONATE':'00451','ALKALINITY, CARBONATE':'00448',\n",
    "             'CARBONATE':'00448',\n",
    "             'BORON, TOTAL':'00999', 'BROMIDE':'71870', 'CALCIUM':'00915', \n",
    "             'CALCIUM HARDNESS':'00900','CHLORIDE':'00940', 'FLUORIDE':'00950', \n",
    "             'IRON':'01045', 'IRON, DISSOLVED':'01046','MAGNESIUM':'00925', \n",
    "             'NITRATE-NITRITE':'00631', 'NITRATE':'00620', 'PH':'00400',\n",
    "             'PHOSPHATE, TOTAL':'00650', 'PHOSPHORUS, TOTAL':'00665', 'POTASSIUM':'00935', \n",
    "             'SILICA':'00955','SODIUM':'00930', 'SULFATE':'00945', 'TDS':'70300',\n",
    "             'TEMPERATURE (CENTIGRADE)':'00010','ALKALINITY, TOTAL':'00421',\n",
    "             'ALKALINITY, CACO3 STABILITY':'00421'}"
   ]
  },
  {
   "cell_type": "code",
   "execution_count": 87,
   "metadata": {
    "collapsed": false
   },
   "outputs": [],
   "source": [
    "SDWISallraw['parm_cd'] = SDWISallraw['Param'].apply(lambda x: str(USGSmatch.get(x,'')),1)"
   ]
  },
  {
   "cell_type": "markdown",
   "metadata": {},
   "source": [
    "Combine result and remark for pivot."
   ]
  },
  {
   "cell_type": "code",
   "execution_count": 88,
   "metadata": {
    "collapsed": true
   },
   "outputs": [],
   "source": [
    "def comb_res_rmk(x):\n",
    "    \"\"\"combine remark and result\"\"\"\n",
    "    if x[0]== '<':\n",
    "        return str(x[0])+str(x[1])\n",
    "    else:\n",
    "        return str(x[1])"
   ]
  },
  {
   "cell_type": "code",
   "execution_count": 89,
   "metadata": {
    "collapsed": false
   },
   "outputs": [],
   "source": [
    "SDWISallraw['res_w_rmk'] = SDWISallraw[['remark_cd','result_va']].apply(lambda x: comb_res_rmk(x),1)"
   ]
  },
  {
   "cell_type": "markdown",
   "metadata": {},
   "source": [
    "Drop duplicates and null values."
   ]
  },
  {
   "cell_type": "code",
   "execution_count": 90,
   "metadata": {
    "collapsed": false
   },
   "outputs": [
    {
     "name": "stderr",
     "output_type": "stream",
     "text": [
      "c:\\users\\paulinkenbrandt\\documents\\github\\env\\lib\\site-packages\\ipykernel\\__main__.py:4: SettingWithCopyWarning: \n",
      "A value is trying to be set on a copy of a slice from a DataFrame.\n",
      "Try using .loc[row_indexer,col_indexer] = value instead\n",
      "\n",
      "See the caveats in the documentation: http://pandas.pydata.org/pandas-docs/stable/indexing.html#indexing-view-versus-copy\n"
     ]
    }
   ],
   "source": [
    "SDWISallraw.dropna(subset=['result_va'],inplace=True)\n",
    "SDWISallraw.sort_values(by=['SampleID','Param'],inplace=True)\n",
    "SDWIS = SDWISallraw.drop_duplicates(subset=['SampleID','Param'])\n",
    "SDWIS['SampleID'] = SDWIS['SampleID'].apply(lambda x: 'SDWIS-'+str(x),1) "
   ]
  },
  {
   "cell_type": "markdown",
   "metadata": {},
   "source": [
    "Save file to csv"
   ]
  },
  {
   "cell_type": "code",
   "execution_count": 91,
   "metadata": {
    "collapsed": false
   },
   "outputs": [],
   "source": [
    "SDWIS.to_csv(file_place.format('all_adjusted'),index=False)"
   ]
  },
  {
   "cell_type": "code",
   "execution_count": 98,
   "metadata": {
    "collapsed": false
   },
   "outputs": [],
   "source": [
    "SDWISp = SDWIS.drop_duplicates(subset=['SampleID','parm_cd'])\n",
    "SDWISpiv = SDWISp.pivot(index='SampleID', columns = 'parm_cd', values = 'res_w_rmk')"
   ]
  },
  {
   "cell_type": "code",
   "execution_count": 99,
   "metadata": {
    "collapsed": true
   },
   "outputs": [],
   "source": [
    "SDWISpivTot = pd.merge(SDWISpiv,SDWIS,left_index=True,right_on='SampleID',how='left')"
   ]
  },
  {
   "cell_type": "code",
   "execution_count": 100,
   "metadata": {
    "collapsed": true
   },
   "outputs": [],
   "source": [
    "SDWISpivTot.drop_duplicates(subset='SampleID',inplace=True)"
   ]
  },
  {
   "cell_type": "code",
   "execution_count": 95,
   "metadata": {
    "collapsed": false,
    "scrolled": true
   },
   "outputs": [],
   "source": [
    "colms = [u'00010', u'00400', u'00421', u'00448', u'00451', u'00620', u'00631',\n",
    "       u'00650', u'00665', u'00900', u'00915', u'00925', u'00930', u'00935',\n",
    "       u'00940', u'00945', u'00950', u'00955', u'00999', u'01000', u'01045',\n",
    "       u'01046', u'70300', u'71870', u'site_no', u'OrgID', u'OrgName',\n",
    "       u'sample_dt']\n",
    "\n",
    "SDWISpivTot.drop_duplicates(subset=colms, inplace=True)"
   ]
  },
  {
   "cell_type": "code",
   "execution_count": 101,
   "metadata": {
    "collapsed": false
   },
   "outputs": [],
   "source": [
    "SDWISpivTot.drop([u'',u'SampType', u'sample_tm', u'Param', u'result_va', u'Unit', \n",
    "                  u'MDL', u'MDLUnit', u'CAS_Reg',u'ID_NUM', \n",
    "                  u'remark_cd', u'parm_cd', u'res_w_rmk'],inplace=True,axis=1)"
   ]
  },
  {
   "cell_type": "code",
   "execution_count": 102,
   "metadata": {
    "collapsed": false
   },
   "outputs": [],
   "source": [
    "SDWISpivTot.to_csv(file_place.format('by_sample_with_info'),index=False)"
   ]
  },
  {
   "cell_type": "markdown",
   "metadata": {},
   "source": [
    "## SDWIS Stations"
   ]
  },
  {
   "cell_type": "code",
   "execution_count": 96,
   "metadata": {
    "collapsed": true
   },
   "outputs": [],
   "source": [
    "StationQuery = \"\"\"\n",
    "SELECT \n",
    "UTV80.TINWSF.TINWSF_IS_NUMBER AS \"StationID\",\n",
    "UTV80.TINWSF.NAME AS \"StationName\",\n",
    "UTV80.TINWSF.TYPE_CODE AS \"StationType\",\n",
    "UTV80.TINWSYS.TINWSYS_IS_NUMBER AS \"OrgID\",\n",
    "UTV80.TINWSYS.NAME AS \"OrgName\",\n",
    "UTV80.TINLOC.LATITUDE_MEASURE AS \"Lat_Y\",\n",
    "UTV80.TINLOC.LONGITUDE_MEASURE AS \"Lon_X\",\n",
    "UTV80.TINLOC.SRC_MAP_SCALE_NUM AS \"MapScale\",\n",
    "UTV80.TINLOC.HORIZ_ACCURACY_MSR AS \"HorAcc\",\n",
    "UTV80.TINLOC.HZ_COLLECT_METH_CD AS \"HorCollMeth\",\n",
    "UTV80.TINLOC.HORIZ_REF_DATUM_CD AS \"HorRef\",\n",
    "UTV80.TINLOC.VERTICAL_MEASURE AS \"Elev\",\n",
    "UTV80.TINLOC.VERT_ACCURACY_MSR AS \"ElevAcc\",\n",
    "UTV80.TINLOC.VER_COL_METH_CD AS \"ElevMeth\",\n",
    "UTV80.TINLOC.VERT_REF_DATUM_CD AS \"ElevRef\",\n",
    "UTV80.TINWSF.ACTIVITY_DATE AS \"ActDate\",\n",
    "UTV80.TINWSF.ACTIVITY_STATUS_CD AS \"ActStatus\"\n",
    " \n",
    "FROM\n",
    "UTV80.TINWSF\n",
    "JOIN UTV80.TINWSYS ON  UTV80.TINWSF.TINWSYS_IS_NUMBER = UTV80.TINWSYS.TINWSYS_IS_NUMBER  \n",
    "JOIN UTV80.TINLOC ON  UTV80.TINWSF.TINWSF_IS_NUMBER = UTV80.TINLOC.TINWSF_IS_NUMBER \n",
    " \n",
    "WHERE (UTV80.TINWSF.TYPE_CODE = 'SP' OR UTV80.TINWSF.TYPE_CODE = 'WL') AND UTV80.TINLOC.LATITUDE_MEASURE != 0\n",
    "\"\"\""
   ]
  },
  {
   "cell_type": "code",
   "execution_count": null,
   "metadata": {
    "collapsed": true
   },
   "outputs": [],
   "source": []
  },
  {
   "cell_type": "markdown",
   "metadata": {},
   "source": [
    "# USGS Format and Table"
   ]
  },
  {
   "cell_type": "markdown",
   "metadata": {},
   "source": [
    "Mainly for the NWIS Schema"
   ]
  },
  {
   "cell_type": "code",
   "execution_count": null,
   "metadata": {
    "collapsed": true
   },
   "outputs": [],
   "source": [
    "columns = ['agency_cd','site_no','sample_dt','sample_tm','sample_end_dt','sample_end_tm',\n",
    "           'sample_start_time_datum_cd','tm_datum_rlbty_cd','coll_ent_cd','medium_cd',\n",
    "           'tu_id','body_part_id','r00003','p00003','r00010','p00010','r00094','p00094',\n",
    "           'r00400','p00400','r00631','p00631','r00671','p00671','r00900','p00900','r00915',\n",
    "           'p00915','r00925','p00925','r00930','p00930','r00935','p00935','r00940','p00940',\n",
    "           'r00945','p00945','r00950','p00950','r00955','p00955','r01000','p01000','r01046',\n",
    "           'p01046','r22703','p22703','r70300','p70300','r71870','p71870','r90410','p90410']"
   ]
  },
  {
   "cell_type": "code",
   "execution_count": null,
   "metadata": {
    "collapsed": false,
    "scrolled": true
   },
   "outputs": [],
   "source": [
    "usgs_piv_path = 'E:/Google Drive/WORK/Groundwater Chemistry/USGS_data/qwdata_pivot'\n",
    "pd.read_csv(usgs_piv_path, sep = '\\t',skiprows=12438,names=columns)"
   ]
  },
  {
   "cell_type": "code",
   "execution_count": null,
   "metadata": {
    "collapsed": true
   },
   "outputs": [],
   "source": [
    "['']"
   ]
  },
  {
   "cell_type": "code",
   "execution_count": null,
   "metadata": {
    "collapsed": true
   },
   "outputs": [],
   "source": [
    "SQL = \"\"\"\n",
    "SELECT * FROM UTV80.TSAMCSMP \n",
    "WHERE \n",
    "UTV80.TSAMCSMP.FIELD_TEMP_MSR > 0 OR \n",
    "UTV80.TSAMCSMP.FIELD_PH_MEASURE > 0\n",
    "\"\"\""
   ]
  },
  {
   "cell_type": "code",
   "execution_count": null,
   "metadata": {
    "collapsed": false
   },
   "outputs": [],
   "source": [
    "df_ora"
   ]
  },
  {
   "cell_type": "code",
   "execution_count": null,
   "metadata": {
    "collapsed": true
   },
   "outputs": [],
   "source": []
  }
 ],
 "metadata": {
  "kernelspec": {
   "display_name": "Python 2",
   "language": "python",
   "name": "python2"
  },
  "language_info": {
   "codemirror_mode": {
    "name": "ipython",
    "version": 2
   },
   "file_extension": ".py",
   "mimetype": "text/x-python",
   "name": "python",
   "nbconvert_exporter": "python",
   "pygments_lexer": "ipython2",
   "version": "2.7.10"
  },
  "widgets": {
   "state": {},
   "version": "1.1.1"
  }
 },
 "nbformat": 4,
 "nbformat_minor": 0
}
