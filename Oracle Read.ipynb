{
 "cells": [
  {
   "cell_type": "markdown",
   "metadata": {},
   "source": [
    "Import relevant Python libraries."
   ]
  },
  {
   "cell_type": "code",
   "execution_count": 92,
   "metadata": {
    "collapsed": true
   },
   "outputs": [],
   "source": [
    "import pandas as pd\n",
    "import cx_Oracle\n",
    "import numpy as np\n",
    "import sys\n",
    "import platform"
   ]
  },
  {
   "cell_type": "code",
   "execution_count": 93,
   "metadata": {
    "collapsed": true
   },
   "outputs": [],
   "source": [
    "import wellapplication as wa"
   ]
  },
  {
   "cell_type": "markdown",
   "metadata": {},
   "source": [
    "Print version information."
   ]
  },
  {
   "cell_type": "code",
   "execution_count": 94,
   "metadata": {},
   "outputs": [
    {
     "name": "stdout",
     "output_type": "stream",
     "text": [
      "Operating System Windows 7\n",
      "Python Version 3.5.3 |Continuum Analytics, Inc.| (default, May 15 2017, 10:43:23) [MSC v.1900 64 bit (AMD64)]\n",
      "Pandas Version 0.20.1\n",
      "Numpy Version 1.11.2\n",
      "Wellapplication Version 0.4.26\n"
     ]
    }
   ],
   "source": [
    "print(\"Operating System \" + platform.system() + \" \" + platform.release())\n",
    "print(\"Python Version \" + str(sys.version))\n",
    "print(\"Pandas Version \" + str(pd.__version__))\n",
    "print(\"Numpy Version \" + str(np.__version__))\n",
    "print(\"Wellapplication Version \" + str(wa.__version__))"
   ]
  },
  {
   "cell_type": "markdown",
   "metadata": {},
   "source": [
    "# SDWIS Data"
   ]
  },
  {
   "cell_type": "code",
   "execution_count": 95,
   "metadata": {
    "collapsed": true
   },
   "outputs": [],
   "source": [
    "file_place = 'E:/Google Drive/WORK/Groundwater Chemistry/SDWIS/test/{:}.csv'"
   ]
  },
  {
   "cell_type": "markdown",
   "metadata": {},
   "source": [
    "Import database connection.  This is kept in a separate file because it contains sensitive information."
   ]
  },
  {
   "cell_type": "code",
   "execution_count": 96,
   "metadata": {
    "collapsed": true
   },
   "outputs": [],
   "source": [
    "connection_filepath = \"E:\\Google Drive\\WORK\\Groundwater Chemistry\"\n",
    "sys.path.append(connection_filepath)\n",
    "import oraconnection"
   ]
  },
  {
   "cell_type": "markdown",
   "metadata": {},
   "source": [
    "This function below is just calling the imported database connection and assigning it to a variable."
   ]
  },
  {
   "cell_type": "code",
   "execution_count": 97,
   "metadata": {
    "collapsed": true
   },
   "outputs": [],
   "source": [
    "connection = oraconnection.oraconnect()"
   ]
  },
  {
   "cell_type": "markdown",
   "metadata": {},
   "source": [
    "## SDWIS Chemistry Data"
   ]
  },
  {
   "cell_type": "markdown",
   "metadata": {},
   "source": [
    "`SDWISconst` is a list of the constituents of interest.  The percent sign is used as a wildcard because all of the parameter names have trailing spaces or other issues."
   ]
  },
  {
   "cell_type": "code",
   "execution_count": 100,
   "metadata": {
    "collapsed": true
   },
   "outputs": [],
   "source": [
    "SDWISconst = ['PHOSPHORUS%', 'ARSENIC%','CALCIUM%','CHLORIDE%',\n",
    "              'FLUORIDE%','IRON%', 'MAGNESIUM%','NITRATE%','CARBONATE%',\n",
    "              'POTASSIUM%','BICARBONATE%','ALKA%','PHOSPHATE%',\n",
    "              'SILICA%','SODIUM%','SULFATE%','BORON%','BROMIDE%','PH%',\n",
    "              'TDS%','CONDUCT%','URANIUM%','TEMPER%','HARDN%','TURB%']"
   ]
  },
  {
   "cell_type": "markdown",
   "metadata": {},
   "source": [
    "The following is the SQL query used to pull the chemistry data from the database.  It renames the fields (from `SELECT` to `FROM`), then joins the appropriate tables (from `FROM` to `WHERE`, then limits the output to Springs and Wells and state issigned id code.  The `{:}` in the `WHERE` clause is a place holder for one of the above parameters in the `SDWISconst` list."
   ]
  },
  {
   "cell_type": "code",
   "execution_count": 101,
   "metadata": {
    "collapsed": true
   },
   "outputs": [],
   "source": [
    "SQLtext = \"\"\"\n",
    "SELECT\n",
    "UTV80.TINWSF.TYPE_CODE AS \"SampType\", \n",
    "UTV80.TINWSF.TINWSF_IS_NUMBER AS \"site_no\", \n",
    "UTV80.TINWSYS.TINWSYS_IS_NUMBER AS \"OrgID\", \n",
    "UTV80.TINWSYS.NAME AS \"OrgName\", \n",
    "UTV80.TSASAMPL.TSASAMPL_IS_NUMBER AS \"SampleID\", \n",
    "UTV80.TSASAMPL.COLLLECTION_END_DT AS \"sample_dt\", \n",
    "UTV80.TSASAMPL.COLLCTN_END_TIME AS \"sample_tm\", \n",
    "UTV80.TSAANLYT.NAME AS \"Param\", \n",
    "UTV80.TSASAR.CONCENTRATION_MSR AS \"result_va\", \n",
    "UTV80.TSASAR.UOM_CODE AS \"Unit\", \n",
    "UTV80.TSASAR.ANALYSIS_START_DT AS \"AnalysisDate\", \n",
    "UTV80.TSASAR.DETECTN_LIMIT_NUM AS \"MDL\", \n",
    "UTV80.TSASAR.DETECTN_LIM_UOM_CD AS \"MDLUnit\", \n",
    "UTV80.TSAANLYT.CAS_REGISTRY_NUM AS \"CAS_Reg\", \n",
    "UTV80.TSASAR.TSASAR_IS_NUMBER AS \"ID_NUM\",\n",
    "UTV80.TSASAMPL.COMMENT_TEXT AS \"SamplePointComment\",\n",
    "UTV80.TSASMPPT.DESCRIPTION_TEXT AS \"SamplePointDesc\"\n",
    "\n",
    "FROM \n",
    "UTV80.TINWSF -- Water System Facility (water source)\n",
    "JOIN UTV80.TINWSYS ON -- Water System (town or water provider)\n",
    "UTV80.TINWSF.TINWSYS_IS_NUMBER = UTV80.TINWSYS.TINWSYS_IS_NUMBER \n",
    "JOIN UTV80.TSASMPPT ON  -- Sample point\n",
    "UTV80.TINWSF.TINWSF_IS_NUMBER = UTV80.TSASMPPT.TINWSF0IS_NUMBER\n",
    "JOIN UTV80.TSASAMPL ON -- Sample\n",
    "UTV80.TSASMPPT.TSASMPPT_IS_NUMBER = UTV80.TSASAMPL.TSASMPPT_IS_NUMBER  -- Sample Point\n",
    "JOIN UTV80.TSASAR ON -- Sample Result\n",
    "UTV80.TSASAMPL.TSASAMPL_IS_NUMBER = UTV80.TSASAR.TSASAMPL_IS_NUMBER   -- Sample Number\n",
    "JOIN UTV80.TSAANLYT ON -- Analyte\n",
    "UTV80.TSASAR.TSAANLYT_IS_NUMBER = UTV80.TSAANLYT.TSAANLYT_IS_NUMBER  -- Analyte Number\n",
    "\n",
    "WHERE (UTV80.TINWSF.TYPE_CODE = 'WL') -- Spring or well\n",
    "AND (UTV80.TSAANLYT.NAME LIKE '{:}') -- Name of Chemical Parameter\n",
    "AND UTV80.TSASMPPT.SOURCE_TYPE_CODE = 'RW' -- Raw (unfiltered) water\n",
    "AND UTV80.TSASMPPT.TYPE_CODE IN('RW','EP','SR') -- From source\n",
    "ORDER BY UTV80.TINWSF.ST_ASGN_IDENT_CD\n",
    "\"\"\""
   ]
  },
  {
   "cell_type": "markdown",
   "metadata": {},
   "source": [
    "The following script loops through the constituents of interest and downloads to csvs based on the above query, inserting the constituent name each time. It also reformats the date and time fields using Pandas (see http://strftime.org) and adds an `agency_cd` field. It generates a Pandas Dataframe for each parameter and stores it in a <a href='https://www.tutorialspoint.com/python/python_dictionary.htm'>dictionary</a> with the parameter name as the key"
   ]
  },
  {
   "cell_type": "code",
   "execution_count": 102,
   "metadata": {
    "collapsed": true
   },
   "outputs": [],
   "source": [
    "df_ora = {}\n",
    "for j in SDWISconst:\n",
    "    SQL = SQLtext.format(j)\n",
    "    k = j[:-1]\n",
    "    df_ora[k] = pd.read_sql(SQL, con = connection,\n",
    "                            parse_dates=['sample_dt','sample_tm','AnalysisDate'])\n",
    "    df_ora[k]['agency_cd'] = 'UDDW'"
   ]
  },
  {
   "cell_type": "markdown",
   "metadata": {},
   "source": [
    "We can then use Pandas to combine all of the <a href='https://pandas.pydata.org/pandas-docs/stable/dsintro.html'>Dataframes</a> into one massive dataframe and then save it as a csv.  The reason I didn't do this in the first place (just query all of the constituents) is because the large data request tends to lag or lock up."
   ]
  },
  {
   "cell_type": "code",
   "execution_count": 103,
   "metadata": {
    "collapsed": true
   },
   "outputs": [],
   "source": [
    "SDWISallraw = pd.concat(df_ora)\n",
    "SDWISallraw.reset_index(inplace=True)\n",
    "SDWISallraw.drop(['level_0','level_1'],inplace=True,axis=1)\n",
    "#SDWISallraw.to_csv(file_place.format('all'))"
   ]
  },
  {
   "cell_type": "markdown",
   "metadata": {},
   "source": [
    "Let's strip out unneeded white space to make units and parameter names more consistent."
   ]
  },
  {
   "cell_type": "code",
   "execution_count": 104,
   "metadata": {
    "collapsed": true
   },
   "outputs": [],
   "source": [
    "def unitstrip(x):\n",
    "    if x is None:\n",
    "        return x\n",
    "    else:\n",
    "        return x.strip()\n",
    "    \n",
    "SDWISallraw['Param'] = SDWISallraw['Param'].apply(lambda x: x.strip(),1) \n",
    "SDWISallraw['Unit'] = SDWISallraw['Unit'].apply(lambda x: unitstrip(x),1)\n",
    "SDWISallraw['MDLUnit'] = SDWISallraw['MDLUnit'].apply(lambda x: unitstrip(x),1)"
   ]
  },
  {
   "cell_type": "markdown",
   "metadata": {},
   "source": [
    "Add `remark_cd` field and populate based on value in `result_va` and the reported MDL."
   ]
  },
  {
   "cell_type": "code",
   "execution_count": 105,
   "metadata": {
    "collapsed": true
   },
   "outputs": [],
   "source": [
    "def fillmdlspot(x):\n",
    "    \"\"\"\n",
    "    PARAM\n",
    "    ------\n",
    "    x[0] = result_va\n",
    "    x[1] = Unit\n",
    "    x[2] = MDL\n",
    "    x[3] = MDLUnit\n",
    "    \n",
    "    RETURNS\n",
    "    -------\n",
    "    remark_cd, result_va, Unit\n",
    "    \"\"\"\n",
    "    if pd.isnull(x[0]) and pd.notnull(x[2]):\n",
    "        return '<',x[2],x[3]\n",
    "    else:\n",
    "        return np.nan, x[0], x[1]"
   ]
  },
  {
   "cell_type": "code",
   "execution_count": 106,
   "metadata": {
    "collapsed": true
   },
   "outputs": [],
   "source": [
    "SDWISallraw['remark_cd'],SDWISallraw['result_va'],SDWISallraw['Unit'] =\\\n",
    "zip(*SDWISallraw[['result_va','Unit','MDL','MDLUnit']].apply(lambda x: fillmdlspot(x),1))"
   ]
  },
  {
   "cell_type": "markdown",
   "metadata": {},
   "source": [
    "Convert ug/L to mg/L in cases where units should be in mg/L. We have to do this for both the MDL and the results."
   ]
  },
  {
   "cell_type": "code",
   "execution_count": 107,
   "metadata": {
    "collapsed": true
   },
   "outputs": [],
   "source": [
    "def converter(x):\n",
    "    # these are the parameters where we want the reported units to be ug/L\n",
    "    microgrammers = ['BORON,TOTAL','IRON','IRON, DISSOLVED','ARSENIC','BORON']\n",
    "    if x[0] == 'UG/L' and x[2] not in microgrammers:\n",
    "        return x[1]*0.001, 'MG/L'\n",
    "    elif x[0] == 'LBS/GAL':\n",
    "        return x[1]*119826.0, 'MG/L'\n",
    "    else:\n",
    "        return x[1], x[0]"
   ]
  },
  {
   "cell_type": "code",
   "execution_count": 108,
   "metadata": {
    "collapsed": true
   },
   "outputs": [],
   "source": [
    "SDWISallraw['result_va'], SDWISallraw['Unit'] =\\\n",
    "zip(*SDWISallraw[['Unit','result_va','Param']].apply(lambda x: converter(x),1))"
   ]
  },
  {
   "cell_type": "code",
   "execution_count": 109,
   "metadata": {
    "collapsed": true
   },
   "outputs": [],
   "source": [
    "SDWISallraw['MDL'], SDWISallraw['MDLUnit'] =\\\n",
    "zip(*SDWISallraw[['MDLUnit','MDL','Param']].apply(lambda x: converter(x),1))"
   ]
  },
  {
   "cell_type": "markdown",
   "metadata": {},
   "source": [
    "Match to USGS parameter codes to the named paramters.  The parameter codes can be found at the following links:<br>\n",
    "https://nwis.waterdata.usgs.gov/usa/nwis/pmcodes?radio_pm_search=param_group&pm_group=All+--+include+all+parameter+groups&pm_search=&casrn_search=&srsname_search=&format=html_table&show=parameter_group_nm&show=parameter_nm&show=casrn&show=srsname&show=parameter_units<br>\n",
    "https://nwis.waterdata.usgs.gov/usa/nwis/pmcodes"
   ]
  },
  {
   "cell_type": "code",
   "execution_count": 110,
   "metadata": {
    "collapsed": true
   },
   "outputs": [],
   "source": [
    "USGSmatch = {'CONDUCTIVITY @ 25 C UMHOS/CM':'P00400', 'BORON':'P01021',\n",
    "             'ARSENIC':'P01000', 'BICARBONATE AS HCO3':'P00451',\n",
    "             'ALKALINITY, BICARBONATE':'P00451','ALKALINITY, CARBONATE':'P00448',\n",
    "             'CARBONATE':'P00448',\n",
    "             'BORON, TOTAL':'P00999', 'BROMIDE':'P71870', 'CALCIUM':'P00915', \n",
    "             'CALCIUM HARDNESS':'P00900','CHLORIDE':'P00940', 'FLUORIDE':'P00950', \n",
    "             'IRON':'P01045', 'IRON, DISSOLVED':'P01046','MAGNESIUM':'P00925', \n",
    "             'NITRATE-NITRITE':'P00630', 'NITRATE':'P00620', 'PH':'P00400',\n",
    "             'PHOSPHATE, TOTAL':'P00650', 'PHOSPHORUS, TOTAL':'P00665', 'POTASSIUM':'P00935', \n",
    "             'SILICA':'P00955','SODIUM':'P00930', 'SULFATE':'P00945', 'TDS':'P70300',\n",
    "             'TEMPERATURE (CENTIGRADE)':'P00010','ALKALINITY, TOTAL':'P00421',\n",
    "             'ALKALINITY, CACO3 STABILITY':'P00421'}"
   ]
  },
  {
   "cell_type": "code",
   "execution_count": 111,
   "metadata": {
    "collapsed": true
   },
   "outputs": [],
   "source": [
    "\n",
    "USGSmatch = {'CONDUCTIVITY @ 25 C UMHOS/CM':'sc', 'BORON':'bo',\n",
    "             'ARSENIC':'as', 'BICARBONATE AS HCO3':'hco3',\n",
    "             'ALKALINITY, BICARBONATE':'hco3','ALKALINITY, CARBONATE':'co3',\n",
    "             'CARBONATE':'co3',\n",
    "             'BORON, TOTAL':'bo', 'BROMIDE':'br', 'CALCIUM':'ca', \n",
    "             'CALCIUM HARDNESS':'hard','CHLORIDE':'cl', 'FLUORIDE':'f', \n",
    "             'IRON, DISSOLVED':'fe','MAGNESIUM':'mg', \n",
    "             'NITRATE-NITRITE':'630', 'NITRATE':'620', 'PH':'ph',\n",
    "             'PHOSPHORUS, TOTAL':'op', 'POTASSIUM':'k', \n",
    "             'SILICA':'si','SODIUM':'na', 'SULFATE':'so4', 'TDS':'ds',\n",
    "             'TEMPERATURE (CENTIGRADE)':'temp','ALKALINITY, TOTAL':'alk', 'URANIUM-238':'ur',\n",
    "             'TURBIDITY':'turb'}\n"
   ]
  },
  {
   "cell_type": "code",
   "execution_count": null,
   "metadata": {
    "collapsed": true
   },
   "outputs": [],
   "source": []
  },
  {
   "cell_type": "code",
   "execution_count": 112,
   "metadata": {},
   "outputs": [
    {
     "data": {
      "text/html": [
       "<div>\n",
       "<style>\n",
       "    .dataframe thead tr:only-child th {\n",
       "        text-align: right;\n",
       "    }\n",
       "\n",
       "    .dataframe thead th {\n",
       "        text-align: left;\n",
       "    }\n",
       "\n",
       "    .dataframe tbody tr th {\n",
       "        vertical-align: top;\n",
       "    }\n",
       "</style>\n",
       "<table border=\"1\" class=\"dataframe\">\n",
       "  <thead>\n",
       "    <tr style=\"text-align: right;\">\n",
       "      <th></th>\n",
       "      <th>SampType</th>\n",
       "      <th>site_no</th>\n",
       "      <th>OrgID</th>\n",
       "      <th>OrgName</th>\n",
       "      <th>SampleID</th>\n",
       "      <th>sample_dt</th>\n",
       "      <th>sample_tm</th>\n",
       "      <th>Param</th>\n",
       "      <th>result_va</th>\n",
       "      <th>Unit</th>\n",
       "      <th>AnalysisDate</th>\n",
       "      <th>MDL</th>\n",
       "      <th>MDLUnit</th>\n",
       "      <th>CAS_Reg</th>\n",
       "      <th>ID_NUM</th>\n",
       "      <th>SamplePointComment</th>\n",
       "      <th>SamplePointDesc</th>\n",
       "      <th>agency_cd</th>\n",
       "      <th>remark_cd</th>\n",
       "    </tr>\n",
       "  </thead>\n",
       "  <tbody>\n",
       "    <tr>\n",
       "      <th>0</th>\n",
       "      <td>WL</td>\n",
       "      <td>4165</td>\n",
       "      <td>992</td>\n",
       "      <td>MONUMENT VALLEY HIGH SCHOOL</td>\n",
       "      <td>262132</td>\n",
       "      <td>1980-05-21</td>\n",
       "      <td>NaT</td>\n",
       "      <td>ALKALINITY, TOTAL</td>\n",
       "      <td>166.0</td>\n",
       "      <td>MG/L</td>\n",
       "      <td>NaT</td>\n",
       "      <td>NaN</td>\n",
       "      <td>None</td>\n",
       "      <td>None</td>\n",
       "      <td>1596288</td>\n",
       "      <td>Sample taken at WELL #1</td>\n",
       "      <td>WELL #1</td>\n",
       "      <td>UDDW</td>\n",
       "      <td>NaN</td>\n",
       "    </tr>\n",
       "    <tr>\n",
       "      <th>1</th>\n",
       "      <td>WL</td>\n",
       "      <td>5195</td>\n",
       "      <td>1492</td>\n",
       "      <td>TAYLOR-WEST WEBER WID</td>\n",
       "      <td>258227</td>\n",
       "      <td>1982-01-26</td>\n",
       "      <td>NaT</td>\n",
       "      <td>ALKALINITY, TOTAL</td>\n",
       "      <td>203.0</td>\n",
       "      <td>MG/L</td>\n",
       "      <td>NaT</td>\n",
       "      <td>NaN</td>\n",
       "      <td>None</td>\n",
       "      <td>None</td>\n",
       "      <td>1526231</td>\n",
       "      <td>Sample taken at BIG WELL</td>\n",
       "      <td>BIG WELL</td>\n",
       "      <td>UDDW</td>\n",
       "      <td>NaN</td>\n",
       "    </tr>\n",
       "    <tr>\n",
       "      <th>2</th>\n",
       "      <td>WL</td>\n",
       "      <td>4157</td>\n",
       "      <td>1252</td>\n",
       "      <td>RIO ALGOM MINING CORP</td>\n",
       "      <td>262088</td>\n",
       "      <td>1972-05-02</td>\n",
       "      <td>NaT</td>\n",
       "      <td>ALKALINITY, TOTAL</td>\n",
       "      <td>209.0</td>\n",
       "      <td>MG/L</td>\n",
       "      <td>NaT</td>\n",
       "      <td>NaN</td>\n",
       "      <td>None</td>\n",
       "      <td>None</td>\n",
       "      <td>1595989</td>\n",
       "      <td>Sample taken at MAPLE LEAF #1</td>\n",
       "      <td>MAPLE LEAF #1</td>\n",
       "      <td>UDDW</td>\n",
       "      <td>NaN</td>\n",
       "    </tr>\n",
       "    <tr>\n",
       "      <th>3</th>\n",
       "      <td>WL</td>\n",
       "      <td>4308</td>\n",
       "      <td>915</td>\n",
       "      <td>MANTI CITY</td>\n",
       "      <td>263256</td>\n",
       "      <td>1985-09-26</td>\n",
       "      <td>NaT</td>\n",
       "      <td>ALKALINITY, TOTAL</td>\n",
       "      <td>159.0</td>\n",
       "      <td>MG/L</td>\n",
       "      <td>NaT</td>\n",
       "      <td>NaN</td>\n",
       "      <td>None</td>\n",
       "      <td>None</td>\n",
       "      <td>1608824</td>\n",
       "      <td>Sample taken at SEC 12 T18S R2E</td>\n",
       "      <td>SEC 12 T18S R2E</td>\n",
       "      <td>UDDW</td>\n",
       "      <td>NaN</td>\n",
       "    </tr>\n",
       "    <tr>\n",
       "      <th>4</th>\n",
       "      <td>WL</td>\n",
       "      <td>3667</td>\n",
       "      <td>1108</td>\n",
       "      <td>CURRANT CREEK</td>\n",
       "      <td>386099</td>\n",
       "      <td>2005-08-09</td>\n",
       "      <td>NaT</td>\n",
       "      <td>ALKALINITY, TOTAL</td>\n",
       "      <td>3.0</td>\n",
       "      <td>MG/L</td>\n",
       "      <td>NaT</td>\n",
       "      <td>NaN</td>\n",
       "      <td>None</td>\n",
       "      <td>None</td>\n",
       "      <td>3053363</td>\n",
       "      <td></td>\n",
       "      <td>WELL # 1</td>\n",
       "      <td>UDDW</td>\n",
       "      <td>NaN</td>\n",
       "    </tr>\n",
       "  </tbody>\n",
       "</table>\n",
       "</div>"
      ],
      "text/plain": [
       "  SampType site_no OrgID                      OrgName SampleID  sample_dt  \\\n",
       "0       WL    4165   992  MONUMENT VALLEY HIGH SCHOOL   262132 1980-05-21   \n",
       "1       WL    5195  1492        TAYLOR-WEST WEBER WID   258227 1982-01-26   \n",
       "2       WL    4157  1252        RIO ALGOM MINING CORP   262088 1972-05-02   \n",
       "3       WL    4308   915                   MANTI CITY   263256 1985-09-26   \n",
       "4       WL    3667  1108                CURRANT CREEK   386099 2005-08-09   \n",
       "\n",
       "  sample_tm              Param  result_va  Unit AnalysisDate  MDL MDLUnit  \\\n",
       "0       NaT  ALKALINITY, TOTAL      166.0  MG/L          NaT  NaN    None   \n",
       "1       NaT  ALKALINITY, TOTAL      203.0  MG/L          NaT  NaN    None   \n",
       "2       NaT  ALKALINITY, TOTAL      209.0  MG/L          NaT  NaN    None   \n",
       "3       NaT  ALKALINITY, TOTAL      159.0  MG/L          NaT  NaN    None   \n",
       "4       NaT  ALKALINITY, TOTAL        3.0  MG/L          NaT  NaN    None   \n",
       "\n",
       "  CAS_Reg   ID_NUM               SamplePointComment  SamplePointDesc  \\\n",
       "0    None  1596288          Sample taken at WELL #1          WELL #1   \n",
       "1    None  1526231         Sample taken at BIG WELL         BIG WELL   \n",
       "2    None  1595989    Sample taken at MAPLE LEAF #1    MAPLE LEAF #1   \n",
       "3    None  1608824  Sample taken at SEC 12 T18S R2E  SEC 12 T18S R2E   \n",
       "4    None  3053363                                          WELL # 1   \n",
       "\n",
       "  agency_cd remark_cd  \n",
       "0      UDDW       NaN  \n",
       "1      UDDW       NaN  \n",
       "2      UDDW       NaN  \n",
       "3      UDDW       NaN  \n",
       "4      UDDW       NaN  "
      ]
     },
     "execution_count": 112,
     "metadata": {},
     "output_type": "execute_result"
    }
   ],
   "source": [
    "SDWISallraw.head()"
   ]
  },
  {
   "cell_type": "code",
   "execution_count": 113,
   "metadata": {},
   "outputs": [
    {
     "data": {
      "text/plain": [
       "Index(['SampType', 'site_no', 'OrgID', 'OrgName', 'SampleID', 'sample_dt',\n",
       "       'sample_tm', 'Param', 'result_va', 'Unit', 'AnalysisDate', 'MDL',\n",
       "       'MDLUnit', 'CAS_Reg', 'ID_NUM', 'SamplePointComment', 'SamplePointDesc',\n",
       "       'agency_cd', 'remark_cd'],\n",
       "      dtype='object')"
      ]
     },
     "execution_count": 113,
     "metadata": {},
     "output_type": "execute_result"
    }
   ],
   "source": [
    "SDWISallraw.columns"
   ]
  },
  {
   "cell_type": "code",
   "execution_count": 114,
   "metadata": {},
   "outputs": [
    {
     "data": {
      "text/plain": [
       "array(['ALKALINITY, TOTAL', 'ALKALINITY, CARBONATE',\n",
       "       'ALKALINITY, BICARBONATE', 'ALKALINITY, CACO3 STABILITY', 'ARSENIC',\n",
       "       'BICARBONATE AS HCO3', 'BORON, TOTAL', 'BROMIDE', 'CALCIUM',\n",
       "       'CALCIUM HARDNESS', 'CHLORIDE', 'CONDUCTIVITY @ 25 C UMHOS/CM',\n",
       "       'FLUORIDE', 'HARDNESS, CARBONATE', 'HARDNESS, TOTAL (AS CACO3)',\n",
       "       'HARDNESS, CALCIUM MAGNESIUM', 'IRON', 'IRON, DISSOLVED',\n",
       "       'MAGNESIUM', 'NITRATE', 'NITRATE-NITRITE', 'PHOSPHATE, TOTAL', 'PH',\n",
       "       'PHOSPHORUS, TOTAL', 'POTASSIUM', 'SILICA', 'SODIUM', 'SULFATE',\n",
       "       'TDS', 'TEMPERATURE (CENTIGRADE)', 'TURBIDITY', 'URANIUM-238',\n",
       "       'URANIUM-235', 'URANIUM-234'], dtype=object)"
      ]
     },
     "execution_count": 114,
     "metadata": {},
     "output_type": "execute_result"
    }
   ],
   "source": [
    "SDWISallraw.Param.unique()"
   ]
  },
  {
   "cell_type": "code",
   "execution_count": 115,
   "metadata": {
    "collapsed": true
   },
   "outputs": [],
   "source": [
    "olivianames = {'agency_cd':'ac','site_no':'stid','SamplePointDesc':'sme','sample_dt':'dates','sample_tm':'times',}"
   ]
  },
  {
   "cell_type": "code",
   "execution_count": 116,
   "metadata": {
    "collapsed": true
   },
   "outputs": [],
   "source": [
    "SDWISallraw = SDWISallraw.rename(columns=olivianames)\n",
    "SDWISallraw['year'] = SDWISallraw['dates'].apply(lambda x: pd.to_datetime(x).year,1)\n",
    "SDWISallraw['times'] = SDWISallraw['times'].apply(lambda x: pd.to_datetime(x, format = '%H%M'),1)\n",
    "SDWISallraw['database'] = 'SDWIS'\n",
    "SDWISallraw['tmdtm'] = 'MDT'\n"
   ]
  },
  {
   "cell_type": "code",
   "execution_count": 117,
   "metadata": {
    "collapsed": true
   },
   "outputs": [],
   "source": [
    "SDWISallraw['parm_cd'] = SDWISallraw['Param'].apply(lambda x: str(USGSmatch.get(x,'')),1)"
   ]
  },
  {
   "cell_type": "markdown",
   "metadata": {},
   "source": [
    "Combine result and remark for pivot."
   ]
  },
  {
   "cell_type": "code",
   "execution_count": 118,
   "metadata": {
    "collapsed": true
   },
   "outputs": [],
   "source": [
    "def comb_res_rmk(x):\n",
    "    \"\"\"combine remark and result\"\"\"\n",
    "    if x[0]== '<':\n",
    "        return str(x[0])+str(x[1])\n",
    "    else:\n",
    "        return str(x[1])"
   ]
  },
  {
   "cell_type": "code",
   "execution_count": 119,
   "metadata": {
    "collapsed": true
   },
   "outputs": [],
   "source": [
    "SDWISallraw['res_w_rmk'] = SDWISallraw[['remark_cd','result_va']].apply(lambda x: comb_res_rmk(x),1)"
   ]
  },
  {
   "cell_type": "markdown",
   "metadata": {},
   "source": [
    "Drop duplicates and null values."
   ]
  },
  {
   "cell_type": "code",
   "execution_count": 120,
   "metadata": {},
   "outputs": [
    {
     "name": "stderr",
     "output_type": "stream",
     "text": [
      "C:\\Program Files\\ArcGIS\\Pro\\bin\\Python\\envs\\arcgispro-py3\\lib\\site-packages\\ipykernel_launcher.py:4: SettingWithCopyWarning: \n",
      "A value is trying to be set on a copy of a slice from a DataFrame.\n",
      "Try using .loc[row_indexer,col_indexer] = value instead\n",
      "\n",
      "See the caveats in the documentation: http://pandas.pydata.org/pandas-docs/stable/indexing.html#indexing-view-versus-copy\n",
      "  after removing the cwd from sys.path.\n"
     ]
    }
   ],
   "source": [
    "SDWISallraw.dropna(subset=['result_va'],inplace=True)\n",
    "SDWISallraw.sort_values(by=['SampleID','Param'],inplace=True)\n",
    "SDWIS = SDWISallraw.drop_duplicates(subset=['SampleID','Param'])\n",
    "SDWIS['SampleID'] = SDWIS['SampleID'].apply(lambda x: str(x),1) "
   ]
  },
  {
   "cell_type": "markdown",
   "metadata": {},
   "source": [
    "Save file to csv"
   ]
  },
  {
   "cell_type": "code",
   "execution_count": 121,
   "metadata": {
    "collapsed": true
   },
   "outputs": [],
   "source": [
    "SDWIS.to_csv(file_place.format('chem_by_analyte'),index=False)"
   ]
  },
  {
   "cell_type": "markdown",
   "metadata": {},
   "source": [
    "Pivot Data "
   ]
  },
  {
   "cell_type": "code",
   "execution_count": 122,
   "metadata": {
    "collapsed": true
   },
   "outputs": [],
   "source": [
    "SDWISp = SDWIS.drop_duplicates(subset=['SampleID','parm_cd'])\n",
    "SDWISpiv = SDWISp.pivot(index='SampleID', columns = 'parm_cd', values = 'res_w_rmk')"
   ]
  },
  {
   "cell_type": "code",
   "execution_count": 123,
   "metadata": {
    "collapsed": true
   },
   "outputs": [],
   "source": [
    "SDWISpivTot = pd.merge(SDWISpiv,SDWIS,left_index=True,right_on='SampleID',how='left')"
   ]
  },
  {
   "cell_type": "code",
   "execution_count": 124,
   "metadata": {
    "collapsed": true
   },
   "outputs": [],
   "source": [
    "SDWISpivTot.drop([u'',u'SampType', u'Param', u'result_va', u'Unit', \n",
    "                  u'MDL', u'MDLUnit', u'CAS_Reg',u'ID_NUM', \n",
    "                  u'remark_cd', u'parm_cd', u'res_w_rmk'],inplace=True,axis=1)"
   ]
  },
  {
   "cell_type": "code",
   "execution_count": 125,
   "metadata": {
    "collapsed": true
   },
   "outputs": [],
   "source": [
    "def getlessthan(x):\n",
    "    if \"<\" in str(x):\n",
    "        return \"<\", 'TRUE', float(x[1:])\n",
    "    elif x is None:\n",
    "        return \"\", 'FALSE', \"\"\n",
    "    else:\n",
    "        return \"\", 'FALSE', x\n",
    "\n",
    "standard_list = ['stid','OrgID','OrgName','SampleID','dates','AnalysisDate','SamplePointComment','sme','ac','year','database','tmdtm']\n",
    "    \n",
    "for col in SDWISpivTot.columns:\n",
    "    if col not in standard_list:\n",
    "        SDWISpivTot[\"r\"+col], SDWISpivTot[\"r\"+col+'tf'], SDWISpivTot[col] =\\\n",
    "        zip(*SDWISpivTot[col].apply(lambda x: getlessthan(x),1))"
   ]
  },
  {
   "cell_type": "code",
   "execution_count": 126,
   "metadata": {},
   "outputs": [
    {
     "data": {
      "text/plain": [
       "Index(['620', '630', 'alk', 'as', 'bo', 'br', 'ca', 'cl', 'co3', 'ds', 'f',\n",
       "       'fe', 'hard', 'hco3', 'k', 'mg', 'na', 'op', 'ph', 'sc', 'si', 'so4',\n",
       "       'temp', 'turb', 'ur', 'stid', 'OrgID', 'OrgName', 'SampleID', 'dates',\n",
       "       'times', 'AnalysisDate', 'SamplePointComment', 'sme', 'ac', 'year',\n",
       "       'database', 'tmdtm', 'r620', 'r620tf', 'r630', 'r630tf', 'ralk',\n",
       "       'ralktf', 'ras', 'rastf', 'rbo', 'rbotf', 'rbr', 'rbrtf', 'rca',\n",
       "       'rcatf', 'rcl', 'rcltf', 'rco3', 'rco3tf', 'rds', 'rdstf', 'rf', 'rftf',\n",
       "       'rfe', 'rfetf', 'rhard', 'rhardtf', 'rhco3', 'rhco3tf', 'rk', 'rktf',\n",
       "       'rmg', 'rmgtf', 'rna', 'rnatf', 'rop', 'roptf', 'rph', 'rphtf', 'rsc',\n",
       "       'rsctf', 'rsi', 'rsitf', 'rso4', 'rso4tf', 'rtemp', 'rtemptf', 'rturb',\n",
       "       'rturbtf', 'rur', 'rurtf', 'rtimes', 'rtimestf', 'lat', 'lon', 'wd',\n",
       "       'rwd'],\n",
       "      dtype='object')"
      ]
     },
     "execution_count": 126,
     "metadata": {},
     "output_type": "execute_result"
    }
   ],
   "source": [
    "SDWISpivTot['lat'] = 0\n",
    "SDWISpivTot['lon'] = 0\n",
    "SDWISpivTot['wd'] = 0\n",
    "SDWISpivTot['rwd'] = 0\n",
    "SDWISpivTot.columns"
   ]
  },
  {
   "cell_type": "code",
   "execution_count": 127,
   "metadata": {},
   "outputs": [],
   "source": [
    "template = pd.read_excel(\"C:/Users/PAULINKENBRANDT/Downloads/nwis_format (1).xlsx\")"
   ]
  },
  {
   "cell_type": "code",
   "execution_count": 128,
   "metadata": {},
   "outputs": [],
   "source": [
    "new_cols = []\n",
    "temp_cols = list(template.columns) + ['620','630','OrgName', 'SampleID','AnalysisDate', 'SamplePointComment']\n",
    "for col in temp_cols:\n",
    "    if col in SDWISpivTot.columns:\n",
    "        new_cols.append(col)\n",
    "SDWISpivTot.drop_duplicates(subset=['SampleID'],inplace=True)"
   ]
  },
  {
   "cell_type": "code",
   "execution_count": 129,
   "metadata": {
    "collapsed": true
   },
   "outputs": [],
   "source": [
    "SDWISpivTot.to_csv(file_place.format('chem_by_sample'),index=False)"
   ]
  },
  {
   "cell_type": "markdown",
   "metadata": {},
   "source": [
    "## SDWIS Stations"
   ]
  },
  {
   "cell_type": "code",
   "execution_count": null,
   "metadata": {
    "collapsed": true
   },
   "outputs": [],
   "source": []
  },
  {
   "cell_type": "code",
   "execution_count": 45,
   "metadata": {
    "collapsed": true
   },
   "outputs": [],
   "source": [
    "StationQuery = \"\"\"\n",
    "SELECT \n",
    "UTV80.TINWSYS.TINWSYS_IS_NUMBER AS \"OrgID\",\n",
    "UTV80.TINWSYS.NAME AS \"OrgName\",\n",
    "UTV80.TINWSF.ST_ASGN_IDENT_CD AS \"StateFacID\",\n",
    "UTV80.TINWSYS.ALTERNATE_ST_NUM AS \"StateSysID\",\n",
    "UTV80.TINWSF.TINWSF_IS_NUMBER AS \"site_no\",\n",
    "UTV80.TINWSF.NAME AS \"station_nm\",\n",
    "UTV80.TINWSF.TYPE_CODE AS \"site_tp_cd\",\n",
    "UTV80.TINLOC.LAT_DMS_MSR AS \"lat_va\",\n",
    "UTV80.TINLOC.LONG_DMS_MSR AS \"long_va\",\n",
    "UTV80.TINLOC.LATITUDE_MEASURE AS \"dec_lat_va\",\n",
    "UTV80.TINLOC.LONGITUDE_MEASURE AS \"dec_long_va\",\n",
    "UTV80.TINLOC.HZ_COLLECT_METH_CD AS \"coord_meth_cd\",\n",
    "UTV80.TINLOC.HORIZ_ACCURACY_MSR AS \"coord_acy_cd\",\n",
    "UTV80.TINLOC.HORIZ_REF_DATUM_CD AS \"coord_datum_cd\",\n",
    "UTV80.TINLOC.HORIZ_REF_DATUM_CD AS \"dec_coord_datum_\",\n",
    "UTV80.TINLOC.SOURCE_MAP_SCALE AS \"map_scale_fc\",\n",
    "UTV80.TINLOC.VERTICAL_MEASURE AS \"alt_va\",\n",
    "UTV80.TINLOC.VER_COL_METH_CD AS \"alt_meth_cd\",\n",
    "UTV80.TINLOC.VERT_ACCURACY_MSR AS \"alt_acy_va\",\n",
    "UTV80.TINLOC.VERT_REF_DATUM_CD AS \"alt_datum_cd\",\n",
    "UTV80.TINWSF.CONSTRUCTED_DATE AS \"construction_dt\",\n",
    "UTV80.TINWSF.ACTIVITY_DATE AS \"ActDate\",\n",
    "UTV80.TINWSF.ACTIVITY_STATUS_CD AS \"ActStatus\"\n",
    " \n",
    "FROM\n",
    "UTV80.TINWSF\n",
    "JOIN UTV80.TINWSYS ON  UTV80.TINWSF.TINWSYS_IS_NUMBER = UTV80.TINWSYS.TINWSYS_IS_NUMBER  \n",
    "JOIN UTV80.TINLOC ON  UTV80.TINWSF.TINWSF_IS_NUMBER = UTV80.TINLOC.TINWSF_IS_NUMBER \n",
    " \n",
    "WHERE \n",
    "UTV80.TINWSF.TYPE_CODE IN('WL') \n",
    "AND UTV80.TINLOC.LATITUDE_MEASURE != 0\n",
    "\"\"\""
   ]
  },
  {
   "cell_type": "code",
   "execution_count": 46,
   "metadata": {
    "collapsed": true
   },
   "outputs": [],
   "source": [
    "stations = pd.read_sql(StationQuery, con = connection)"
   ]
  },
  {
   "cell_type": "code",
   "execution_count": 47,
   "metadata": {
    "collapsed": true
   },
   "outputs": [],
   "source": [
    "def getsrcid(x):\n",
    "    return str(x[1]).zfill(5) + '-' + str(x[2][-2:])"
   ]
  },
  {
   "cell_type": "code",
   "execution_count": null,
   "metadata": {
    "collapsed": true
   },
   "outputs": [],
   "source": []
  },
  {
   "cell_type": "code",
   "execution_count": 48,
   "metadata": {
    "collapsed": true
   },
   "outputs": [],
   "source": [
    "idmatch = pd.read_csv(\"E:/Google Drive/WORK/Groundwater Chemistry/SDWIS/WellIDMatch.csv\")\n",
    "idmatch.set_index('ESN',inplace=True)\n",
    "id_dict = idmatch.to_dict()['SourceID']"
   ]
  },
  {
   "cell_type": "code",
   "execution_count": 49,
   "metadata": {
    "collapsed": true
   },
   "outputs": [],
   "source": [
    "def refine_sid(x):\n",
    "    sidraw = id_dict.get(x[0],getsrcid(x))\n",
    "    if len(sidraw)>8:\n",
    "        return str(sidraw[:-3]).zfill(5)+str(int(sidraw[-3:])).zfill(2)\n",
    "    else:\n",
    "        return sidraw\n",
    "stations['DEHN_source_id'] = stations[['site_no','StateSysID','StateFacID']]\\\n",
    ".apply(lambda x: refine_sid(x), 1)"
   ]
  },
  {
   "cell_type": "code",
   "execution_count": 50,
   "metadata": {
    "collapsed": true
   },
   "outputs": [],
   "source": [
    "engine = oraconnection.getEngine()"
   ]
  },
  {
   "cell_type": "code",
   "execution_count": 51,
   "metadata": {
    "collapsed": true
   },
   "outputs": [],
   "source": [
    "mySQL = \"\"\"SELECT * FROM water_rights_data.sources\"\"\""
   ]
  },
  {
   "cell_type": "code",
   "execution_count": 52,
   "metadata": {
    "collapsed": true
   },
   "outputs": [],
   "source": [
    "sources = pd.read_sql(mySQL,con=engine)"
   ]
  },
  {
   "cell_type": "code",
   "execution_count": 53,
   "metadata": {
    "collapsed": true
   },
   "outputs": [],
   "source": [
    "wrjoin = pd.merge(stations, sources, on='DEHN_source_id',how='left')\n",
    "withwin = wrjoin[wrjoin['win'].notnull()]"
   ]
  },
  {
   "cell_type": "code",
   "execution_count": 54,
   "metadata": {
    "collapsed": true
   },
   "outputs": [],
   "source": [
    "SQL = \"\"\"\n",
    "SELECT * FROM water_rights_data.{:}\n",
    "WHERE win IN('{:}')\n",
    "\"\"\"\n",
    "winstrlist = \"','\".join(map(str,withwin['win'].values))"
   ]
  },
  {
   "cell_type": "code",
   "execution_count": 55,
   "metadata": {
    "collapsed": true
   },
   "outputs": [],
   "source": [
    "construct = pd.read_sql(SQL.format('construction',winstrlist),con=engine)\n",
    "borehole = pd.read_sql(SQL.format('borehole',winstrlist),con=engine)\n",
    "screen = pd.read_sql(SQL.format('wellscreens',winstrlist),con=engine)"
   ]
  },
  {
   "cell_type": "code",
   "execution_count": null,
   "metadata": {
    "collapsed": true
   },
   "outputs": [],
   "source": []
  },
  {
   "cell_type": "code",
   "execution_count": 56,
   "metadata": {
    "collapsed": true
   },
   "outputs": [],
   "source": [
    "winproj = pd.read_csv(\"E:/Google Drive/WORK/Groundwater Chemistry/wrpod_WIN.txt\")\n",
    "winprojSDWIS = winproj[winproj['WIN'].isin(withwin['win'].astype(int).values)]"
   ]
  },
  {
   "cell_type": "code",
   "execution_count": 57,
   "metadata": {},
   "outputs": [
    {
     "name": "stderr",
     "output_type": "stream",
     "text": [
      "b'Skipping line 30451: expected 7 fields, saw 8\\n'\n"
     ]
    }
   ],
   "source": [
    "wellfeats = pd.read_csv(\"E:/Google Drive/WORK/Groundwater Chemistry/wrpod_wellfeatures.txt\",\n",
    "                        error_bad_lines=False)\n",
    "wellfeats.set_index('win',inplace=True)"
   ]
  },
  {
   "cell_type": "code",
   "execution_count": 58,
   "metadata": {
    "collapsed": true
   },
   "outputs": [],
   "source": [
    "def getdepth(df,kp = 'last'):\n",
    "    df.sort_values('To_ft',inplace=True)\n",
    "    df.drop_duplicates(subset='WIN',keep=kp,inplace=True)\n",
    "    df.set_index('WIN',inplace=True)\n",
    "    return df['To_ft'].to_dict()\n",
    "\n",
    "bdepth = getdepth(borehole)\n",
    "sdepth = getdepth(screen, 'first')"
   ]
  },
  {
   "cell_type": "code",
   "execution_count": 59,
   "metadata": {
    "collapsed": true
   },
   "outputs": [],
   "source": [
    "def winconv(x):\n",
    "    if pd.isnull(x):\n",
    "        return x\n",
    "    else:\n",
    "        return int(x)\n",
    "\n",
    "wrjoin['win'] = wrjoin['win'].apply(lambda x: winconv(x),1)\n",
    "depthdict = wellfeats['totalDepth'].to_dict()\n",
    "sdepthdict = wellfeats['screenDepth'].to_dict()\n",
    "wrjoin['depth'] = wrjoin['win'].apply(lambda x: depthdict.get(x,bdepth.get(x,np.nan)))\n",
    "wrjoin['screen_depth'] = wrjoin['win'].apply(lambda x: sdepthdict.get(x,sdepth.get(x,np.nan)))"
   ]
  },
  {
   "cell_type": "code",
   "execution_count": 60,
   "metadata": {},
   "outputs": [
    {
     "name": "stdout",
     "output_type": "stream",
     "text": [
      "2385\n",
      "310 310\n"
     ]
    }
   ],
   "source": [
    "wrjoin.drop_duplicates(subset=['site_no'],inplace=True)\n",
    "print(len(wrjoin))\n",
    "print(len(wrjoin[wrjoin['depth'].notnull()]),len(wrjoin[wrjoin['screen_depth'].notnull()]))\n"
   ]
  },
  {
   "cell_type": "code",
   "execution_count": 61,
   "metadata": {
    "collapsed": true
   },
   "outputs": [
    {
     "ename": "JSONDecodeError",
     "evalue": "('Expecting value: line 1 column 1 (char 0)', 'occurred at index 2928')",
     "output_type": "error",
     "traceback": [
      "\u001b[1;31m---------------------------------------------------------------------------\u001b[0m",
      "\u001b[1;31mJSONDecodeError\u001b[0m                           Traceback (most recent call last)",
      "\u001b[1;32m<ipython-input-61-7a668f7ca49a>\u001b[0m in \u001b[0;36m<module>\u001b[1;34m()\u001b[0m\n\u001b[0;32m      2\u001b[0m \u001b[0mwrjoin\u001b[0m\u001b[1;33m[\u001b[0m\u001b[1;34m'altacu'\u001b[0m\u001b[1;33m]\u001b[0m \u001b[1;33m=\u001b[0m \u001b[1;36m10\u001b[0m\u001b[1;33m\u001b[0m\u001b[0m\n\u001b[0;32m      3\u001b[0m \u001b[0mwrjoin\u001b[0m\u001b[1;33m[\u001b[0m\u001b[1;34m'alt_datum_cd'\u001b[0m\u001b[1;33m]\u001b[0m \u001b[1;33m=\u001b[0m \u001b[1;34m\"NAVD88\"\u001b[0m\u001b[1;33m\u001b[0m\u001b[0m\n\u001b[1;32m----> 4\u001b[1;33m \u001b[0mwrjoin\u001b[0m\u001b[1;33m[\u001b[0m\u001b[1;34m'altitude'\u001b[0m\u001b[1;33m]\u001b[0m \u001b[1;33m=\u001b[0m \u001b[0mwrjoin\u001b[0m\u001b[1;33m[\u001b[0m\u001b[1;33m[\u001b[0m\u001b[1;34m'dec_long_va'\u001b[0m\u001b[1;33m,\u001b[0m\u001b[1;34m'dec_lat_va'\u001b[0m\u001b[1;33m]\u001b[0m\u001b[1;33m]\u001b[0m\u001b[1;33m.\u001b[0m\u001b[0mapply\u001b[0m\u001b[1;33m(\u001b[0m\u001b[1;32mlambda\u001b[0m \u001b[0mx\u001b[0m\u001b[1;33m:\u001b[0m \u001b[0mwa\u001b[0m\u001b[1;33m.\u001b[0m\u001b[0mget_elev\u001b[0m\u001b[1;33m(\u001b[0m\u001b[0mx\u001b[0m\u001b[1;33m,\u001b[0m \u001b[0munits\u001b[0m\u001b[1;33m=\u001b[0m\u001b[1;34m'Feet'\u001b[0m\u001b[1;33m)\u001b[0m\u001b[1;33m,\u001b[0m\u001b[1;36m1\u001b[0m\u001b[1;33m)\u001b[0m\u001b[1;33m\u001b[0m\u001b[0m\n\u001b[0m",
      "\u001b[1;32mC:\\Program Files\\ArcGIS\\Pro\\bin\\Python\\envs\\arcgispro-py3\\lib\\site-packages\\pandas\\core\\frame.py\u001b[0m in \u001b[0;36mapply\u001b[1;34m(self, func, axis, broadcast, raw, reduce, args, **kwds)\u001b[0m\n\u001b[0;32m   4358\u001b[0m                         \u001b[0mf\u001b[0m\u001b[1;33m,\u001b[0m \u001b[0maxis\u001b[0m\u001b[1;33m,\u001b[0m\u001b[1;33m\u001b[0m\u001b[0m\n\u001b[0;32m   4359\u001b[0m                         \u001b[0mreduce\u001b[0m\u001b[1;33m=\u001b[0m\u001b[0mreduce\u001b[0m\u001b[1;33m,\u001b[0m\u001b[1;33m\u001b[0m\u001b[0m\n\u001b[1;32m-> 4360\u001b[1;33m                         ignore_failures=ignore_failures)\n\u001b[0m\u001b[0;32m   4361\u001b[0m             \u001b[1;32melse\u001b[0m\u001b[1;33m:\u001b[0m\u001b[1;33m\u001b[0m\u001b[0m\n\u001b[0;32m   4362\u001b[0m                 \u001b[1;32mreturn\u001b[0m \u001b[0mself\u001b[0m\u001b[1;33m.\u001b[0m\u001b[0m_apply_broadcast\u001b[0m\u001b[1;33m(\u001b[0m\u001b[0mf\u001b[0m\u001b[1;33m,\u001b[0m \u001b[0maxis\u001b[0m\u001b[1;33m)\u001b[0m\u001b[1;33m\u001b[0m\u001b[0m\n",
      "\u001b[1;32mC:\\Program Files\\ArcGIS\\Pro\\bin\\Python\\envs\\arcgispro-py3\\lib\\site-packages\\pandas\\core\\frame.py\u001b[0m in \u001b[0;36m_apply_standard\u001b[1;34m(self, func, axis, ignore_failures, reduce)\u001b[0m\n\u001b[0;32m   4454\u001b[0m             \u001b[1;32mtry\u001b[0m\u001b[1;33m:\u001b[0m\u001b[1;33m\u001b[0m\u001b[0m\n\u001b[0;32m   4455\u001b[0m                 \u001b[1;32mfor\u001b[0m \u001b[0mi\u001b[0m\u001b[1;33m,\u001b[0m \u001b[0mv\u001b[0m \u001b[1;32min\u001b[0m \u001b[0menumerate\u001b[0m\u001b[1;33m(\u001b[0m\u001b[0mseries_gen\u001b[0m\u001b[1;33m)\u001b[0m\u001b[1;33m:\u001b[0m\u001b[1;33m\u001b[0m\u001b[0m\n\u001b[1;32m-> 4456\u001b[1;33m                     \u001b[0mresults\u001b[0m\u001b[1;33m[\u001b[0m\u001b[0mi\u001b[0m\u001b[1;33m]\u001b[0m \u001b[1;33m=\u001b[0m \u001b[0mfunc\u001b[0m\u001b[1;33m(\u001b[0m\u001b[0mv\u001b[0m\u001b[1;33m)\u001b[0m\u001b[1;33m\u001b[0m\u001b[0m\n\u001b[0m\u001b[0;32m   4457\u001b[0m                     \u001b[0mkeys\u001b[0m\u001b[1;33m.\u001b[0m\u001b[0mappend\u001b[0m\u001b[1;33m(\u001b[0m\u001b[0mv\u001b[0m\u001b[1;33m.\u001b[0m\u001b[0mname\u001b[0m\u001b[1;33m)\u001b[0m\u001b[1;33m\u001b[0m\u001b[0m\n\u001b[0;32m   4458\u001b[0m             \u001b[1;32mexcept\u001b[0m \u001b[0mException\u001b[0m \u001b[1;32mas\u001b[0m \u001b[0me\u001b[0m\u001b[1;33m:\u001b[0m\u001b[1;33m\u001b[0m\u001b[0m\n",
      "\u001b[1;32m<ipython-input-61-7a668f7ca49a>\u001b[0m in \u001b[0;36m<lambda>\u001b[1;34m(x)\u001b[0m\n\u001b[0;32m      2\u001b[0m \u001b[0mwrjoin\u001b[0m\u001b[1;33m[\u001b[0m\u001b[1;34m'altacu'\u001b[0m\u001b[1;33m]\u001b[0m \u001b[1;33m=\u001b[0m \u001b[1;36m10\u001b[0m\u001b[1;33m\u001b[0m\u001b[0m\n\u001b[0;32m      3\u001b[0m \u001b[0mwrjoin\u001b[0m\u001b[1;33m[\u001b[0m\u001b[1;34m'alt_datum_cd'\u001b[0m\u001b[1;33m]\u001b[0m \u001b[1;33m=\u001b[0m \u001b[1;34m\"NAVD88\"\u001b[0m\u001b[1;33m\u001b[0m\u001b[0m\n\u001b[1;32m----> 4\u001b[1;33m \u001b[0mwrjoin\u001b[0m\u001b[1;33m[\u001b[0m\u001b[1;34m'altitude'\u001b[0m\u001b[1;33m]\u001b[0m \u001b[1;33m=\u001b[0m \u001b[0mwrjoin\u001b[0m\u001b[1;33m[\u001b[0m\u001b[1;33m[\u001b[0m\u001b[1;34m'dec_long_va'\u001b[0m\u001b[1;33m,\u001b[0m\u001b[1;34m'dec_lat_va'\u001b[0m\u001b[1;33m]\u001b[0m\u001b[1;33m]\u001b[0m\u001b[1;33m.\u001b[0m\u001b[0mapply\u001b[0m\u001b[1;33m(\u001b[0m\u001b[1;32mlambda\u001b[0m \u001b[0mx\u001b[0m\u001b[1;33m:\u001b[0m \u001b[0mwa\u001b[0m\u001b[1;33m.\u001b[0m\u001b[0mget_elev\u001b[0m\u001b[1;33m(\u001b[0m\u001b[0mx\u001b[0m\u001b[1;33m,\u001b[0m \u001b[0munits\u001b[0m\u001b[1;33m=\u001b[0m\u001b[1;34m'Feet'\u001b[0m\u001b[1;33m)\u001b[0m\u001b[1;33m,\u001b[0m\u001b[1;36m1\u001b[0m\u001b[1;33m)\u001b[0m\u001b[1;33m\u001b[0m\u001b[0m\n\u001b[0m",
      "\u001b[1;32mC:\\Program Files\\ArcGIS\\Pro\\bin\\Python\\envs\\arcgispro-py3\\lib\\site-packages\\wellapplication\\usgs.py\u001b[0m in \u001b[0;36mget_elev\u001b[1;34m(x, units)\u001b[0m\n\u001b[0;32m    338\u001b[0m     \u001b[1;32mwhile\u001b[0m \u001b[0mattempts\u001b[0m \u001b[1;33m<\u001b[0m \u001b[1;36m4\u001b[0m\u001b[1;33m:\u001b[0m\u001b[1;33m\u001b[0m\u001b[0m\n\u001b[0;32m    339\u001b[0m          \u001b[1;32mtry\u001b[0m\u001b[1;33m:\u001b[0m\u001b[1;33m\u001b[0m\u001b[0m\n\u001b[1;32m--> 340\u001b[1;33m              \u001b[0mresponse\u001b[0m \u001b[1;33m=\u001b[0m \u001b[0mrequests\u001b[0m\u001b[1;33m.\u001b[0m\u001b[0mget\u001b[0m\u001b[1;33m(\u001b[0m\u001b[0melev_url\u001b[0m\u001b[1;33m,\u001b[0m \u001b[0mparams\u001b[0m\u001b[1;33m=\u001b[0m\u001b[0mvalues\u001b[0m\u001b[1;33m)\u001b[0m\u001b[1;33m.\u001b[0m\u001b[0mjson\u001b[0m\u001b[1;33m(\u001b[0m\u001b[1;33m)\u001b[0m\u001b[1;33m\u001b[0m\u001b[0m\n\u001b[0m\u001b[0;32m    341\u001b[0m              \u001b[0mg\u001b[0m \u001b[1;33m=\u001b[0m \u001b[0mfloat\u001b[0m\u001b[1;33m(\u001b[0m\u001b[0mresponse\u001b[0m\u001b[1;33m[\u001b[0m\u001b[1;34m'USGS_Elevation_Point_Query_Service'\u001b[0m\u001b[1;33m]\u001b[0m\u001b[1;33m[\u001b[0m\u001b[1;34m'Elevation_Query'\u001b[0m\u001b[1;33m]\u001b[0m\u001b[1;33m[\u001b[0m\u001b[1;34m'Elevation'\u001b[0m\u001b[1;33m]\u001b[0m\u001b[1;33m)\u001b[0m\u001b[1;33m\u001b[0m\u001b[0m\n\u001b[0;32m    342\u001b[0m              \u001b[1;32mbreak\u001b[0m\u001b[1;33m\u001b[0m\u001b[0m\n",
      "\u001b[1;32mC:\\Program Files\\ArcGIS\\Pro\\bin\\Python\\envs\\arcgispro-py3\\lib\\site-packages\\requests\\models.py\u001b[0m in \u001b[0;36mjson\u001b[1;34m(self, **kwargs)\u001b[0m\n\u001b[0;32m    883\u001b[0m                     \u001b[1;31m# used.\u001b[0m\u001b[1;33m\u001b[0m\u001b[1;33m\u001b[0m\u001b[0m\n\u001b[0;32m    884\u001b[0m                     \u001b[1;32mpass\u001b[0m\u001b[1;33m\u001b[0m\u001b[0m\n\u001b[1;32m--> 885\u001b[1;33m         \u001b[1;32mreturn\u001b[0m \u001b[0mcomplexjson\u001b[0m\u001b[1;33m.\u001b[0m\u001b[0mloads\u001b[0m\u001b[1;33m(\u001b[0m\u001b[0mself\u001b[0m\u001b[1;33m.\u001b[0m\u001b[0mtext\u001b[0m\u001b[1;33m,\u001b[0m \u001b[1;33m**\u001b[0m\u001b[0mkwargs\u001b[0m\u001b[1;33m)\u001b[0m\u001b[1;33m\u001b[0m\u001b[0m\n\u001b[0m\u001b[0;32m    886\u001b[0m \u001b[1;33m\u001b[0m\u001b[0m\n\u001b[0;32m    887\u001b[0m     \u001b[1;33m@\u001b[0m\u001b[0mproperty\u001b[0m\u001b[1;33m\u001b[0m\u001b[0m\n",
      "\u001b[1;32mC:\\Program Files\\ArcGIS\\Pro\\bin\\Python\\envs\\arcgispro-py3\\lib\\site-packages\\simplejson\\__init__.py\u001b[0m in \u001b[0;36mloads\u001b[1;34m(s, encoding, cls, object_hook, parse_float, parse_int, parse_constant, object_pairs_hook, use_decimal, **kw)\u001b[0m\n\u001b[0;32m    514\u001b[0m             \u001b[0mparse_constant\u001b[0m \u001b[1;32mis\u001b[0m \u001b[1;32mNone\u001b[0m \u001b[1;32mand\u001b[0m \u001b[0mobject_pairs_hook\u001b[0m \u001b[1;32mis\u001b[0m \u001b[1;32mNone\u001b[0m\u001b[1;33m\u001b[0m\u001b[0m\n\u001b[0;32m    515\u001b[0m             and not use_decimal and not kw):\n\u001b[1;32m--> 516\u001b[1;33m         \u001b[1;32mreturn\u001b[0m \u001b[0m_default_decoder\u001b[0m\u001b[1;33m.\u001b[0m\u001b[0mdecode\u001b[0m\u001b[1;33m(\u001b[0m\u001b[0ms\u001b[0m\u001b[1;33m)\u001b[0m\u001b[1;33m\u001b[0m\u001b[0m\n\u001b[0m\u001b[0;32m    517\u001b[0m     \u001b[1;32mif\u001b[0m \u001b[0mcls\u001b[0m \u001b[1;32mis\u001b[0m \u001b[1;32mNone\u001b[0m\u001b[1;33m:\u001b[0m\u001b[1;33m\u001b[0m\u001b[0m\n\u001b[0;32m    518\u001b[0m         \u001b[0mcls\u001b[0m \u001b[1;33m=\u001b[0m \u001b[0mJSONDecoder\u001b[0m\u001b[1;33m\u001b[0m\u001b[0m\n",
      "\u001b[1;32mC:\\Program Files\\ArcGIS\\Pro\\bin\\Python\\envs\\arcgispro-py3\\lib\\site-packages\\simplejson\\decoder.py\u001b[0m in \u001b[0;36mdecode\u001b[1;34m(self, s, _w, _PY3)\u001b[0m\n\u001b[0;32m    368\u001b[0m         \u001b[1;32mif\u001b[0m \u001b[0m_PY3\u001b[0m \u001b[1;32mand\u001b[0m \u001b[0misinstance\u001b[0m\u001b[1;33m(\u001b[0m\u001b[0ms\u001b[0m\u001b[1;33m,\u001b[0m \u001b[0mbinary_type\u001b[0m\u001b[1;33m)\u001b[0m\u001b[1;33m:\u001b[0m\u001b[1;33m\u001b[0m\u001b[0m\n\u001b[0;32m    369\u001b[0m             \u001b[0ms\u001b[0m \u001b[1;33m=\u001b[0m \u001b[0ms\u001b[0m\u001b[1;33m.\u001b[0m\u001b[0mdecode\u001b[0m\u001b[1;33m(\u001b[0m\u001b[0mself\u001b[0m\u001b[1;33m.\u001b[0m\u001b[0mencoding\u001b[0m\u001b[1;33m)\u001b[0m\u001b[1;33m\u001b[0m\u001b[0m\n\u001b[1;32m--> 370\u001b[1;33m         \u001b[0mobj\u001b[0m\u001b[1;33m,\u001b[0m \u001b[0mend\u001b[0m \u001b[1;33m=\u001b[0m \u001b[0mself\u001b[0m\u001b[1;33m.\u001b[0m\u001b[0mraw_decode\u001b[0m\u001b[1;33m(\u001b[0m\u001b[0ms\u001b[0m\u001b[1;33m)\u001b[0m\u001b[1;33m\u001b[0m\u001b[0m\n\u001b[0m\u001b[0;32m    371\u001b[0m         \u001b[0mend\u001b[0m \u001b[1;33m=\u001b[0m \u001b[0m_w\u001b[0m\u001b[1;33m(\u001b[0m\u001b[0ms\u001b[0m\u001b[1;33m,\u001b[0m \u001b[0mend\u001b[0m\u001b[1;33m)\u001b[0m\u001b[1;33m.\u001b[0m\u001b[0mend\u001b[0m\u001b[1;33m(\u001b[0m\u001b[1;33m)\u001b[0m\u001b[1;33m\u001b[0m\u001b[0m\n\u001b[0;32m    372\u001b[0m         \u001b[1;32mif\u001b[0m \u001b[0mend\u001b[0m \u001b[1;33m!=\u001b[0m \u001b[0mlen\u001b[0m\u001b[1;33m(\u001b[0m\u001b[0ms\u001b[0m\u001b[1;33m)\u001b[0m\u001b[1;33m:\u001b[0m\u001b[1;33m\u001b[0m\u001b[0m\n",
      "\u001b[1;32mC:\\Program Files\\ArcGIS\\Pro\\bin\\Python\\envs\\arcgispro-py3\\lib\\site-packages\\simplejson\\decoder.py\u001b[0m in \u001b[0;36mraw_decode\u001b[1;34m(self, s, idx, _w, _PY3)\u001b[0m\n\u001b[0;32m    398\u001b[0m             \u001b[1;32melif\u001b[0m \u001b[0mord0\u001b[0m \u001b[1;33m==\u001b[0m \u001b[1;36m0xef\u001b[0m \u001b[1;32mand\u001b[0m \u001b[0ms\u001b[0m\u001b[1;33m[\u001b[0m\u001b[0midx\u001b[0m\u001b[1;33m:\u001b[0m\u001b[0midx\u001b[0m \u001b[1;33m+\u001b[0m \u001b[1;36m3\u001b[0m\u001b[1;33m]\u001b[0m \u001b[1;33m==\u001b[0m \u001b[1;34m'\\xef\\xbb\\xbf'\u001b[0m\u001b[1;33m:\u001b[0m\u001b[1;33m\u001b[0m\u001b[0m\n\u001b[0;32m    399\u001b[0m                 \u001b[0midx\u001b[0m \u001b[1;33m+=\u001b[0m \u001b[1;36m3\u001b[0m\u001b[1;33m\u001b[0m\u001b[0m\n\u001b[1;32m--> 400\u001b[1;33m         \u001b[1;32mreturn\u001b[0m \u001b[0mself\u001b[0m\u001b[1;33m.\u001b[0m\u001b[0mscan_once\u001b[0m\u001b[1;33m(\u001b[0m\u001b[0ms\u001b[0m\u001b[1;33m,\u001b[0m \u001b[0midx\u001b[0m\u001b[1;33m=\u001b[0m\u001b[0m_w\u001b[0m\u001b[1;33m(\u001b[0m\u001b[0ms\u001b[0m\u001b[1;33m,\u001b[0m \u001b[0midx\u001b[0m\u001b[1;33m)\u001b[0m\u001b[1;33m.\u001b[0m\u001b[0mend\u001b[0m\u001b[1;33m(\u001b[0m\u001b[1;33m)\u001b[0m\u001b[1;33m)\u001b[0m\u001b[1;33m\u001b[0m\u001b[0m\n\u001b[0m",
      "\u001b[1;31mJSONDecodeError\u001b[0m: ('Expecting value: line 1 column 1 (char 0)', 'occurred at index 2928')"
     ]
    }
   ],
   "source": [
    "wrjoin['alt_meth_cd'] = 'N'\n",
    "wrjoin['altacu'] = 10\n",
    "wrjoin['alt_datum_cd'] = \"NAVD88\"\n",
    "wrjoin['altitude'] = wrjoin[['dec_long_va','dec_lat_va']].apply(lambda x: wa.get_elev(x, units='Feet'),1)\n"
   ]
  },
  {
   "cell_type": "code",
   "execution_count": null,
   "metadata": {
    "collapsed": true
   },
   "outputs": [],
   "source": [
    "def huc(x):\n",
    "    try:\n",
    "        huc, nm = wa.get_huc(x)\n",
    "        return huc, nm\n",
    "    except:\n",
    "        pass\n",
    "        return '',''\n",
    "\n",
    "wrjoin['huc'], wrjoin['huc_name'] =\\\n",
    "zip(*wrjoin[['dec_long_va','dec_lat_va']].apply(lambda x: huc(x),1))\n",
    "wrjoin['usgs_num_guess'] = wrjoin[['dec_long_va','dec_lat_va']].apply(lambda x: wa.USGSID(x),1)"
   ]
  },
  {
   "cell_type": "code",
   "execution_count": null,
   "metadata": {
    "collapsed": true
   },
   "outputs": [],
   "source": [
    "wrjoin.head()"
   ]
  },
  {
   "cell_type": "code",
   "execution_count": 63,
   "metadata": {},
   "outputs": [],
   "source": [
    "wrabb = wrjoin[['site_no','depth','dec_long_va','dec_lat_va']]\n",
    "wrabb.set_index('site_no',inplace=True)\n"
   ]
  },
  {
   "cell_type": "code",
   "execution_count": 67,
   "metadata": {},
   "outputs": [],
   "source": [
    "wdict = wrabb.to_dict()"
   ]
  },
  {
   "cell_type": "code",
   "execution_count": null,
   "metadata": {
    "collapsed": true
   },
   "outputs": [],
   "source": [
    "wrjoin.to_csv(file_place.format('stations'))"
   ]
  },
  {
   "cell_type": "code",
   "execution_count": 130,
   "metadata": {},
   "outputs": [],
   "source": [
    "SDWISpivTot['lat'] = SDWISpivTot['stid'].apply(lambda x: wrabb['dec_lat_va'].get(x), 1)\n",
    "SDWISpivTot['lon'] = SDWISpivTot['stid'].apply(lambda x: wrabb['dec_long_va'].get(x), 1)\n",
    "SDWISpivTot['wd'] = SDWISpivTot['stid'].apply(lambda x: wrabb['depth'].get(x), 1)"
   ]
  },
  {
   "cell_type": "code",
   "execution_count": 132,
   "metadata": {},
   "outputs": [],
   "source": [
    "new_cols = []\n",
    "temp_cols = list(template.columns) + ['602','603','OrgName', 'SampleID','AnalysisDate', 'SamplePointComment']\n",
    "for col in temp_cols:\n",
    "    if col in SDWISpivTot.columns:\n",
    "        new_cols.append(col)\n",
    "spt = SDWISpivTot[new_cols]\n",
    "spt.to_csv(file_place.format('piv_output'), index=False)"
   ]
  },
  {
   "cell_type": "code",
   "execution_count": null,
   "metadata": {
    "collapsed": true
   },
   "outputs": [],
   "source": [
    "stations_chem = pd.merge(SDWISpivTot, wrjoin, left_on = 'stid', right_on = 'site_no')"
   ]
  },
  {
   "cell_type": "markdown",
   "metadata": {},
   "source": [
    "# USGS Format and Table"
   ]
  },
  {
   "cell_type": "markdown",
   "metadata": {},
   "source": [
    "Mainly for the NWIS Schema"
   ]
  },
  {
   "cell_type": "code",
   "execution_count": null,
   "metadata": {
    "collapsed": true
   },
   "outputs": [],
   "source": [
    "columns = ['agency_cd','site_no','sample_dt','sample_tm','sample_end_dt','sample_end_tm',\n",
    "           'sample_start_time_datum_cd','tm_datum_rlbty_cd','coll_ent_cd','medium_cd',\n",
    "           'tu_id','body_part_id','r00003','p00003','r00010','p00010','r00094','p00094',\n",
    "           'r00400','p00400','r00631','p00631','r00671','p00671','r00900','p00900','r00915',\n",
    "           'p00915','r00925','p00925','r00930','p00930','r00935','p00935','r00940','p00940',\n",
    "           'r00945','p00945','r00950','p00950','r00955','p00955','r01000','p01000','r01046',\n",
    "           'p01046','r22703','p22703','r70300','p70300','r71870','p71870','r90410','p90410']"
   ]
  },
  {
   "cell_type": "code",
   "execution_count": null,
   "metadata": {
    "collapsed": true,
    "scrolled": true
   },
   "outputs": [],
   "source": [
    "usgs_piv_path = 'E:/Google Drive/WORK/Groundwater Chemistry/USGS_data/qwdata_pivot'\n",
    "pd.read_csv(usgs_piv_path, sep = '\\t',skiprows=12438,names=columns)"
   ]
  },
  {
   "cell_type": "code",
   "execution_count": null,
   "metadata": {
    "collapsed": true
   },
   "outputs": [],
   "source": [
    "['']"
   ]
  },
  {
   "cell_type": "code",
   "execution_count": null,
   "metadata": {
    "collapsed": true
   },
   "outputs": [],
   "source": [
    "SQL = \"\"\"\n",
    "SELECT * FROM UTV80.TSAMCSMP \n",
    "WHERE \n",
    "UTV80.TSAMCSMP.FIELD_TEMP_MSR > 0 OR \n",
    "UTV80.TSAMCSMP.FIELD_PH_MEASURE > 0\n",
    "\"\"\""
   ]
  },
  {
   "cell_type": "code",
   "execution_count": null,
   "metadata": {
    "collapsed": true
   },
   "outputs": [],
   "source": [
    "df_ora"
   ]
  },
  {
   "cell_type": "code",
   "execution_count": null,
   "metadata": {
    "collapsed": true
   },
   "outputs": [],
   "source": []
  }
 ],
 "metadata": {
  "kernelspec": {
   "display_name": "Python 3",
   "language": "python",
   "name": "python3"
  },
  "language_info": {
   "codemirror_mode": {
    "name": "ipython",
    "version": 3
   },
   "file_extension": ".py",
   "mimetype": "text/x-python",
   "name": "python",
   "nbconvert_exporter": "python",
   "pygments_lexer": "ipython3",
   "version": "3.5.3"
  },
  "widgets": {
   "state": {},
   "version": "1.1.1"
  }
 },
 "nbformat": 4,
 "nbformat_minor": 1
}
