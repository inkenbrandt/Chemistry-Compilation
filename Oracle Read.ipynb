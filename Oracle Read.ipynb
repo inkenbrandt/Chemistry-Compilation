{
 "cells": [
  {
   "cell_type": "markdown",
   "metadata": {},
   "source": [
    "Import relevant Python libraries."
   ]
  },
  {
   "cell_type": "code",
   "execution_count": 27,
   "metadata": {
    "collapsed": false
   },
   "outputs": [],
   "source": [
    "import pandas as pd\n",
    "import cx_Oracle\n",
    "import numpy as np\n",
    "import sys\n",
    "import platform"
   ]
  },
  {
   "cell_type": "markdown",
   "metadata": {},
   "source": [
    "Print version information."
   ]
  },
  {
   "cell_type": "code",
   "execution_count": 28,
   "metadata": {
    "collapsed": false
   },
   "outputs": [
    {
     "name": "stdout",
     "output_type": "stream",
     "text": [
      "Operating System Windows 7\n",
      "Python Version 2.7.10 (default, May 23 2015, 09:40:32) [MSC v.1500 32 bit (Intel)]\n",
      "Pandas Version 0.19.1\n",
      "Numpy Version 1.11.2\n"
     ]
    }
   ],
   "source": [
    "print(\"Operating System \" + platform.system() + \" \" + platform.release())\n",
    "print(\"Python Version \" + str(sys.version))\n",
    "print(\"Pandas Version \" + str(pd.__version__))\n",
    "print(\"Numpy Version \" + str(np.__version__))"
   ]
  },
  {
   "cell_type": "markdown",
   "metadata": {},
   "source": [
    "Import database connection.  This is kept in a separate file because it contains sensitive information."
   ]
  },
  {
   "cell_type": "code",
   "execution_count": 30,
   "metadata": {
    "collapsed": true
   },
   "outputs": [],
   "source": [
    "connection_filepath = \"E:\\Google Drive\\WORK\\Groundwater Chemistry\"\n",
    "sys.path.append(connection_filepath)\n",
    "import oraconnection"
   ]
  },
  {
   "cell_type": "markdown",
   "metadata": {},
   "source": [
    "This function below is just calling the imported database connection and assigning it to a variable."
   ]
  },
  {
   "cell_type": "code",
   "execution_count": 31,
   "metadata": {
    "collapsed": false
   },
   "outputs": [],
   "source": [
    "connection = oraconnection.oraconnect()"
   ]
  },
  {
   "cell_type": "markdown",
   "metadata": {},
   "source": [
    "`SDWISconst` is a list of the constituents of interest.  The percent sign is used as a wildcard because all of the parameter names have trailing spaces or other issues."
   ]
  },
  {
   "cell_type": "code",
   "execution_count": 87,
   "metadata": {
    "collapsed": true
   },
   "outputs": [],
   "source": [
    "SDWISconst = ['PHOSPHORUS%', 'ARSENIC%','CALCIUM%','CHLORIDE%',\n",
    "              'FLUORIDE%','IRON%', 'MAGNESIUM%','NITRATE%','CARBONATE%',\n",
    "              'POTASSIUM%','BICARBONATE%','ALKA%','PHOSPHATE%',\n",
    "              'SILICA%','SODIUM%','SULFATE%','BORON%','BROMIDE%','PH%',\n",
    "              'TDS%','CONDUCT%','URANIUM%','TEMPER%','HARDN%']"
   ]
  },
  {
   "cell_type": "markdown",
   "metadata": {},
   "source": [
    "The following is the SQL query used to pull the chemistry data from the database.  It renames the fields (from `SELECT` to `FROM`), then joins the appropriate tables (from `FROM` to `WHERE`, then limits the output to Springs and Wells and state issigned id code.  The `{:}` in the `WHERE` clause is a place holder for one of the above parameters in the `SDWISconst` list."
   ]
  },
  {
   "cell_type": "code",
   "execution_count": 88,
   "metadata": {
    "collapsed": true
   },
   "outputs": [],
   "source": [
    "SQLtext = \"\"\"\n",
    "SELECT\n",
    "UTV80.TINWSF.TYPE_CODE AS \"SampType\", \n",
    "UTV80.TINWSF.TINWSF_IS_NUMBER AS \"site_no\", \n",
    "UTV80.TINWSYS.TINWSYS_IS_NUMBER AS \"OrgID\", \n",
    "UTV80.TINWSYS.NAME AS \"OrgName\", \n",
    "UTV80.TSASAMPL.LAB_ASGND_ID_NUM AS \"SampleID\", \n",
    "UTV80.TSASAMPL.COLLLECTION_END_DT AS \"sample_dt\", \n",
    "UTV80.TSASAMPL.COLLCTN_END_TIME AS \"sample_tm\", \n",
    "UTV80.TSAANLYT.NAME AS \"Param\", \n",
    "UTV80.TSASAR.CONCENTRATION_MSR AS \"result_va\", \n",
    "UTV80.TSASAR.UOM_CODE AS \"Unit\", \n",
    "UTV80.TSASAR.ANALYSIS_START_DT AS \"AnalysisDate\", \n",
    "UTV80.TSASAR.DETECTN_LIMIT_NUM AS \"MDL\", \n",
    "UTV80.TSASAR.DETECTN_LIM_UOM_CD AS \"MDLUnit\", \n",
    "UTV80.TSAANLYT.CAS_REGISTRY_NUM AS \"CAS_Reg\", \n",
    "UTV80.TSASAR.TSASAR_IS_NUMBER AS \"ID_NUM\"\n",
    "\n",
    "FROM UTV80.TINWSF \n",
    "JOIN UTV80.TINWSYS ON \n",
    "UTV80.TINWSF.TINWSYS_IS_NUMBER = UTV80.TINWSYS.TINWSYS_IS_NUMBER \n",
    "JOIN UTV80.TSASMPPT ON \n",
    "UTV80.TINWSF.TINWSF_IS_NUMBER = UTV80.TSASMPPT.TINWSF0IS_NUMBER\n",
    "JOIN UTV80.TSASAMPL ON \n",
    "UTV80.TSASMPPT.TSASMPPT_IS_NUMBER = UTV80.TSASAMPL.TSASMPPT_IS_NUMBER \n",
    "JOIN UTV80.TSASAR ON \n",
    "UTV80.TSASAMPL.TSASAMPL_IS_NUMBER = UTV80.TSASAR.TSASAMPL_IS_NUMBER  \n",
    "JOIN UTV80.TSAANLYT ON \n",
    "UTV80.TSASAR.TSAANLYT_IS_NUMBER = UTV80.TSAANLYT.TSAANLYT_IS_NUMBER \n",
    "WHERE (UTV80.TINWSF.TYPE_CODE = 'SP' Or UTV80.TINWSF.TYPE_CODE = 'WL') \n",
    "AND (UTV80.TSAANLYT.NAME LIKE '{:}') \n",
    "ORDER BY UTV80.TINWSF.ST_ASGN_IDENT_CD\n",
    "\"\"\""
   ]
  },
  {
   "cell_type": "markdown",
   "metadata": {},
   "source": [
    "The following script loops through the constituents of interest and downloads to csvs based on the above query, inserting the constituent name each time. It also reformats the date and time fields using Pandas (see http://strftime.org) and adds an `agency_cd` field. It generates a Pandas Dataframe for each parameter and stores it in a <a href='https://www.tutorialspoint.com/python/python_dictionary.htm'>dictionary</a> with the parameter name as the key"
   ]
  },
  {
   "cell_type": "code",
   "execution_count": 90,
   "metadata": {
    "collapsed": false
   },
   "outputs": [
    {
     "name": "stdout",
     "output_type": "stream",
     "text": [
      "PHOSPHORUS\n",
      "ARSENIC\n",
      "CALCIUM\n",
      "CHLORIDE\n",
      "FLUORIDE\n",
      "IRON\n",
      "MAGNESIUM\n",
      "NITRATE\n",
      "CARBONATE\n",
      "POTASSIUM\n",
      "BICARBONATE\n",
      "ALKA\n",
      "PHOSPHATE\n",
      "SILICA\n",
      "SODIUM\n",
      "SULFATE\n",
      "BORON\n",
      "BROMIDE\n",
      "PH\n",
      "TDS\n",
      "CONDUCT\n",
      "URANIUM\n",
      "TEMPER\n",
      "HARDN\n"
     ]
    }
   ],
   "source": [
    "df_ora = {}\n",
    "for j in SDWISconst:\n",
    "    SQL = SQLtext.format(j)\n",
    "    k = j[:-1]\n",
    "    df_ora[k] = pd.read_sql(SQL, con = connection,\n",
    "                            parse_dates=['sample_dt','sample_tm','AnalysisDate'])\n",
    "    df_ora[k]['agency_cd'] = 'UDDW'\n",
    "    file_place = 'E:/Google Drive/WORK/Groundwater Chemistry/raw_SDWIS/{:}.csv'\n",
    "    df_ora[k].to_csv(file_place.format(k))\n",
    "    print(k)"
   ]
  },
  {
   "cell_type": "markdown",
   "metadata": {},
   "source": [
    "We can then use Pandas to combine all of the <a href='https://pandas.pydata.org/pandas-docs/stable/dsintro.html'>Dataframes</a> into one massive dataframe and then save it as a csv.  The reason I didn't do this in the first place (just query all of the constituents) is because the large data request tends to lag or lock up."
   ]
  },
  {
   "cell_type": "code",
   "execution_count": 91,
   "metadata": {
    "collapsed": true
   },
   "outputs": [],
   "source": [
    "SDWISallraw = pd.concat(df_ora)\n",
    "SDWISallraw.reset_index(inplace=True)\n",
    "SDWISallraw.drop(['level_0','level_1'],inplace=True,axis=1)\n",
    "SDWISallraw.to_csv(file_place.format('all'))"
   ]
  },
  {
   "cell_type": "markdown",
   "metadata": {},
   "source": [
    "I then save the resulting Dataframe in <a href='https://docs.python.org/2/library/pickle.html'>pickle</a> format as well."
   ]
  },
  {
   "cell_type": "code",
   "execution_count": 92,
   "metadata": {
    "collapsed": true
   },
   "outputs": [],
   "source": [
    "SDWISallraw.to_pickle(file_place[:-4].format(\"all.pickle\"))"
   ]
  },
  {
   "cell_type": "code",
   "execution_count": 93,
   "metadata": {
    "collapsed": true
   },
   "outputs": [],
   "source": [
    "SDWISallraw = pd.read_pickle(file_place[:-4].format(\"all.pickle\"))"
   ]
  },
  {
   "cell_type": "markdown",
   "metadata": {},
   "source": [
    "We should probably preview the dataframe now to make sure it looks ok."
   ]
  },
  {
   "cell_type": "code",
   "execution_count": 94,
   "metadata": {
    "collapsed": false
   },
   "outputs": [
    {
     "data": {
      "text/html": [
       "<div>\n",
       "<table border=\"1\" class=\"dataframe\">\n",
       "  <thead>\n",
       "    <tr style=\"text-align: right;\">\n",
       "      <th></th>\n",
       "      <th>SampType</th>\n",
       "      <th>site_no</th>\n",
       "      <th>OrgID</th>\n",
       "      <th>OrgName</th>\n",
       "      <th>SampleID</th>\n",
       "      <th>sample_dt</th>\n",
       "      <th>sample_tm</th>\n",
       "      <th>Param</th>\n",
       "      <th>result_va</th>\n",
       "      <th>Unit</th>\n",
       "      <th>AnalysisDate</th>\n",
       "      <th>MDL</th>\n",
       "      <th>MDLUnit</th>\n",
       "      <th>CAS_Reg</th>\n",
       "      <th>ID_NUM</th>\n",
       "      <th>agency_cd</th>\n",
       "    </tr>\n",
       "  </thead>\n",
       "  <tbody>\n",
       "    <tr>\n",
       "      <th>0</th>\n",
       "      <td>SP</td>\n",
       "      <td>10670.0</td>\n",
       "      <td>1788.0</td>\n",
       "      <td>MT STERLING RECREATION CAMP</td>\n",
       "      <td>90 02702</td>\n",
       "      <td>2009-03-19</td>\n",
       "      <td>NaT</td>\n",
       "      <td>ALKALINITY, BICARBONATE</td>\n",
       "      <td>284.0</td>\n",
       "      <td>MG/L</td>\n",
       "      <td>NaT</td>\n",
       "      <td>0.0</td>\n",
       "      <td></td>\n",
       "      <td>None</td>\n",
       "      <td>4099358.0</td>\n",
       "      <td>UDDW</td>\n",
       "    </tr>\n",
       "    <tr>\n",
       "      <th>1</th>\n",
       "      <td>SP</td>\n",
       "      <td>5691.0</td>\n",
       "      <td>1098.0</td>\n",
       "      <td>ORANGEVILLE</td>\n",
       "      <td>1513215-03</td>\n",
       "      <td>2015-11-17</td>\n",
       "      <td>NaT</td>\n",
       "      <td>ALKALINITY, TOTAL</td>\n",
       "      <td>189.0</td>\n",
       "      <td>MG/L</td>\n",
       "      <td>NaT</td>\n",
       "      <td>0.0</td>\n",
       "      <td></td>\n",
       "      <td>None</td>\n",
       "      <td>4080317.0</td>\n",
       "      <td>UDDW</td>\n",
       "    </tr>\n",
       "    <tr>\n",
       "      <th>2</th>\n",
       "      <td>SP</td>\n",
       "      <td>5819.0</td>\n",
       "      <td>1620.0</td>\n",
       "      <td>WASATCH RESORT</td>\n",
       "      <td>16D0366-01</td>\n",
       "      <td>2016-04-11</td>\n",
       "      <td>NaT</td>\n",
       "      <td>ALKALINITY, TOTAL</td>\n",
       "      <td>55.0</td>\n",
       "      <td>MG/L</td>\n",
       "      <td>2016-04-14</td>\n",
       "      <td>1.0</td>\n",
       "      <td>MG/L</td>\n",
       "      <td>None</td>\n",
       "      <td>4116199.0</td>\n",
       "      <td>UDDW</td>\n",
       "    </tr>\n",
       "    <tr>\n",
       "      <th>3</th>\n",
       "      <td>WL</td>\n",
       "      <td>9529.0</td>\n",
       "      <td>1769.0</td>\n",
       "      <td>DEEPWATER DISTRIBUTION COMPANY</td>\n",
       "      <td>1514188-01</td>\n",
       "      <td>2015-12-16</td>\n",
       "      <td>NaT</td>\n",
       "      <td>ALKALINITY, CARBONATE</td>\n",
       "      <td>0.0</td>\n",
       "      <td></td>\n",
       "      <td>NaT</td>\n",
       "      <td>1.0</td>\n",
       "      <td>MG/L</td>\n",
       "      <td>None</td>\n",
       "      <td>4080538.0</td>\n",
       "      <td>UDDW</td>\n",
       "    </tr>\n",
       "    <tr>\n",
       "      <th>4</th>\n",
       "      <td>WL</td>\n",
       "      <td>8861.0</td>\n",
       "      <td>1743.0</td>\n",
       "      <td>HIDDEN HOLLOW WATER COMPANY</td>\n",
       "      <td>1513683-01</td>\n",
       "      <td>2015-12-01</td>\n",
       "      <td>NaT</td>\n",
       "      <td>ALKALINITY, TOTAL</td>\n",
       "      <td>170.0</td>\n",
       "      <td>MG/L</td>\n",
       "      <td>2015-12-03</td>\n",
       "      <td>1.0</td>\n",
       "      <td>MG/L</td>\n",
       "      <td>None</td>\n",
       "      <td>4076694.0</td>\n",
       "      <td>UDDW</td>\n",
       "    </tr>\n",
       "  </tbody>\n",
       "</table>\n",
       "</div>"
      ],
      "text/plain": [
       "  SampType  site_no   OrgID                         OrgName    SampleID  \\\n",
       "0       SP  10670.0  1788.0     MT STERLING RECREATION CAMP    90 02702   \n",
       "1       SP   5691.0  1098.0                     ORANGEVILLE  1513215-03   \n",
       "2       SP   5819.0  1620.0                  WASATCH RESORT  16D0366-01   \n",
       "3       WL   9529.0  1769.0  DEEPWATER DISTRIBUTION COMPANY  1514188-01   \n",
       "4       WL   8861.0  1743.0     HIDDEN HOLLOW WATER COMPANY  1513683-01   \n",
       "\n",
       "   sample_dt sample_tm                                     Param  result_va  \\\n",
       "0 2009-03-19       NaT  ALKALINITY, BICARBONATE                       284.0   \n",
       "1 2015-11-17       NaT  ALKALINITY, TOTAL                             189.0   \n",
       "2 2016-04-11       NaT  ALKALINITY, TOTAL                              55.0   \n",
       "3 2015-12-16       NaT  ALKALINITY, CARBONATE                           0.0   \n",
       "4 2015-12-01       NaT  ALKALINITY, TOTAL                             170.0   \n",
       "\n",
       "        Unit AnalysisDate  MDL    MDLUnit CAS_Reg     ID_NUM agency_cd  \n",
       "0  MG/L               NaT  0.0               None  4099358.0      UDDW  \n",
       "1  MG/L               NaT  0.0               None  4080317.0      UDDW  \n",
       "2  MG/L        2016-04-14  1.0  MG/L         None  4116199.0      UDDW  \n",
       "3                     NaT  1.0  MG/L         None  4080538.0      UDDW  \n",
       "4  MG/L        2015-12-03  1.0  MG/L         None  4076694.0      UDDW  "
      ]
     },
     "execution_count": 94,
     "metadata": {},
     "output_type": "execute_result"
    }
   ],
   "source": [
    "SDWISallraw.head()"
   ]
  },
  {
   "cell_type": "markdown",
   "metadata": {},
   "source": [
    "Let's strip out unneeded white space to make units and parameter names more consistent."
   ]
  },
  {
   "cell_type": "code",
   "execution_count": 95,
   "metadata": {
    "collapsed": false
   },
   "outputs": [],
   "source": [
    "def unitstrip(x):\n",
    "    if x is None:\n",
    "        return x\n",
    "    else:\n",
    "        return x.strip()\n",
    "    \n",
    "SDWISallraw['Param'] = SDWISallraw['Param'].apply(lambda x: x.strip(),1) \n",
    "SDWISallraw['Unit'] = SDWISallraw['Unit'].apply(lambda x: unitstrip(x),1)\n",
    "SDWISallraw['MDLUnit'] = SDWISallraw['MDLUnit'].apply(lambda x: unitstrip(x),1)"
   ]
  },
  {
   "cell_type": "markdown",
   "metadata": {},
   "source": [
    "Add `remark_cd` field and populate based on value in `result_va` and the reported MDL."
   ]
  },
  {
   "cell_type": "code",
   "execution_count": 96,
   "metadata": {
    "collapsed": false
   },
   "outputs": [],
   "source": [
    "def fillmdlspot(x):\n",
    "    \"\"\"\n",
    "    PARAM\n",
    "    ------\n",
    "    x[0] = result_va\n",
    "    x[1] = Unit\n",
    "    x[2] = MDL\n",
    "    x[3] = MDLUnit\n",
    "    \n",
    "    RETURNS\n",
    "    -------\n",
    "    remark_cd, result_va, Unit\n",
    "    \"\"\"\n",
    "    if (x[0] == 0 or x[0] is None or x[0] == ''):\n",
    "        return '<',x[2],x[3]\n",
    "    else:\n",
    "        return np.nan, x[0], x[1]\n",
    "SDWISallraw['remark_cd'] = SDWISallraw[['result_va',\n",
    "                                        'Unit','MDL',\n",
    "                                        'MDLUnit']].apply(lambda x: fillmdlspot(x)[0],1)\n",
    "SDWISallraw['result_va'] = SDWISallraw[['result_va',\n",
    "                                        'Unit','MDL',\n",
    "                                        'MDLUnit']].apply(lambda x: fillmdlspot(x)[1],1)\n"
   ]
  },
  {
   "cell_type": "markdown",
   "metadata": {},
   "source": [
    "Convert ug/L to mg/L in cases where units should be in mg/L. We have to do this for both the MDL and the results."
   ]
  },
  {
   "cell_type": "code",
   "execution_count": 97,
   "metadata": {
    "collapsed": true
   },
   "outputs": [],
   "source": [
    "def converter(x):\n",
    "    # these are the parameters where we want the reported units to be ug/L\n",
    "    microgrammers = ['BORON,TOTAL','IRON','IRON, DISSOLVED','ARSENIC','BORON']\n",
    "    if x[0] == 'UG/L' and x[2] not in microgrammers:\n",
    "        return x[1]*0.001, 'MG/L'\n",
    "    elif x[0] == 'LBS/GAL':\n",
    "        return x[1]*119826.0, 'MG/L'\n",
    "    else:\n",
    "        return x[1], x[0]"
   ]
  },
  {
   "cell_type": "code",
   "execution_count": 98,
   "metadata": {
    "collapsed": false
   },
   "outputs": [],
   "source": [
    "SDWISallraw['result_va'] = SDWISallraw[['Unit','result_va','Param']].apply(lambda x: converter(x)[0],1)\n",
    "SDWISallraw['Unit'] = SDWISallraw[['Unit','result_va','Param']].apply(lambda x: converter(x)[1],1)"
   ]
  },
  {
   "cell_type": "code",
   "execution_count": 99,
   "metadata": {
    "collapsed": true
   },
   "outputs": [],
   "source": [
    "SDWISallraw['MDL'] = SDWISallraw[['MDLUnit','MDL','Param']].apply(lambda x: converter(x)[0],1)\n",
    "SDWISallraw['MDLUnit'] = SDWISallraw[['MDLUnit','MDL','Param']].apply(lambda x: converter(x)[1],1)"
   ]
  },
  {
   "cell_type": "markdown",
   "metadata": {},
   "source": [
    "Match to USGS parameter codes to the named paramters.  The parameter codes can be found at the following links:<br>\n",
    "https://nwis.waterdata.usgs.gov/usa/nwis/pmcodes?radio_pm_search=param_group&pm_group=All+--+include+all+parameter+groups&pm_search=&casrn_search=&srsname_search=&format=html_table&show=parameter_group_nm&show=parameter_nm&show=casrn&show=srsname&show=parameter_units<br>\n",
    "https://nwis.waterdata.usgs.gov/usa/nwis/pmcodes"
   ]
  },
  {
   "cell_type": "code",
   "execution_count": 100,
   "metadata": {
    "collapsed": false
   },
   "outputs": [],
   "source": [
    "USGSmatch = {'CONDUCTIVITY @ 25 C UMHOS/CM':'00400', 'BORON':'01021',\n",
    "             'ARSENIC':'01000', 'BICARBONATE AS HCO3':'00451',\n",
    "             'ALKALINITY, BICARBONATE':'00451','ALKALINITY, CARBONATE':'00448',\n",
    "             'CARBONATE':'00448',\n",
    "             'BORON, TOTAL':'00999', 'BROMIDE':'71870', 'CALCIUM':'00915', \n",
    "             'CALCIUM HARDNESS':'00900','CHLORIDE':'00940', 'FLUORIDE':'00950', \n",
    "             'IRON':'01045', 'IRON, DISSOLVED':'01046','MAGNESIUM':'00925', \n",
    "             'NITRATE-NITRITE':'00631', 'NITRATE':'00620', 'PH':'00400',\n",
    "             'PHOSPHATE, TOTAL':'00650', 'PHOSPHORUS, TOTAL':'00665', 'POTASSIUM':'00935', \n",
    "             'SILICA':'00955','SODIUM':'00930', 'SULFATE':'00945', 'TDS':'70300',\n",
    "             'TEMPERATURE (CENTIGRADE)':'00010','ALKALINITY, TOTAL':'00421',\n",
    "             'ALKALINITY, CACO3 STABILITY':'00421'}"
   ]
  },
  {
   "cell_type": "markdown",
   "metadata": {},
   "source": [
    "These have not been matched to parameter codes yet:\n",
    "'URANIUM-238'"
   ]
  },
  {
   "cell_type": "code",
   "execution_count": 101,
   "metadata": {
    "collapsed": false
   },
   "outputs": [
    {
     "data": {
      "text/plain": [
       "array(['ALKALINITY, BICARBONATE', 'ALKALINITY, TOTAL',\n",
       "       'ALKALINITY, CARBONATE', 'ALKALINITY, CACO3 STABILITY', 'ARSENIC',\n",
       "       'BICARBONATE AS HCO3', 'BORON, TOTAL', 'BROMIDE', 'CALCIUM',\n",
       "       'CALCIUM HARDNESS', 'CHLORIDE', 'CONDUCTIVITY @ 25 C UMHOS/CM',\n",
       "       'FLUORIDE', 'HARDNESS, TOTAL (AS CACO3)', 'HARDNESS, CARBONATE',\n",
       "       'HARDNESS, CALCIUM MAGNESIUM', 'IRON', 'IRON, DISSOLVED',\n",
       "       'IRON BACTERIA ID', 'MAGNESIUM', 'NITRATE', 'NITRATE-NITRITE', 'PH',\n",
       "       'PHOSPHATE, TOTAL', 'PHOSPHORUS, TOTAL', 'POTASSIUM', 'SILICA',\n",
       "       'SODIUM', 'SULFATE', 'TDS', 'TEMPERATURE (CENTIGRADE)',\n",
       "       'URANIUM-238', 'URANIUM-235', 'URANIUM-234'], dtype=object)"
      ]
     },
     "execution_count": 101,
     "metadata": {},
     "output_type": "execute_result"
    }
   ],
   "source": [
    "SDWISallraw['Param'].unique()"
   ]
  },
  {
   "cell_type": "code",
   "execution_count": 102,
   "metadata": {
    "collapsed": false
   },
   "outputs": [],
   "source": [
    "SDWISallraw['parm_cd'] = SDWISallraw['Param'].apply(lambda x: str(USGSmatch.get(x,'')),1)"
   ]
  },
  {
   "cell_type": "code",
   "execution_count": 103,
   "metadata": {
    "collapsed": false
   },
   "outputs": [],
   "source": [
    "SDWISallraw.to_csv(file_place.format('all_adjusted'),index=False)"
   ]
  },
  {
   "cell_type": "code",
   "execution_count": 104,
   "metadata": {
    "collapsed": true
   },
   "outputs": [],
   "source": [
    "def comb_res_rmk(x):\n",
    "    if x[0]== '<':\n",
    "        return str(x[0])+str(x[1])\n",
    "    else:\n",
    "        return str(x[1])\n"
   ]
  },
  {
   "cell_type": "code",
   "execution_count": 105,
   "metadata": {
    "collapsed": false
   },
   "outputs": [],
   "source": [
    "SDWISallraw['res_w_rmk'] = SDWISallraw[['remark_cd','result_va']].apply(lambda x: comb_res_rmk(x),1)"
   ]
  },
  {
   "cell_type": "code",
   "execution_count": 106,
   "metadata": {
    "collapsed": true
   },
   "outputs": [],
   "source": [
    "SDWIS = SDWISallraw.drop_duplicates(subset=['SampleID','Param'])"
   ]
  },
  {
   "cell_type": "code",
   "execution_count": 108,
   "metadata": {
    "collapsed": false
   },
   "outputs": [],
   "source": [
    "SDWISpiv = SDWIS.pivot(index='SampleID', columns = 'Param', values = 'res_w_rmk')\n",
    "SDWISpiv.to_csv(file_place.format('by_sample'),index=False)"
   ]
  },
  {
   "cell_type": "code",
   "execution_count": null,
   "metadata": {
    "collapsed": true
   },
   "outputs": [],
   "source": []
  },
  {
   "cell_type": "markdown",
   "metadata": {},
   "source": [
    "# USGS Format and Table"
   ]
  },
  {
   "cell_type": "code",
   "execution_count": null,
   "metadata": {
    "collapsed": true
   },
   "outputs": [],
   "source": [
    "columns = ['agency_cd','site_no','sample_dt','sample_tm','sample_end_dt','sample_end_tm',\n",
    "           'sample_start_time_datum_cd','tm_datum_rlbty_cd','coll_ent_cd','medium_cd',\n",
    "           'tu_id','body_part_id','r00003','p00003','r00010','p00010','r00094','p00094',\n",
    "           'r00400','p00400','r00631','p00631','r00671','p00671','r00900','p00900','r00915',\n",
    "           'p00915','r00925','p00925','r00930','p00930','r00935','p00935','r00940','p00940',\n",
    "           'r00945','p00945','r00950','p00950','r00955','p00955','r01000','p01000','r01046',\n",
    "           'p01046','r22703','p22703','r70300','p70300','r71870','p71870','r90410','p90410']"
   ]
  },
  {
   "cell_type": "code",
   "execution_count": null,
   "metadata": {
    "collapsed": false,
    "scrolled": true
   },
   "outputs": [],
   "source": [
    "usgs_piv_path = 'E:/Google Drive/WORK/Groundwater Chemistry/USGS_data/qwdata_pivot'\n",
    "pd.read_csv(usgs_piv_path, sep = '\\t',skiprows=12438,names=columns)"
   ]
  },
  {
   "cell_type": "code",
   "execution_count": null,
   "metadata": {
    "collapsed": true
   },
   "outputs": [],
   "source": [
    "['']"
   ]
  },
  {
   "cell_type": "code",
   "execution_count": null,
   "metadata": {
    "collapsed": true
   },
   "outputs": [],
   "source": [
    "SQL = \"\"\"\n",
    "SELECT * FROM UTV80.TSAMCSMP \n",
    "WHERE \n",
    "UTV80.TSAMCSMP.FIELD_TEMP_MSR > 0 OR \n",
    "UTV80.TSAMCSMP.FIELD_PH_MEASURE > 0\n",
    "\"\"\""
   ]
  },
  {
   "cell_type": "code",
   "execution_count": null,
   "metadata": {
    "collapsed": false
   },
   "outputs": [],
   "source": [
    "df_ora"
   ]
  },
  {
   "cell_type": "code",
   "execution_count": null,
   "metadata": {
    "collapsed": true
   },
   "outputs": [],
   "source": []
  }
 ],
 "metadata": {
  "kernelspec": {
   "display_name": "Python 2",
   "language": "python",
   "name": "python2"
  },
  "language_info": {
   "codemirror_mode": {
    "name": "ipython",
    "version": 2
   },
   "file_extension": ".py",
   "mimetype": "text/x-python",
   "name": "python",
   "nbconvert_exporter": "python",
   "pygments_lexer": "ipython2",
   "version": "2.7.10"
  },
  "widgets": {
   "state": {},
   "version": "1.1.1"
  }
 },
 "nbformat": 4,
 "nbformat_minor": 0
}
